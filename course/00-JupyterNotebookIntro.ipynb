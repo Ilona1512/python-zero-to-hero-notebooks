{
 "cells": [
  {
   "cell_type": "markdown",
   "metadata": {},
   "source": [
    "# Welcome!! You are in an Jupyter Notebook. :)\n",
    "\n",
    "It is just an awesome interactive shell for Python and also supports other languages. \n",
    "The Jupyter Notebook is a web application that allows you to create and share documents that contain live code.\n",
    "It is perfect for experimenting and even doing more advanced work like data visualisation. You can read more about it  [here](https://jupyter.org).\n",
    "\n",
    "Let's begin."
   ]
  },
  {
   "cell_type": "markdown",
   "metadata": {},
   "source": [
    "## 1. Cells\n",
    "\n",
    "A notebook consists of cells.\n",
    "Each cell can be run and re-run independently from other cells, which is the most powerful and attractive feature of those notebooks.\n",
    "\n",
    "Here are the most useful shortcut that will acceletare your work:\n",
    "\n",
    "- SHIFT + ENTER: Run the cell and select the next cell.\n",
    "- CTRL + ENTER: Run the cell and stay in the current cell.\n",
    "- ALT + ENTER: Run the cell and create a new one after it."
   ]
  },
  {
   "cell_type": "markdown",
   "metadata": {},
   "source": [
    "By default, cells are made to execute Python, but you can change the cell type in the menu above and select, for example [Markdown](https://github.com/adam-p/markdown-here/wiki/Markdown-Cheatsheet), which will allow you to write and format text like this!"
   ]
  },
  {
   "cell_type": "code",
   "execution_count": null,
   "metadata": {
    "collapsed": false
   },
   "outputs": [],
   "source": []
  },
  {
   "cell_type": "markdown",
   "metadata": {},
   "source": [
    "## 2. Comments\n",
    "\n",
    "This brings us the next chapter: Comments!\n",
    "\n",
    "I cannot **emphasize** enough how important comments are! \n",
    "\n",
    "Take time to comment your code and it will be easier to understand it for you and your collegues, especially after 2 weeks not looking at it."
   ]
  },
  {
   "cell_type": "code",
   "execution_count": null,
   "metadata": {
    "collapsed": true
   },
   "outputs": [],
   "source": []
  },
  {
   "cell_type": "code",
   "execution_count": null,
   "metadata": {
    "collapsed": false
   },
   "outputs": [],
   "source": []
  },
  {
   "cell_type": "code",
   "execution_count": null,
   "metadata": {
    "collapsed": false
   },
   "outputs": [],
   "source": []
  },
  {
   "cell_type": "markdown",
   "metadata": {},
   "source": [
    "Jupyter Notebooks, or interative shells, are a bit special, because single line statement that return a value are automatically printed in the output. This is the reason that those two next cells have the same consequences in this notebook:"
   ]
  },
  {
   "cell_type": "code",
   "execution_count": null,
   "metadata": {
    "collapsed": false
   },
   "outputs": [],
   "source": []
  },
  {
   "cell_type": "code",
   "execution_count": null,
   "metadata": {
    "collapsed": false
   },
   "outputs": [],
   "source": []
  },
  {
   "cell_type": "code",
   "execution_count": null,
   "metadata": {
    "collapsed": false
   },
   "outputs": [],
   "source": []
  },
  {
   "cell_type": "code",
   "execution_count": null,
   "metadata": {
    "collapsed": true
   },
   "outputs": [],
   "source": []
  }
 ],
 "metadata": {
  "anaconda-cloud": {},
  "kernelspec": {
   "display_name": "Python [Root]",
   "language": "python",
   "name": "Python [Root]"
  },
  "language_info": {
   "codemirror_mode": {
    "name": "ipython",
    "version": 3
   },
   "file_extension": ".py",
   "mimetype": "text/x-python",
   "name": "python",
   "nbconvert_exporter": "python",
   "pygments_lexer": "ipython3",
   "version": "3.5.2"
  }
 },
 "nbformat": 4,
 "nbformat_minor": 0
}

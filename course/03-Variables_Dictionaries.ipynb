{
 "cells": [
  {
   "cell_type": "markdown",
   "metadata": {},
   "source": [
    "# Dictionaries\n",
    "\n",
    "A dictionary is a data structure to **map/associate** a **key** to a **value**. \n",
    "\n",
    "The important thing to know is that keys are unique in the dictionary. You map a value of any type to a specific unique key in the dictionary. If you map another value to that same key, then you override the previous value!\n",
    "\n",
    "Also keep in mind that keys must be of an immutable data type such as **strings, numbers, or tuples**.\n",
    "\n",
    "A dictionary is defined between curly braces {}, and not square brackets like lists [].\n",
    "\n",
    "A key and a value are separeted by a colon \":\" and key-value pairs are separated by commas \",\".\n",
    "\n",
    "And finally, dictionaries are unordered, meaning that they the order you put the keys in might not necessary be in the same order as when, for example, you print all keys.\n",
    "\n",
    "*If you know what is JSON, then dictionaries are pretty much the same.*"
   ]
  },
  {
   "cell_type": "code",
   "execution_count": null,
   "metadata": {
    "collapsed": false
   },
   "outputs": [],
   "source": [
    "# Initialize an empty dictionary using curly braces.\n",
    "\n",
    "print('Language Dictionary:', ...)"
   ]
  },
  {
   "cell_type": "code",
   "execution_count": null,
   "metadata": {
    "collapsed": false
   },
   "outputs": [],
   "source": [
    "# Initialize a dictionary with key-value pairs, that map\n",
    "# a language code (the key) to a language name (the value).\n",
    "# Here, we map a string to another string.\n",
    "...\n",
    "\n",
    "print('Language Dictionary:', ...)"
   ]
  },
  {
   "cell_type": "markdown",
   "metadata": {},
   "source": [
    "## Get a value for a key"
   ]
  },
  {
   "cell_type": "code",
   "execution_count": null,
   "metadata": {
    "collapsed": false
   },
   "outputs": [],
   "source": [
    "# You can get any value if you know the key\n",
    "..."
   ]
  },
  {
   "cell_type": "code",
   "execution_count": null,
   "metadata": {
    "collapsed": false
   },
   "outputs": [],
   "source": [
    "# Get all the keys:\n",
    "print( ... )"
   ]
  },
  {
   "cell_type": "code",
   "execution_count": null,
   "metadata": {
    "collapsed": false
   },
   "outputs": [],
   "source": [
    "# Get all the values:\n",
    "print( ... )"
   ]
  },
  {
   "cell_type": "markdown",
   "metadata": {},
   "source": [
    "## Example 1: Facebook Post Data"
   ]
  },
  {
   "cell_type": "markdown",
   "metadata": {},
   "source": [
    "Dictionaries are amazing and you can easily model a lot of things. You can build nested data structures by having a dictionary in a dictionary, dictionaries in a list or any kind of mix of data structures...\n",
    "\n",
    "To better get the feeling of how dictionaries work, we will use, as an example, a large dictionary that represents a Facebook Post."
   ]
  },
  {
   "cell_type": "code",
   "execution_count": null,
   "metadata": {
    "collapsed": false
   },
   "outputs": [],
   "source": [
    "fb_post = {\n",
    "    'author':'John Cena',\n",
    "    'date': '15/09/2016 14h00',\n",
    "    'post': 'While you may not win them all, YOU NEVER GIVE UP and come back even stronger.',\n",
    "    'image': 'http://www.notreallyfacebook.com/images/74c48ee',\n",
    "    'url': 'http://wwww.notreallyfacebook.com/post/294720',\n",
    "    'hashtags': [], # Empty list\n",
    "    'comments': [ # An array / list containing multiple dictionaries\n",
    "        {\n",
    "            'author': 'Charles',\n",
    "            'date': '15/09/2016 14h05',\n",
    "            'message': 'First Comment! Awesome',\n",
    "            'comments': [ # Let's add sub comments.\n",
    "                {\n",
    "                    'author': 'Angela',\n",
    "                    'date': '15/09/2016 14h06',\n",
    "                    'message': 'Why are people still doing that in 2016?'\n",
    "                }\n",
    "            ]\n",
    "        },\n",
    "        {\n",
    "            'author': 'Scott',\n",
    "            'date': '15/09/2016 14h08',\n",
    "            'message': 'Go John!'\n",
    "        },\n",
    "        {\n",
    "            'author': 'Anthony',\n",
    "            'date': '15/09/2016 14h15',\n",
    "            'message': 'This is some dose of motivation.'\n",
    "        }\n",
    "    ]\n",
    "}"
   ]
  },
  {
   "cell_type": "code",
   "execution_count": null,
   "metadata": {
    "collapsed": false
   },
   "outputs": [],
   "source": [
    "fb_post"
   ]
  },
  {
   "cell_type": "code",
   "execution_count": null,
   "metadata": {
    "collapsed": false
   },
   "outputs": [],
   "source": [
    "# Let's check how many comments there are:\n",
    "\n",
    "\n"
   ]
  },
  {
   "cell_type": "code",
   "execution_count": null,
   "metadata": {
    "collapsed": false
   },
   "outputs": [],
   "source": [
    "# The third comment (index starts at 0, remember)\n"
   ]
  },
  {
   "cell_type": "code",
   "execution_count": null,
   "metadata": {
    "collapsed": false
   },
   "outputs": [],
   "source": [
    "# The author of the first (index 0) comment.\n"
   ]
  },
  {
   "cell_type": "markdown",
   "metadata": {},
   "source": [
    "## Add or update a key-value pair\n",
    "\n",
    "You can add or change a value for a key in a dictionary.\n",
    "\n",
    "If you assign a value to an non-existent key, then it will be added."
   ]
  },
  {
   "cell_type": "code",
   "execution_count": null,
   "metadata": {
    "collapsed": false
   },
   "outputs": [],
   "source": [
    "# There was no 'likes' key in the dictionary, so this will fail\n"
   ]
  },
  {
   "cell_type": "code",
   "execution_count": null,
   "metadata": {
    "collapsed": false
   },
   "outputs": [],
   "source": [
    "# We add the value 459 to the key 'likes'\n",
    "\n",
    "\n",
    "print('Is the key \"like\" in the dictionary?', ...) # \"in\" covered in later lessons\n",
    "print('Likes:', ...)"
   ]
  },
  {
   "cell_type": "code",
   "execution_count": null,
   "metadata": {
    "collapsed": false
   },
   "outputs": [],
   "source": [
    "# Change / Update the value for a key\n",
    "\n",
    "# Add 1 to the value of the key 'likes'\n",
    "\n",
    "print('Likes:', ...)"
   ]
  },
  {
   "cell_type": "code",
   "execution_count": null,
   "metadata": {
    "collapsed": false
   },
   "outputs": [],
   "source": [
    "# Prints only the keys at the first level!\n"
   ]
  },
  {
   "cell_type": "markdown",
   "metadata": {},
   "source": [
    "## Remove a key-value pair\n",
    "\n",
    "There are 2 techniques for removing a key and its value."
   ]
  },
  {
   "cell_type": "code",
   "execution_count": null,
   "metadata": {
    "collapsed": false
   },
   "outputs": [],
   "source": [
    "# First technique:\n",
    "print('Technique 1:')\n",
    "\n",
    "\n",
    "print('1) Dictionary:', ...)\n",
    "\n",
    "# Deletes the value associated to the key 'a'\n",
    "\n",
    "\n",
    "print('2) Dictionary:', ...)"
   ]
  },
  {
   "cell_type": "code",
   "execution_count": null,
   "metadata": {
    "collapsed": false
   },
   "outputs": [],
   "source": [
    "# Second technique:\n",
    "print('Technique 2:')\n",
    "\n",
    "# Pop(), takes the value associated with the key 'b' out, returns it and removes it from the dictionary.\n",
    "\n",
    "\n",
    "print('3) Dictionary:', ...)\n",
    "\n",
    "print('Value of b:', ...)"
   ]
  },
  {
   "cell_type": "markdown",
   "metadata": {
    "collapsed": true
   },
   "source": [
    "# Sets (BONUS)\n",
    "\n",
    "Python also includes a data type for sets. A set is an unordered collection with no duplicate elements. Basic usage include membership testing and eliminating duplicate entries. Set objects also support mathematical operations like union, intersection, difference, and symmetric difference.\n",
    "\n",
    "Curly braces or the set() function can be used to create sets. Note: to create an empty set you have to use set(), not {}; the latter creates an empty dictionary, a data structure that we discuss in the next section.\n",
    "\n",
    "https://docs.python.org/3/tutorial/datastructures.html#sets"
   ]
  },
  {
   "cell_type": "code",
   "execution_count": null,
   "metadata": {
    "collapsed": false
   },
   "outputs": [],
   "source": [
    "\n",
    "\n",
    "print('Set A:', ...)\n",
    "print('Set B:', ...)"
   ]
  },
  {
   "cell_type": "code",
   "execution_count": null,
   "metadata": {
    "collapsed": false
   },
   "outputs": [],
   "source": [
    "\n",
    "\n",
    "print('Set A:', ...)\n",
    "print('Set B:', ...)"
   ]
  },
  {
   "cell_type": "code",
   "execution_count": null,
   "metadata": {
    "collapsed": false
   },
   "outputs": [],
   "source": [
    "\n",
    "\n",
    "print('Set C:', ...)"
   ]
  },
  {
   "cell_type": "code",
   "execution_count": null,
   "metadata": {
    "collapsed": false
   },
   "outputs": [],
   "source": [
    "print('Empty set:', ...)"
   ]
  },
  {
   "cell_type": "code",
   "execution_count": null,
   "metadata": {
    "collapsed": false
   },
   "outputs": [],
   "source": [
    "# Small example to demonstarte operations on sets. Check the documentation if you need a bit more details. \n",
    "\n",
    "# Numbers in a but not b\n",
    "\n",
    "\n",
    "# Numbers in either a or b\n",
    "\n",
    "\n",
    "# Numbers in both a and b\n",
    "\n",
    "\n",
    "# Numbers in a or b, but not both\n"
   ]
  },
  {
   "cell_type": "code",
   "execution_count": null,
   "metadata": {
    "collapsed": true
   },
   "outputs": [],
   "source": []
  }
 ],
 "metadata": {
  "anaconda-cloud": {},
  "kernelspec": {
   "display_name": "Python [Root]",
   "language": "python",
   "name": "Python [Root]"
  },
  "language_info": {
   "codemirror_mode": {
    "name": "ipython",
    "version": 3
   },
   "file_extension": ".py",
   "mimetype": "text/x-python",
   "name": "python",
   "nbconvert_exporter": "python",
   "pygments_lexer": "ipython3",
   "version": "3.5.2"
  }
 },
 "nbformat": 4,
 "nbformat_minor": 0
}

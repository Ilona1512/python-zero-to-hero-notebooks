{
 "cells": [
  {
   "cell_type": "markdown",
   "metadata": {},
   "source": [
    "In this notebook you will get to learn the basics of arithemic operators and arithmetic comparisons.\n",
    "\n",
    "# 1. Arthimetic Operators"
   ]
  },
  {
   "cell_type": "markdown",
   "metadata": {},
   "source": [
    "Starting with arithmetic operators, we will cover:\n",
    "\n",
    "Operator         |  Syntax\n",
    "-----------------|:----:\n",
    "Addition         | x \\+ y\n",
    "Substraction     | x \\- y\n",
    "Multiplication    | x \\* y\n",
    "Division         | x / y\n",
    "Modulus          | x % y\n",
    "Exponent (Power) | x**y"
   ]
  },
  {
   "cell_type": "markdown",
   "metadata": {},
   "source": [
    "### Addition\n",
    "\n",
    "Addition is done with the plus sign \"+\"."
   ]
  },
  {
   "cell_type": "code",
   "execution_count": null,
   "metadata": {
    "collapsed": false
   },
   "outputs": [],
   "source": [
    "...\n",
    "print('a =', a)\n",
    "\n",
    "#...\n",
    "#print('a + 1 =', a)\n",
    "\n",
    "#...\n",
    "#print('a + 50 =', a)\n",
    "\n",
    "#...\n",
    "#print('a + 0.89 =', a)"
   ]
  },
  {
   "cell_type": "code",
   "execution_count": null,
   "metadata": {
    "collapsed": false
   },
   "outputs": [],
   "source": [
    "...\n",
    "print('a =', a)\n",
    "\n",
    "#...\n",
    "#print('a + 1 =', a)\n",
    "\n",
    "#...\n",
    "#print('a + 50 =', a)\n",
    "\n",
    "#...\n",
    "#print('a + 0.89 =', a)"
   ]
  },
  {
   "cell_type": "markdown",
   "metadata": {},
   "source": [
    "### Substraction\n",
    "\n",
    "Substraction is done with the minus sign \"-\"."
   ]
  },
  {
   "cell_type": "code",
   "execution_count": null,
   "metadata": {
    "collapsed": false
   },
   "outputs": [],
   "source": [
    "...\n",
    "print('a =', a)\n",
    "\n",
    "#...\n",
    "#print('a - 1 =', a)\n",
    "\n",
    "#...\n",
    "#print('a - 49 =', a)\n",
    "\n",
    "#...\n",
    "#print('a - 55.45 =', a)"
   ]
  },
  {
   "cell_type": "code",
   "execution_count": null,
   "metadata": {
    "collapsed": false
   },
   "outputs": [],
   "source": [
    "...\n",
    "print('a =', a)\n",
    "\n",
    "#...\n",
    "#print('a - 1 =', a)\n",
    "\n",
    "#...\n",
    "#print('a - 49 =', a)\n",
    "\n",
    "#...\n",
    "#print('a - 55.45 =', a)"
   ]
  },
  {
   "cell_type": "markdown",
   "metadata": {},
   "source": [
    "### Multiplication\n",
    "\n",
    "Multiplication is done with the star sign \"*\"."
   ]
  },
  {
   "cell_type": "code",
   "execution_count": null,
   "metadata": {
    "collapsed": false
   },
   "outputs": [],
   "source": [
    "...\n",
    "print('a =', a)\n",
    "\n",
    "#...\n",
    "#print('a * 10 =', a)\n",
    "\n",
    "#...\n",
    "#print('a * 0.5 =', a)\n",
    "\n",
    "#...\n",
    "#print('a * (-1) =', a)"
   ]
  },
  {
   "cell_type": "code",
   "execution_count": null,
   "metadata": {
    "collapsed": false
   },
   "outputs": [],
   "source": [
    "...\n",
    "print('a =', a)\n",
    "\n",
    "#...\n",
    "#print('a * 10 =', a)\n",
    "\n",
    "#...\n",
    "#print('a * 0.5 =', a)\n",
    "\n",
    "#...\n",
    "#print('a * (-1) =', a)"
   ]
  },
  {
   "cell_type": "markdown",
   "metadata": {},
   "source": [
    "### Division\n",
    "\n",
    "Division is done with the forward slash sign \"/\"."
   ]
  },
  {
   "cell_type": "code",
   "execution_count": null,
   "metadata": {
    "collapsed": false
   },
   "outputs": [],
   "source": [
    "...\n",
    "print('a =', a)\n",
    "\n",
    "...\n",
    "print('a / 2 =', a)\n",
    "\n",
    "...\n",
    "print('a / 4 =', a)\n",
    "\n",
    "...\n",
    "print('a / 10000 =', a)"
   ]
  },
  {
   "cell_type": "code",
   "execution_count": null,
   "metadata": {
    "collapsed": false
   },
   "outputs": [],
   "source": [
    "...\n",
    "print('a =', a)\n",
    "\n",
    "#...\n",
    "#print('a / 2 =', a)\n",
    "\n",
    "#...\n",
    "#print('a / 4 =', a)\n",
    "\n",
    "#...\n",
    "#print('a / 10000 =', a)"
   ]
  },
  {
   "cell_type": "markdown",
   "metadata": {},
   "source": [
    "### Modulus\n",
    "\n",
    "The modulus operator divides 2 values and returns the remainder.\n",
    "\n",
    "Modulus is done with the percentage sign \"%\"."
   ]
  },
  {
   "cell_type": "code",
   "execution_count": null,
   "metadata": {
    "collapsed": false
   },
   "outputs": [],
   "source": [
    "...\n",
    "print('4 % 2 =', ...)\n",
    "print('4 / 2 =', ...)\n",
    "\n",
    "# You can put 2 two times in 4 and there is no remainder."
   ]
  },
  {
   "cell_type": "code",
   "execution_count": null,
   "metadata": {
    "collapsed": false
   },
   "outputs": [],
   "source": [
    "...\n",
    "print('4 % 3 =', ...)\n",
    "print('4 / 3 =', ...)\n",
    "\n",
    "# You can put 3 only once in 4 and there is some remainder."
   ]
  },
  {
   "cell_type": "code",
   "execution_count": null,
   "metadata": {
    "collapsed": false
   },
   "outputs": [],
   "source": [
    "...\n",
    "print('4 % 4 =', ...)\n",
    "print('4 / 4 =', ...)\n",
    "\n",
    "# You can put 4 once in 4 and there is no remainder."
   ]
  },
  {
   "cell_type": "code",
   "execution_count": null,
   "metadata": {
    "collapsed": false
   },
   "outputs": [],
   "source": [
    "...\n",
    "print('4 % 5 =', ...)\n",
    "print('4 / 5 =', ...)\n",
    "\n",
    "# You can put 5 zero time in 4, so everything remains."
   ]
  },
  {
   "cell_type": "code",
   "execution_count": null,
   "metadata": {
    "collapsed": false
   },
   "outputs": [],
   "source": [
    "...\n",
    "print('4 % 8 =', ...)\n",
    "print('4 / 8 =', ...)\n",
    "\n",
    "# You can put 8 zero time in 4, so everything remains."
   ]
  },
  {
   "cell_type": "markdown",
   "metadata": {},
   "source": [
    "Let's make a small loop to see the behavior of the modulus operator"
   ]
  },
  {
   "cell_type": "code",
   "execution_count": null,
   "metadata": {
    "collapsed": false
   },
   "outputs": [],
   "source": [
    "\n",
    "    \n",
    "# Note: When formatting a string with %d, %s, etc, you need to use %% in order to print 1 percentage sign."
   ]
  },
  {
   "cell_type": "code",
   "execution_count": null,
   "metadata": {
    "collapsed": false
   },
   "outputs": [],
   "source": []
  },
  {
   "cell_type": "markdown",
   "metadata": {},
   "source": [
    "### Exponent (Power)\n",
    "\n",
    "Exponent is done with double star \"**\"."
   ]
  },
  {
   "cell_type": "code",
   "execution_count": null,
   "metadata": {
    "collapsed": false
   },
   "outputs": [],
   "source": []
  },
  {
   "cell_type": "markdown",
   "metadata": {
    "collapsed": true
   },
   "source": [
    "# 2. Arithmetic Comparison\n",
    "\n",
    "Starting with arithmetic operators, we will cover:\n",
    "\n",
    "Description      |  Syntax\n",
    "-----------------|:----:\n",
    "Equal                 | x == y\n",
    "Not Equal             | x != y\n",
    "Less Than             | x < y\n",
    "Greater Than          | x > y\n",
    "Less Than or Equal    | x <= y\n",
    "Greater Than or Equal | x >= y"
   ]
  },
  {
   "cell_type": "markdown",
   "metadata": {},
   "source": [
    "There exists many ways to check if 2 values are equal or not."
   ]
  },
  {
   "cell_type": "code",
   "execution_count": null,
   "metadata": {
    "collapsed": false
   },
   "outputs": [],
   "source": [
    "# Let's go to the gym and check the weights.\n",
    "\n"
   ]
  },
  {
   "cell_type": "code",
   "execution_count": null,
   "metadata": {
    "collapsed": false
   },
   "outputs": [],
   "source": [
    "... # 10 == 20"
   ]
  },
  {
   "cell_type": "code",
   "execution_count": null,
   "metadata": {
    "collapsed": false
   },
   "outputs": [],
   "source": [
    "... # 10 != 20\n",
    "\n",
    "# Those are all the same\n",
    "... # not (10 == 20)"
   ]
  },
  {
   "cell_type": "code",
   "execution_count": null,
   "metadata": {
    "collapsed": false
   },
   "outputs": [],
   "source": [
    "...   # 10 <  20\n",
    "...  # 10 <= 20"
   ]
  },
  {
   "cell_type": "code",
   "execution_count": null,
   "metadata": {
    "collapsed": false
   },
   "outputs": [],
   "source": [
    "...  # 10 < 10\n",
    "...  # 10 > 10"
   ]
  },
  {
   "cell_type": "code",
   "execution_count": null,
   "metadata": {
    "collapsed": false
   },
   "outputs": [],
   "source": [
    "...  # 10 <= 10\n",
    "...  # 10 >= 10"
   ]
  },
  {
   "cell_type": "markdown",
   "metadata": {},
   "source": [
    "<, >, <=, >=, ==, != works for all numbers and even on strings!\n",
    "\n",
    "On Strings (from the [docs](https://docs.python.org/3/tutorial/datastructures.html#comparing-sequences-and-other-types)):\n",
    "\n",
    "*The comparison uses lexicographical ordering: first the first two items are compared, and if they differ this determines the outcome of the comparison; if they are equal, the next two items are compared, and so on, until either sequence is exhausted.*\n",
    "\n",
    "*Lexicographical ordering for strings uses the ASCII ordering for individual characters.*"
   ]
  },
  {
   "cell_type": "code",
   "execution_count": null,
   "metadata": {
    "collapsed": false
   },
   "outputs": [],
   "source": []
  },
  {
   "cell_type": "code",
   "execution_count": null,
   "metadata": {
    "collapsed": false
   },
   "outputs": [],
   "source": []
  },
  {
   "cell_type": "code",
   "execution_count": null,
   "metadata": {
    "collapsed": false
   },
   "outputs": [],
   "source": []
  },
  {
   "cell_type": "code",
   "execution_count": null,
   "metadata": {
    "collapsed": false
   },
   "outputs": [],
   "source": [
    "# Refer to the documenation. 'a' comes before 'b' in the ASCII ordering, so it is smaller than 'b'.\n"
   ]
  },
  {
   "cell_type": "code",
   "execution_count": null,
   "metadata": {
    "collapsed": false
   },
   "outputs": [],
   "source": [
    "\n",
    "\n",
    "# ord() : Given a string of length one, return an integer \n",
    "# representing the Unicode code point of the character when \n",
    "# the argument is a unicode object, or the value of the byte \n",
    "# when the argument is an 8-bit string."
   ]
  },
  {
   "cell_type": "code",
   "execution_count": null,
   "metadata": {
    "collapsed": false
   },
   "outputs": [],
   "source": []
  },
  {
   "cell_type": "code",
   "execution_count": null,
   "metadata": {
    "collapsed": true
   },
   "outputs": [],
   "source": []
  }
 ],
 "metadata": {
  "anaconda-cloud": {},
  "kernelspec": {
   "display_name": "Python [Root]",
   "language": "python",
   "name": "Python [Root]"
  },
  "language_info": {
   "codemirror_mode": {
    "name": "ipython",
    "version": 3
   },
   "file_extension": ".py",
   "mimetype": "text/x-python",
   "name": "python",
   "nbconvert_exporter": "python",
   "pygments_lexer": "ipython3",
   "version": "3.5.2"
  }
 },
 "nbformat": 4,
 "nbformat_minor": 0
}

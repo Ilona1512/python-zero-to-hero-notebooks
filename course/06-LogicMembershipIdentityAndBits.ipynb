{
 "cells": [
  {
   "cell_type": "markdown",
   "metadata": {},
   "source": [
    "# Logic, Membership and Identity"
   ]
  },
  {
   "cell_type": "markdown",
   "metadata": {},
   "source": [
    "This short notebook will show you how to make logical comparisons, test memberships and identities in Python.\n",
    "\n",
    "As a bonus, we will also see how bitwise operators work."
   ]
  },
  {
   "cell_type": "markdown",
   "metadata": {},
   "source": [
    "# 1. Logical Operators\n",
    "\n",
    "In python there are only 3 logical operators:\n",
    "\n",
    "- and\n",
    "- or\n",
    "- not"
   ]
  },
  {
   "cell_type": "markdown",
   "metadata": {},
   "source": [
    "## Logical AND\n",
    "\n",
    "Here is the truth table for the AND operator.\n",
    "\n",
    "**With 0 and 1:**\n",
    "\n",
    " A | B | A AND B\n",
    "---|---|:--------:\n",
    " 0 | 0 | 0\n",
    " 0 | 1 | 0\n",
    " 1 | 0 | 0\n",
    " 1 | 1 | 1\n",
    "\n",
    "**With False and True:**\n",
    " \n",
    "  A | B | A AND B\n",
    ":---:|:---:|:--------:\n",
    " False | False | False\n",
    " False | True | False\n",
    " True  | False | False\n",
    " True  | True | True"
   ]
  },
  {
   "cell_type": "code",
   "execution_count": null,
   "metadata": {
    "collapsed": false
   },
   "outputs": [],
   "source": [
    "# Assume we want to make sure that a user has filled up all information for signing up.\n",
    "\n",
    "..."
   ]
  },
  {
   "cell_type": "code",
   "execution_count": null,
   "metadata": {
    "collapsed": false
   },
   "outputs": [],
   "source": [
    "can_sign_up = ...\n",
    "\n",
    "print('Can user sign up?', can_sign_up)"
   ]
  },
  {
   "cell_type": "code",
   "execution_count": null,
   "metadata": {
    "collapsed": true
   },
   "outputs": [],
   "source": []
  },
  {
   "cell_type": "code",
   "execution_count": null,
   "metadata": {
    "collapsed": false
   },
   "outputs": [],
   "source": [
    "can_sign_up = ...\n",
    "\n",
    "print('Can user sign up?', can_sign_up)"
   ]
  },
  {
   "cell_type": "markdown",
   "metadata": {},
   "source": [
    "## Logical OR\n",
    "\n",
    "Here is the truth table for the OR operator.\n",
    "\n",
    "**With 0 and 1:**\n",
    "\n",
    " A | B | A OR B\n",
    "---|---|:--------:\n",
    " 0 | 0 | 0\n",
    " 0 | 1 | 1\n",
    " 1 | 0 | 1\n",
    " 1 | 1 | 1\n",
    "\n",
    "**With False and True:**\n",
    " \n",
    "  A  |  B  | A OR B\n",
    ":---:|:---:|:--------:\n",
    " False | False | False\n",
    " False | True  | True\n",
    " True  | False | True\n",
    " True  | True  | True"
   ]
  },
  {
   "cell_type": "code",
   "execution_count": null,
   "metadata": {
    "collapsed": true
   },
   "outputs": [],
   "source": [
    "# Assume it's the Zombie appocalypse! If you have been infected by the virus or have been bitten, you will turn!\n"
   ]
  },
  {
   "cell_type": "code",
   "execution_count": null,
   "metadata": {
    "collapsed": false
   },
   "outputs": [],
   "source": [
    "will_become_zombie = ...\n",
    "\n",
    "print('Will you become a zombie?', will_become_zombie)"
   ]
  },
  {
   "cell_type": "markdown",
   "metadata": {},
   "source": [
    "## Logical NOT\n",
    "\n",
    "Here is the truth table for the OR operator.\n",
    "\n",
    "**With 0 and 1:**\n",
    "\n",
    " A | NOT A\n",
    "---|:-----:\n",
    " 0 | 1\n",
    " 1 | 0\n",
    "\n",
    "**With False and True:**\n",
    " \n",
    "  A  | NOT A\n",
    ":---:|:-----:\n",
    " False | True\n",
    " True  | False"
   ]
  },
  {
   "cell_type": "code",
   "execution_count": null,
   "metadata": {
    "collapsed": true
   },
   "outputs": [],
   "source": []
  },
  {
   "cell_type": "code",
   "execution_count": null,
   "metadata": {
    "collapsed": false
   },
   "outputs": [],
   "source": []
  },
  {
   "cell_type": "code",
   "execution_count": null,
   "metadata": {
    "collapsed": false
   },
   "outputs": [],
   "source": [
    "print('Is Rich? ', ...)\n",
    "print('Is Poor? ', ...)"
   ]
  },
  {
   "cell_type": "markdown",
   "metadata": {},
   "source": [
    "## Combination of everything\n",
    "\n",
    "Obviously you can combine any operator to create more complex logic. However, splitting your logic into multiple lines and variables is often more readable and makes it easier understandable!\n",
    "\n",
    "**Remember** that **and** is evaluated before **or** and **not**."
   ]
  },
  {
   "cell_type": "code",
   "execution_count": null,
   "metadata": {
    "collapsed": false
   },
   "outputs": [],
   "source": [
    "# Assume we want a steak with salt, no pepper and cooked rare or medium\n",
    "\n",
    "...\n",
    "\n",
    "is_steak_ready = ...\n",
    "\n",
    "\n",
    "print('Is steak ready?', is_steak_ready)"
   ]
  },
  {
   "cell_type": "markdown",
   "metadata": {},
   "source": [
    "# 2. Membership Operators\n",
    "\n",
    "**in** is the keyword to test if the left-hand object is in the right-hand object. It's very useful to use on dictionaries as you will see."
   ]
  },
  {
   "cell_type": "code",
   "execution_count": null,
   "metadata": {
    "collapsed": false
   },
   "outputs": [],
   "source": [
    "# Let's just define a list and a dictionary\n",
    "\n",
    "numbers = [4, 8, 15, 16, 23, 42]\n",
    "\n",
    "elements = {\n",
    "    'Cu': 'Copper', \n",
    "    'Ag': 'Silver', \n",
    "    'Au':'Gold', \n",
    "    'Pt':'Platinium'\n",
    "}"
   ]
  },
  {
   "cell_type": "code",
   "execution_count": null,
   "metadata": {
    "collapsed": false
   },
   "outputs": [],
   "source": [
    "# Is 4 in the list of numbers?\n"
   ]
  },
  {
   "cell_type": "code",
   "execution_count": null,
   "metadata": {
    "collapsed": false
   },
   "outputs": [],
   "source": [
    "# Is 42 in the list of numbers?\n"
   ]
  },
  {
   "cell_type": "code",
   "execution_count": null,
   "metadata": {
    "collapsed": false
   },
   "outputs": [],
   "source": [
    "# Is 100 in the list of numbers?\n"
   ]
  },
  {
   "cell_type": "code",
   "execution_count": null,
   "metadata": {
    "collapsed": false
   },
   "outputs": [],
   "source": [
    "# Is 100 not in the list of numbers?\n"
   ]
  },
  {
   "cell_type": "code",
   "execution_count": null,
   "metadata": {
    "collapsed": false
   },
   "outputs": [],
   "source": [
    "# The opposite of \"Is 100 in the list of numbers?\" \n"
   ]
  },
  {
   "cell_type": "code",
   "execution_count": null,
   "metadata": {
    "collapsed": false
   },
   "outputs": [],
   "source": [
    "# Is 'Cu' in the keys of the elements dictionary\n"
   ]
  },
  {
   "cell_type": "code",
   "execution_count": null,
   "metadata": {
    "collapsed": false
   },
   "outputs": [],
   "source": [
    "# Is 'Copper' in the keys of the elements dictionary\n"
   ]
  },
  {
   "cell_type": "code",
   "execution_count": null,
   "metadata": {
    "collapsed": false
   },
   "outputs": [],
   "source": [
    "# Is 'Copper' in the values of the elements dictionary\n"
   ]
  },
  {
   "cell_type": "markdown",
   "metadata": {},
   "source": [
    "# 3. Identity Operators\n",
    "\n",
    "**is** is the keyword to test the identity of an object. Combined with the built-in function **type()**, it is really useful for type checking your variables."
   ]
  },
  {
   "cell_type": "code",
   "execution_count": null,
   "metadata": {
    "collapsed": false
   },
   "outputs": [],
   "source": [
    "# Is 1 an integer?\n"
   ]
  },
  {
   "cell_type": "code",
   "execution_count": null,
   "metadata": {
    "collapsed": false
   },
   "outputs": [],
   "source": [
    "# Is the type of 1 an integer?\n"
   ]
  },
  {
   "cell_type": "code",
   "execution_count": null,
   "metadata": {
    "collapsed": false
   },
   "outputs": [],
   "source": [
    "# Is the type of 15.6 an integer?\n"
   ]
  },
  {
   "cell_type": "code",
   "execution_count": null,
   "metadata": {
    "collapsed": false
   },
   "outputs": [],
   "source": []
  },
  {
   "cell_type": "code",
   "execution_count": null,
   "metadata": {
    "collapsed": false
   },
   "outputs": [],
   "source": [
    "# Is the type of 15.6 a float?\n"
   ]
  },
  {
   "cell_type": "code",
   "execution_count": null,
   "metadata": {
    "collapsed": false
   },
   "outputs": [],
   "source": [
    "# Is \"Hello\" not an integer?\n"
   ]
  },
  {
   "cell_type": "code",
   "execution_count": null,
   "metadata": {
    "collapsed": false
   },
   "outputs": [],
   "source": [
    "# Is \"Apple\" an \"Orange\"?\n"
   ]
  },
  {
   "cell_type": "code",
   "execution_count": null,
   "metadata": {
    "collapsed": false
   },
   "outputs": [],
   "source": [
    "# Is \"Apple\" an \"Apple\"?\n"
   ]
  },
  {
   "cell_type": "markdown",
   "metadata": {},
   "source": [
    "# (Bonus) Bitwise Operators\n",
    "\n",
    "For manipulating bits in Python you have the following options:\n",
    "\n",
    "Operation         | Syntax\n",
    "------------------|:------:\n",
    "AND               | a & b\n",
    "OR                | a &#124; b\n",
    "NOT               | ~ a \n",
    "XOR               | a ^ b\n",
    "Binary left shift | a << b\n",
    "Binary right shift| a >> b"
   ]
  },
  {
   "cell_type": "markdown",
   "metadata": {},
   "source": [
    "## Bitwise AND"
   ]
  },
  {
   "cell_type": "code",
   "execution_count": null,
   "metadata": {
    "collapsed": false
   },
   "outputs": [],
   "source": [
    "print('0 AND 0 =', ...)\n",
    "print('0 AND 1 =', ...)\n",
    "print('1 AND 0 =', ...)\n",
    "print('1 AND 1 =', ...)"
   ]
  },
  {
   "cell_type": "code",
   "execution_count": null,
   "metadata": {
    "collapsed": false
   },
   "outputs": [],
   "source": [
    "# Example\n",
    "print('16 in binary         =', ...)\n",
    "print('27 in binary         =', ...)\n",
    "print('16 AND 25 in binary  =', ...)\n",
    "print('16 AND 25 in integer =', ...)"
   ]
  },
  {
   "cell_type": "markdown",
   "metadata": {},
   "source": [
    "## Bitwise OR"
   ]
  },
  {
   "cell_type": "code",
   "execution_count": null,
   "metadata": {
    "collapsed": false
   },
   "outputs": [],
   "source": [
    "print('0 OR 0 =', ...)\n",
    "print('0 OR 1 =', ...)\n",
    "print('1 OR 0 =', ...)\n",
    "print('1 OR 1 =', ...)"
   ]
  },
  {
   "cell_type": "code",
   "execution_count": null,
   "metadata": {
    "collapsed": false
   },
   "outputs": [],
   "source": [
    "# Example\n",
    "print('16 in binary        =', ...)\n",
    "print('27 in binary        =', ...)\n",
    "print('16 OR 25 in binary  =', ...)\n",
    "print('16 OR 25 in integer =', ...)"
   ]
  },
  {
   "cell_type": "markdown",
   "metadata": {},
   "source": [
    "## Bitwise XOR"
   ]
  },
  {
   "cell_type": "code",
   "execution_count": null,
   "metadata": {
    "collapsed": false
   },
   "outputs": [],
   "source": [
    "print('0 XOR 0 =', ...)\n",
    "print('0 XOR 1 =', ...)\n",
    "print('1 XOR 0 =', ...)\n",
    "print('1 XOR 1 =', ...)"
   ]
  },
  {
   "cell_type": "code",
   "execution_count": null,
   "metadata": {
    "collapsed": false
   },
   "outputs": [],
   "source": [
    "# Example\n",
    "print('16 in binary         =', ...)\n",
    "print('27 in binary         =', ...)\n",
    "print('16 XOR 25 in binary  =', ...)\n",
    "print('16 XOR 25 in integer =', ...)"
   ]
  },
  {
   "cell_type": "markdown",
   "metadata": {},
   "source": [
    "## Bitwise NOT\n",
    "\n",
    "Returns the complement of x, which is the number you get by switching each 1 for a 0 and each 0 for a 1.\n",
    "\n",
    "This is the same as -x - 1."
   ]
  },
  {
   "cell_type": "code",
   "execution_count": null,
   "metadata": {
    "collapsed": false
   },
   "outputs": [],
   "source": [
    "print('NOT 0 =', ...)\n",
    "print('NOT 1 =', ...)"
   ]
  },
  {
   "cell_type": "code",
   "execution_count": null,
   "metadata": {
    "collapsed": false
   },
   "outputs": [],
   "source": [
    "print('    0 in binary =', ...)\n",
    "print('NOT 0 in binary =', ...)\n",
    "\n",
    "print('    1 in binary =', ...)\n",
    "print('NOT 1 in binary =', ...)"
   ]
  },
  {
   "cell_type": "code",
   "execution_count": null,
   "metadata": {
    "collapsed": false
   },
   "outputs": [],
   "source": [
    "print('    20 in binary =', ...)\n",
    "print('NOT 20 in binary =', ...)\n",
    "\n",
    "print('    64 in binary =', ...)\n",
    "print('NOT 64 in binary =', ...)"
   ]
  },
  {
   "cell_type": "markdown",
   "metadata": {},
   "source": [
    "## Binary Left Shift\n",
    "\n",
    "Returns x with the bits shifted to the left by y places (and new bits on the right-hand-side are zeros). This is the same as multiplying x by 2^y (2 to the power of y)."
   ]
  },
  {
   "cell_type": "code",
   "execution_count": null,
   "metadata": {
    "collapsed": false
   },
   "outputs": [],
   "source": [
    "print(bin(5)) # 5 * 2**0\n",
    "print(bin(5 << 1)) # 5 * 2**1\n",
    "print(bin(5 << 2)) # 5 * 2**2\n",
    "print(bin(5 << 3)) # 5 * 2**3\n",
    "print(bin(5 << 4)) # 5 * 2**4\n",
    "print(bin(5 << 5)) # 5 * 2**5"
   ]
  },
  {
   "cell_type": "code",
   "execution_count": null,
   "metadata": {
    "collapsed": false
   },
   "outputs": [],
   "source": [
    "print(2) # 2 * 2**0\n",
    "print(2 << 1) # 2 * 2**1\n",
    "print(2 << 2) # 2 * 2**2\n",
    "print(2 << 3) # 2 * 2**3\n",
    "print(2 << 4) # 2 * 2**4\n",
    "print(2 << 5) # 2 * 2**5\n",
    "print(2 << 6) # 2 * 2**6"
   ]
  },
  {
   "cell_type": "code",
   "execution_count": null,
   "metadata": {
    "collapsed": false
   },
   "outputs": [],
   "source": [
    "2 * 2**6"
   ]
  },
  {
   "cell_type": "markdown",
   "metadata": {},
   "source": [
    "## Binary Right Shift\n",
    "\n",
    "Returns x with the bits shifted to the right by y places. This is the same as dividing (floor division: //) x by 2^y (2 to the power of y)."
   ]
  },
  {
   "cell_type": "code",
   "execution_count": null,
   "metadata": {
    "collapsed": false
   },
   "outputs": [],
   "source": [
    "print(bin(64)) # 64 / 2**0\n",
    "print(bin(64 >> 1)) # 64 / 2**1\n",
    "print(bin(64 >> 2)) # 64 / 2**2\n",
    "print(bin(64 >> 3)) # 64 / 2**3\n",
    "print(bin(64 >> 4)) # 64 / 2**4\n",
    "print(bin(64 >> 5)) # 64 / 2**5"
   ]
  },
  {
   "cell_type": "code",
   "execution_count": null,
   "metadata": {
    "collapsed": false
   },
   "outputs": [],
   "source": [
    "print(128) # 128 / 2**0\n",
    "print(128 >> 1) # 128 / 2**1\n",
    "print(128 >> 2) # 128 / 2**2\n",
    "print(128 >> 3) # 128 / 2**3\n",
    "print(128 >> 4) # 128 / 2**4\n",
    "print(128 >> 5) # 128 / 2**5\n",
    "print(128 >> 6) # 128 / 2**6"
   ]
  },
  {
   "cell_type": "code",
   "execution_count": null,
   "metadata": {
    "collapsed": false
   },
   "outputs": [],
   "source": [
    "128 // (2**6)"
   ]
  },
  {
   "cell_type": "code",
   "execution_count": null,
   "metadata": {
    "collapsed": true
   },
   "outputs": [],
   "source": []
  }
 ],
 "metadata": {
  "kernelspec": {
   "display_name": "Python [Root]",
   "language": "python",
   "name": "Python [Root]"
  },
  "language_info": {
   "codemirror_mode": {
    "name": "ipython",
    "version": 3
   },
   "file_extension": ".py",
   "mimetype": "text/x-python",
   "name": "python",
   "nbconvert_exporter": "python",
   "pygments_lexer": "ipython3",
   "version": "3.5.2"
  }
 },
 "nbformat": 4,
 "nbformat_minor": 0
}

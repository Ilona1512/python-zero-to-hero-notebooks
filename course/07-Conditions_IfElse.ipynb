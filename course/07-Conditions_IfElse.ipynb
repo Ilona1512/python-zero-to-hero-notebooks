{
 "cells": [
  {
   "cell_type": "markdown",
   "metadata": {},
   "source": [
    "# Conditions: IF...ELIF...ELSE Statements\n",
    "\n",
    "Conditions, or if-else statements, are your most precious tools for making your program take decisions!\n",
    "\n",
    "> **If** winter arrived, **then** stop saying that winter is coming.\n",
    "\n",
    "> **If** \"Balrog\" is running towards you, **then** say \"YOU SHALL NOT PASS\" in a loud and epic voice, **otherwise (else)**, do nothing.\n",
    "\n",
    "> **If** those are the droids you are looking for, **then** arrest them, **otherwise (else)** continue looking.\n",
    "\n",
    "Let's start learning the syntax and then we will go over some examples.\n",
    "\n",
    "This will probably be your first step with Python's way to indent code.\n",
    "It might be a bit strange in the beginning, especially if you already coded using another language that makes use of curly braces like Java or C++, but rest assured, it you will not want to go back after!"
   ]
  },
  {
   "cell_type": "markdown",
   "metadata": {},
   "source": [
    "## if\n",
    "\n",
    "**If** a condition is True **then** execute the block code."
   ]
  },
  {
   "cell_type": "code",
   "execution_count": null,
   "metadata": {
    "collapsed": false
   },
   "outputs": [],
   "source": []
  },
  {
   "cell_type": "markdown",
   "metadata": {},
   "source": [
    "## else\n",
    "\n",
    "**If** a condition is True **then** execute the block code, **otherwise/else** execute the other code block."
   ]
  },
  {
   "cell_type": "code",
   "execution_count": null,
   "metadata": {
    "collapsed": false
   },
   "outputs": [],
   "source": []
  },
  {
   "cell_type": "markdown",
   "metadata": {},
   "source": [
    "**Note a few things:**\n",
    "\n",
    "- **if** keyword is lowercase!\n",
    "- **\":\"** at the end of the if defines the beginning of the code block that will be executed if the condition is True.\n",
    "- **Code Indented** by 4 spaces or 1 Tab! \n",
    "- Indents **define the code block**! \n",
    "\n",
    "**IMPORTANT**: You must be consistent with the indents. Don't mix spaces and tabs. If you do, Python will raise an exception and you will need to fix it before being able to run your code! \n",
    "\n",
    "In Jupyters notebooks, tabs are automatically converted to spaces. Very handy..."
   ]
  },
  {
   "cell_type": "markdown",
   "metadata": {},
   "source": [
    "## Example 1: Making the player move\n",
    "\n",
    "The logic that we will implement is very simple.\n",
    "\n",
    "Based on the key pressed, we will move the player forward, backward, to the left or to the right.\n",
    "\n",
    "So, we need:\n",
    "\n",
    "- the position of the player\n",
    "- the keys that can be pressed\n",
    "- the logic to move the player according the the key pressed"
   ]
  },
  {
   "cell_type": "code",
   "execution_count": null,
   "metadata": {
    "collapsed": true
   },
   "outputs": [],
   "source": [
    "# Store the x,y position in 2 variables for simplicity. \n",
    "# Note: We could have used a dictionary or even a tuple.\n",
    "\n",
    "x = 0\n",
    "y = 0"
   ]
  },
  {
   "cell_type": "code",
   "execution_count": null,
   "metadata": {
    "collapsed": true
   },
   "outputs": [],
   "source": [
    "# Let's also define a dictionary that maps an action to a key.\n",
    "# We don't need that much, but it is nice and allows us to not hardcode \n",
    "# the exact keys in our conditions! Hardcoding is not nice! \n",
    "# Repeat! Hardcoding is not nice! ...\n",
    "\n",
    "..."
   ]
  },
  {
   "cell_type": "code",
   "execution_count": null,
   "metadata": {
    "collapsed": false
   },
   "outputs": [],
   "source": [
    "# Juyter Notebook cells can be run multiple times. The x and y variables will change after each run.\n",
    "\n",
    "... # Simulate what key the player pressed.\n",
    "\n",
    "print('The player current position is: ({},{})\\n'.format(x, y))\n",
    "\n",
    "\n",
    "...\n",
    "\n",
    "    \n",
    "# Show the new position of the player\n",
    "print('\\nThe player new position is: ({},{}) ༼ つ ◕_◕ ༽つ'.format(x, y))"
   ]
  },
  {
   "cell_type": "markdown",
   "metadata": {},
   "source": [
    "## Example 2: \n",
    "\n",
    "Let's imagine we are implementing a feature that will show an advertisement on certain videos, just like Youtube.\n",
    "\n",
    "Essentially, if the video has advertisement, then we look at the current time / progress of the video and based on that we display or not the ad.\n",
    "\n",
    "For this, we will need to following:\n",
    "\n",
    "- The information / data of the video\n",
    "- The current progress of the video\n",
    "- The logic to show or not certain ads"
   ]
  },
  {
   "cell_type": "code",
   "execution_count": null,
   "metadata": {
    "collapsed": true
   },
   "outputs": [],
   "source": [
    "# First, we define 2 banner advertisements.\n",
    "\n",
    "banner_ad_1 = {\n",
    "    'text': 'This is the first Ad.',\n",
    "    'display_at': 5 # seconds\n",
    "}\n",
    "\n",
    "banner_ad_2 = {\n",
    "    'text': 'This is another Ad',\n",
    "    'display_at': 25 # seconds\n",
    "}"
   ]
  },
  {
   "cell_type": "code",
   "execution_count": null,
   "metadata": {
    "collapsed": false
   },
   "outputs": [],
   "source": [
    "# Now, we set some variable and implement our conditions:\n",
    "\n",
    "# We choose an ad to display\n",
    "...\n",
    "\n",
    "# We simulate the time of the video in seconds\n",
    "...\n",
    "\n",
    "...\n",
    "\n",
    "print('Done.')"
   ]
  }
 ],
 "metadata": {
  "anaconda-cloud": {},
  "kernelspec": {
   "display_name": "Python [Root]",
   "language": "python",
   "name": "Python [Root]"
  },
  "language_info": {
   "codemirror_mode": {
    "name": "ipython",
    "version": 3
   },
   "file_extension": ".py",
   "mimetype": "text/x-python",
   "name": "python",
   "nbconvert_exporter": "python",
   "pygments_lexer": "ipython3",
   "version": "3.5.2"
  }
 },
 "nbformat": 4,
 "nbformat_minor": 0
}

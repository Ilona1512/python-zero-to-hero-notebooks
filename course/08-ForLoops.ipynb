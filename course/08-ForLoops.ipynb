{
 "cells": [
  {
   "cell_type": "markdown",
   "metadata": {},
   "source": [
    "# For Loops - Looping over and over\n",
    "\n",
    "**Why would you need for loops?**\n",
    "\n",
    "The answer is simple. They are used to execute a piece of code multiple times. In other words, you are iterating over a list of objects and running a block of code each time. The keyword here is *iteration*. One run of the loop is one iteration.\n",
    "\n",
    "**When would you need to use a for loop?**\n",
    "\n",
    "When you come across statements such as:\n",
    "\n",
    "- Convert **all** images to small thumbnails.\n",
    "- Send a notification to **every** student.\n",
    "- Draw **20 times** a random circle on the canvas.\n",
    "\n",
    "\n",
    "Then, it is clear indicator that using a for loop here is a good choice!\n",
    "\n",
    "Now let's see it live in Python.."
   ]
  },
  {
   "cell_type": "markdown",
   "metadata": {},
   "source": [
    "## 1. Basic For Loops"
   ]
  },
  {
   "cell_type": "code",
   "execution_count": null,
   "metadata": {
    "collapsed": false
   },
   "outputs": [],
   "source": [
    "print('Before the Loop.')\n",
    "\n",
    "...\n",
    "\n",
    "print('After the Loop.')"
   ]
  },
  {
   "cell_type": "code",
   "execution_count": null,
   "metadata": {
    "collapsed": false
   },
   "outputs": [],
   "source": []
  },
  {
   "cell_type": "code",
   "execution_count": null,
   "metadata": {
    "collapsed": false
   },
   "outputs": [],
   "source": []
  },
  {
   "cell_type": "markdown",
   "metadata": {},
   "source": [
    "You can **loop over a list**. You will get the first, then the second and so forth..."
   ]
  },
  {
   "cell_type": "code",
   "execution_count": null,
   "metadata": {
    "collapsed": false
   },
   "outputs": [],
   "source": [
    "versions = [\"Kodiak\",\"Cheetah\",\"Puma\",\"Jaguar\",\"Panther\",\"Tiger\",\"Leopard\",\"Snow Leopard\",\"Lion\",\"Mountain Lion\",\"Mavericks\",\"Yosemite\",\"El Capitan\",\"Sierra\"]\n",
    "\n",
    "# Let's loop and print only the versions containing the word \"Lion\".\n",
    "..."
   ]
  },
  {
   "cell_type": "markdown",
   "metadata": {},
   "source": [
    "If we also want to count or keep track of the current iteration index, we can just use a variable and increment it manually like this:"
   ]
  },
  {
   "cell_type": "code",
   "execution_count": null,
   "metadata": {
    "collapsed": false
   },
   "outputs": [],
   "source": []
  },
  {
   "cell_type": "markdown",
   "metadata": {},
   "source": [
    "But, Python can make your life even easier with a built-in function called **enumerate(thing)**, where thing is either an iterator or a sequence. enumerate(thing) returns a iterator that will return (0, thing[0]), (1, thing[1]), (2, thing[2]), and so forth.\n",
    "\n",
    "More Info here: https://docs.python.org/2.3/whatsnew/section-enumerate.html"
   ]
  },
  {
   "cell_type": "code",
   "execution_count": null,
   "metadata": {
    "collapsed": false
   },
   "outputs": [],
   "source": []
  },
  {
   "cell_type": "markdown",
   "metadata": {},
   "source": [
    "You can also **loop over a dictionary**.\n",
    "You are basically looping over the keys.\n",
    "Then, in the loop, you can take the value for that key."
   ]
  },
  {
   "cell_type": "code",
   "execution_count": null,
   "metadata": {
    "collapsed": false
   },
   "outputs": [],
   "source": [
    "# With for loops, you can also very easily iterate over a dictionary and \n",
    "# directly have the key and the associated value\n",
    "\n",
    "greetings = {\n",
    "    'EN': 'Hello',\n",
    "    'FR': 'Bonjour',\n",
    "    'DE': 'Hallo',\n",
    "    'LU': 'Moien'\n",
    "}\n",
    "\n",
    "..."
   ]
  },
  {
   "cell_type": "code",
   "execution_count": null,
   "metadata": {
    "collapsed": false
   },
   "outputs": [],
   "source": []
  },
  {
   "cell_type": "markdown",
   "metadata": {},
   "source": [
    "## 2. Nested For Loop\n",
    "\n",
    "A nested loop is a loop within a loop. You will often have to use 2 loops, sometimes 3.\n",
    "\n",
    "Beware, loops can become quickly very long running processes..."
   ]
  },
  {
   "cell_type": "code",
   "execution_count": null,
   "metadata": {
    "collapsed": false
   },
   "outputs": [],
   "source": [
    "# For this first nested example, let's just create a multiplication matrix.\n",
    "\n",
    "..."
   ]
  },
  {
   "cell_type": "markdown",
   "metadata": {},
   "source": [
    "As a little sidenote, the above example has complexity O(N^2), because we have 2 loops:\n",
    "\n",
    "- The first loop executes 10 times the second loop.\n",
    "- And the second loop iterates 10 times.\n",
    "\n",
    "So 10^2 = 100 iterations already."
   ]
  },
  {
   "cell_type": "code",
   "execution_count": null,
   "metadata": {
    "collapsed": false
   },
   "outputs": [],
   "source": [
    "...\n",
    "print('Done')"
   ]
  },
  {
   "cell_type": "code",
   "execution_count": null,
   "metadata": {
    "collapsed": false
   },
   "outputs": [],
   "source": [
    "...\n",
    "print('Done')"
   ]
  },
  {
   "cell_type": "code",
   "execution_count": null,
   "metadata": {
    "collapsed": false
   },
   "outputs": [],
   "source": [
    "# Assume, we would like to iterate over 3D space of 100x100x100 pixels or even 1000x1000x1000 pixels big:\n",
    "# Comlexity is O(N^3)\n",
    "\n",
    "...\n",
    "        \n",
    "print('Done')"
   ]
  },
  {
   "cell_type": "markdown",
   "metadata": {},
   "source": [
    "## 3. For Else ...\n",
    "\n",
    "This is not used much, But still quite handy. The Else part is executed at the end of the for loop and you have access to the last value."
   ]
  },
  {
   "cell_type": "code",
   "execution_count": null,
   "metadata": {
    "collapsed": false
   },
   "outputs": [],
   "source": [
    "..."
   ]
  },
  {
   "cell_type": "markdown",
   "metadata": {},
   "source": [
    "## Example 1: Eeny, meeny, miny, moe ...\n",
    "\n",
    "For this fun example, let's take the situation of a famous TV series (I let you find out which one it is by yourself).\n",
    "\n",
    "> \"All this, all this is just so we can pick out which one of you gets the honour.\" - Negan\n",
    "\n",
    "So, we have a list of characters and we want to count playfully to choose one in a \"random\" way!"
   ]
  },
  {
   "cell_type": "code",
   "execution_count": null,
   "metadata": {
    "collapsed": false
   },
   "outputs": [],
   "source": [
    "# First, we define a list of characters.\n",
    "\n",
    "characters = [\n",
    "    'Glenn',\n",
    "    'Tara',\n",
    "    'Daryl',\n",
    "    'Michonne',\n",
    "    'Abraham',\n",
    "    'Maggie',\n",
    "    'Rick',\n",
    "    'Sasha',\n",
    "    'Aaron',\n",
    "    'Carl',\n",
    "    'Eugene'\n",
    "]\n",
    "\n",
    "# And here are the words we will use to perform our \"counting\".\n",
    "\n",
    "list_of_words = [\n",
    "    'Eeny', 'meeny', 'miny', 'moe',\n",
    "    'Catch', 'a', 'tiger', 'by', 'the', 'toe',\n",
    "    'If', 'he', 'hollers', 'let', 'him', 'go',\n",
    "    'My', 'mother', 'told', 'me',\n",
    "    'To', 'pick', 'the', 'very', 'best', 'one',\n",
    "    'And', 'you', 'are', 'it'\n",
    "]"
   ]
  },
  {
   "cell_type": "code",
   "execution_count": null,
   "metadata": {
    "collapsed": false
   },
   "outputs": [],
   "source": [
    "print(\"Number of characters: \", len(characters))\n",
    "print(\"Number of words     : \", len(list_of_words))"
   ]
  },
  {
   "cell_type": "markdown",
   "metadata": {},
   "source": [
    "Before we write the code, let's summarize the steps we have to do:\n",
    "\n",
    "1. We start with any character and start counting/printing the first word.\n",
    "1. We go to the next character and use the second word, then the same with the third etc etc\n",
    "1. However, we have more words than characters, so when we reach the end of the character list, we start again with the first one.\n",
    "1. At the last word, we print the name of the lucky character."
   ]
  },
  {
   "cell_type": "code",
   "execution_count": null,
   "metadata": {
    "collapsed": false
   },
   "outputs": [],
   "source": []
  },
  {
   "cell_type": "markdown",
   "metadata": {},
   "source": [
    "Let's copy and paste this code and add some more fun things to it."
   ]
  },
  {
   "cell_type": "code",
   "execution_count": null,
   "metadata": {
    "collapsed": false
   },
   "outputs": [],
   "source": []
  },
  {
   "cell_type": "markdown",
   "metadata": {},
   "source": [
    "> Tadaaa"
   ]
  },
  {
   "cell_type": "markdown",
   "metadata": {},
   "source": [
    "# 4. List Comprehensions (BONUS)"
   ]
  },
  {
   "cell_type": "code",
   "execution_count": null,
   "metadata": {
    "collapsed": false
   },
   "outputs": [],
   "source": [
    "# You generate a list with an internal loop.\n"
   ]
  },
  {
   "cell_type": "code",
   "execution_count": null,
   "metadata": {
    "collapsed": false
   },
   "outputs": [],
   "source": [
    "# This is the synatx to add an if inside\n"
   ]
  },
  {
   "cell_type": "code",
   "execution_count": null,
   "metadata": {
    "collapsed": false
   },
   "outputs": [],
   "source": []
  },
  {
   "cell_type": "code",
   "execution_count": null,
   "metadata": {
    "collapsed": false
   },
   "outputs": [],
   "source": []
  },
  {
   "cell_type": "code",
   "execution_count": null,
   "metadata": {
    "collapsed": false
   },
   "outputs": [],
   "source": []
  },
  {
   "cell_type": "code",
   "execution_count": null,
   "metadata": {
    "collapsed": true
   },
   "outputs": [],
   "source": []
  }
 ],
 "metadata": {
  "anaconda-cloud": {},
  "kernelspec": {
   "display_name": "Python [Root]",
   "language": "python",
   "name": "Python [Root]"
  },
  "language_info": {
   "codemirror_mode": {
    "name": "ipython",
    "version": 3
   },
   "file_extension": ".py",
   "mimetype": "text/x-python",
   "name": "python",
   "nbconvert_exporter": "python",
   "pygments_lexer": "ipython3",
   "version": "3.5.2"
  }
 },
 "nbformat": 4,
 "nbformat_minor": 0
}

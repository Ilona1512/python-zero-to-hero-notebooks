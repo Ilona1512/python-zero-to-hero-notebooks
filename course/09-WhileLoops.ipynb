{
 "cells": [
  {
   "cell_type": "markdown",
   "metadata": {},
   "source": [
    "# While Loops - Looping over and over ... and over ....\n",
    "\n",
    "**Why would you need while loops?**\n",
    "\n",
    "A while loop is a loop that **runs until a certain condition is false** or, as the name suggests, **runs infinit long while a certain condition is true**.\n",
    "\n",
    "You can already do a lot with for loops. Everything that a for loop does, you can also do with a while loop...by writing a bit more (ugly) code.\n",
    "\n",
    "Essentially, for loops are only able to loop over a sequence or iterable. On the other hand, a while loop can do any kind of loop. But, while loops are harder to get right and most of the time, you will prefer a for loop when possible.\n",
    "\n",
    "**When would you need to use a while loop?**\n",
    "\n",
    "When you come across statements such as:\n",
    "\n",
    "- Perform live spell check while the document is open.\n",
    "- Loop until 1000000 prime numbers have been found.\n",
    "- Generate random sentences until at least 1000 words has been written.\n",
    "\n",
    "Then, it might be an indicator that using a while loop here might be a good choice!\n",
    "\n",
    "Now let's see it live in Python.."
   ]
  },
  {
   "cell_type": "markdown",
   "metadata": {},
   "source": [
    "## 1. Basic While Loops"
   ]
  },
  {
   "cell_type": "code",
   "execution_count": null,
   "metadata": {
    "collapsed": false
   },
   "outputs": [],
   "source": [
    "print('Before the Loop.')\n",
    "\n",
    "...\n",
    "\n",
    "print('After the Loop.')"
   ]
  },
  {
   "cell_type": "code",
   "execution_count": null,
   "metadata": {
    "collapsed": false
   },
   "outputs": [],
   "source": [
    "#for x in range(5,10):\n",
    "#    print(x)\n",
    "\n",
    "..."
   ]
  },
  {
   "cell_type": "code",
   "execution_count": null,
   "metadata": {
    "collapsed": false
   },
   "outputs": [],
   "source": [
    "#for x in range(0,10,2):\n",
    "#    print(x**2)\n",
    "\n",
    "..."
   ]
  },
  {
   "cell_type": "markdown",
   "metadata": {},
   "source": [
    "You can **loop over a list**. You will get the first, then the second and so forth..."
   ]
  },
  {
   "cell_type": "code",
   "execution_count": null,
   "metadata": {
    "collapsed": false
   },
   "outputs": [],
   "source": [
    "versions = [\"Kodiak\",\"Cheetah\",\"Puma\",\"Jaguar\",\"Panther\",\"Tiger\",\"Leopard\",\"Snow Leopard\",\"Lion\",\"Mountain Lion\",\"Mavericks\",\"Yosemite\",\"El Capitan\",\"Sierra\"]\n",
    "\n",
    "#for version in versions:\n",
    "#    if 'lion' in version.lower():\n",
    "#        print(version)\n",
    "\n",
    "..."
   ]
  },
  {
   "cell_type": "markdown",
   "metadata": {},
   "source": [
    "## Example 1: Find the random number\n",
    "\n",
    "This is a short example. We will use the random function from python to generate a random number and we will generate new numbers until we found one that we like."
   ]
  },
  {
   "cell_type": "code",
   "execution_count": null,
   "metadata": {
    "collapsed": true
   },
   "outputs": [],
   "source": [
    "# Import random library\n"
   ]
  },
  {
   "cell_type": "code",
   "execution_count": null,
   "metadata": {
    "collapsed": false
   },
   "outputs": [],
   "source": [
    "# We get a random float between 0.0 and 1.0\n"
   ]
  },
  {
   "cell_type": "code",
   "execution_count": null,
   "metadata": {
    "collapsed": false
   },
   "outputs": [],
   "source": [
    "# To get a random integer between 0 and 99\n",
    "\n"
   ]
  },
  {
   "cell_type": "code",
   "execution_count": null,
   "metadata": {
    "collapsed": false
   },
   "outputs": [],
   "source": []
  },
  {
   "cell_type": "markdown",
   "metadata": {},
   "source": [
    "Let's change this a bit more and loop only a certain amount of times so we are not stuck in an infinit loop."
   ]
  },
  {
   "cell_type": "code",
   "execution_count": null,
   "metadata": {
    "collapsed": false
   },
   "outputs": [],
   "source": []
  },
  {
   "cell_type": "code",
   "execution_count": null,
   "metadata": {
    "collapsed": false
   },
   "outputs": [],
   "source": []
  }
 ],
 "metadata": {
  "anaconda-cloud": {},
  "kernelspec": {
   "display_name": "Python [Root]",
   "language": "python",
   "name": "Python [Root]"
  },
  "language_info": {
   "codemirror_mode": {
    "name": "ipython",
    "version": 3
   },
   "file_extension": ".py",
   "mimetype": "text/x-python",
   "name": "python",
   "nbconvert_exporter": "python",
   "pygments_lexer": "ipython3",
   "version": "3.5.2"
  }
 },
 "nbformat": 4,
 "nbformat_minor": 0
}

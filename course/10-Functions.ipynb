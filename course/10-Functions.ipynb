{
 "cells": [
  {
   "cell_type": "markdown",
   "metadata": {},
   "source": [
    "# Functions\n",
    "\n",
    "Say you wrote some code that starts to get quite long. At some point in your program you will have to implement similar, if not identical, functionalities. Writing duplicate code is not efficient at all and will give you a lot of headache. As soon as you change that code in one place, you need to rememeber to change it also at all other places. This is prone to many errors, and no one wants errors. This is just one of the many principles in programming and it's called **DRY: Don't Repeat Yourself**!\n",
    "\n",
    "Instead, you want to group and organise your code in logical blocks such that their functionalities can be reused in other ways.\n",
    "\n",
    "For this, we have functions. Functions are blocks of organised code that relate to a single common action. You can think of a function like a little robot, that has a very clear goal and can achieve that goal whenever you tell it to. This little robot, which has also a name, lives in its own isolated world, unless you share some objects with it. When the robot is done, it can give you something back (maybe a nice gift), but doesn't need to! \n",
    "\n",
    "We have seen in the previous lessons multiple functions such as print(), upper(), abs(), format() and some more. Each function perfoms a clear objective and is reusable.\n",
    "\n",
    "Enough talking (or reading), let's see how we define a function."
   ]
  },
  {
   "cell_type": "markdown",
   "metadata": {},
   "source": [
    "## 1. Define and use a function"
   ]
  },
  {
   "cell_type": "code",
   "execution_count": null,
   "metadata": {
    "collapsed": true
   },
   "outputs": [],
   "source": []
  },
  {
   "cell_type": "markdown",
   "metadata": {},
   "source": [
    "So, we just **def**ined a function named **hello**. A few things to note:\n",
    "\n",
    "- We just **def**ined the function. The code inside is only executed when we call the function. (See next cell)\n",
    "- All function **def**initions start with **def** followed by the name, then parentheses **()** and finally a colon **:**.\n",
    "- The next line is **indented** and all indented code will be part of the function."
   ]
  },
  {
   "cell_type": "code",
   "execution_count": null,
   "metadata": {
    "collapsed": false
   },
   "outputs": [],
   "source": [
    "# Just write the function name with parentheses and it will call the function.\n"
   ]
  },
  {
   "cell_type": "code",
   "execution_count": null,
   "metadata": {
    "collapsed": true
   },
   "outputs": [],
   "source": [
    "# Another little example:\n",
    "\n"
   ]
  },
  {
   "cell_type": "code",
   "execution_count": null,
   "metadata": {
    "collapsed": false
   },
   "outputs": [],
   "source": []
  },
  {
   "cell_type": "markdown",
   "metadata": {},
   "source": [
    "## 2. Return something\n",
    "\n",
    "Functions can give you something back when they are done!\n",
    "In other words, functions can return a value / object.\n",
    "\n",
    "To return an object, you just use the **return** keyword.\n",
    "\n",
    "**Note 1:** Remember the lesson about comments? It is very good practice to comment your funtion as demonstrated below and explain what it does.\n",
    "\n",
    "**Note 2:** [Python styling and naming convention, along with best practices](https://www.python.org/dev/peps/pep-0008/) says that name of functions and variables should be lowercase with underscores as shown below."
   ]
  },
  {
   "cell_type": "code",
   "execution_count": null,
   "metadata": {
    "collapsed": true
   },
   "outputs": [],
   "source": []
  },
  {
   "cell_type": "code",
   "execution_count": null,
   "metadata": {
    "collapsed": false
   },
   "outputs": [],
   "source": [
    "\n",
    "\n",
    "print('The value is:', ...)"
   ]
  },
  {
   "cell_type": "markdown",
   "metadata": {},
   "source": [
    "**\"return\" finishes the function! After return is called, the function has ended! The machine has finished its job.**\n",
    "\n",
    "Also note that a function does not need a return and can even return literally nothing."
   ]
  },
  {
   "cell_type": "code",
   "execution_count": null,
   "metadata": {
    "collapsed": true
   },
   "outputs": [],
   "source": []
  },
  {
   "cell_type": "code",
   "execution_count": null,
   "metadata": {
    "collapsed": false
   },
   "outputs": [],
   "source": [
    "# Prints the steps and store the returned object in a variable\n"
   ]
  },
  {
   "cell_type": "code",
   "execution_count": null,
   "metadata": {
    "collapsed": false
   },
   "outputs": [],
   "source": [
    "# Can you guess the result?\n"
   ]
  },
  {
   "cell_type": "markdown",
   "metadata": {},
   "source": [
    "## 3. Arguments\n",
    "\n",
    "We saw how to define functions and return results. Now we will see how to pass arguments to functions.\n",
    "\n",
    "We want to give data to our functions, let the function do some work with it and, maybe, return derived results or modified data."
   ]
  },
  {
   "cell_type": "code",
   "execution_count": null,
   "metadata": {
    "collapsed": true
   },
   "outputs": [],
   "source": [
    "# Just add the arguments between the parentheses, \n",
    "# seperated by commas if you have multiple ones\n",
    "\n"
   ]
  },
  {
   "cell_type": "code",
   "execution_count": null,
   "metadata": {
    "collapsed": false
   },
   "outputs": [],
   "source": [
    "# When you call the function, you just put the arguments\n"
   ]
  },
  {
   "cell_type": "code",
   "execution_count": null,
   "metadata": {
    "collapsed": false
   },
   "outputs": [],
   "source": [
    "# You can also be explicit\n"
   ]
  },
  {
   "cell_type": "markdown",
   "metadata": {},
   "source": [
    "### 3.1 Default values\n",
    "\n",
    "All function arguments must be defined when the function is called.\n",
    "If that is not the case, you will get an exception.\n",
    "\n",
    "Fortunatly for us, we can define default values for arguments. This allows to call functions without having to define every argument. Some arguments might be required and others will be optional because they have a default value."
   ]
  },
  {
   "cell_type": "code",
   "execution_count": null,
   "metadata": {
    "collapsed": false
   },
   "outputs": [],
   "source": [
    "# We define a function with 6 required parameters.\n",
    "# An exception is raised if you don't give a value for each one.\n",
    "\n"
   ]
  },
  {
   "cell_type": "markdown",
   "metadata": {},
   "source": [
    "Let's redefine our show_pyramid function to allow others to show any size of pyramid."
   ]
  },
  {
   "cell_type": "code",
   "execution_count": null,
   "metadata": {
    "collapsed": true
   },
   "outputs": [],
   "source": []
  },
  {
   "cell_type": "code",
   "execution_count": null,
   "metadata": {
    "collapsed": false
   },
   "outputs": [],
   "source": [
    "# Now we need to give a size\n"
   ]
  },
  {
   "cell_type": "code",
   "execution_count": null,
   "metadata": {
    "collapsed": false
   },
   "outputs": [],
   "source": []
  },
  {
   "cell_type": "code",
   "execution_count": null,
   "metadata": {
    "collapsed": false
   },
   "outputs": [],
   "source": [
    "# And of course, you can change the symbols to quite anything,\n",
    "# since our function accepts many values\n",
    "\n"
   ]
  },
  {
   "cell_type": "markdown",
   "metadata": {},
   "source": [
    "## 4. Scope\n",
    "\n",
    "All variables are not accessible from every part of a program. Depending where a block of code is located it might have access to certain variables but not others.\n",
    "\n",
    "In Python, we differenciate between **local** and **global** variables.\n",
    "\n",
    "**Local Scope:**\n",
    "\n",
    "Variables defined inside a function have a local scope to that function. They also live as long as the function is running. After the return, those variables are freed.\n",
    "\n",
    "**Global Scope:**\n",
    "\n",
    "Variables defined outside a function are often global and can be accessed by potentially many functions and of course outside of functions.\n",
    "\n",
    "**Note:** The same rules don't only apply for variables, but also to functions and classes (next lesson).\n",
    "\n",
    "Now let's see some examples:"
   ]
  },
  {
   "cell_type": "markdown",
   "metadata": {},
   "source": [
    "### Example 1:\n",
    "\n",
    "The function uses a global variable."
   ]
  },
  {
   "cell_type": "code",
   "execution_count": null,
   "metadata": {
    "collapsed": false
   },
   "outputs": [],
   "source": []
  },
  {
   "cell_type": "markdown",
   "metadata": {},
   "source": [
    "### Example 2:\n",
    "\n",
    "The function assigns a value to a variable defined also as global."
   ]
  },
  {
   "cell_type": "code",
   "execution_count": null,
   "metadata": {
    "collapsed": false
   },
   "outputs": [],
   "source": []
  },
  {
   "cell_type": "markdown",
   "metadata": {},
   "source": [
    "So, what is exactly happing in Python's mind?\n",
    "\n",
    "We defined globally a variable total, and in our function we assigned a variable total with a value. The local total doesn't change the global total even though they have the same name. But in the first example, the name was used from the global scope.\n",
    "\n",
    "What happens, is that Python interpretes the code and tries to find out if you refer to a global variable or if you create a new local variable.\n",
    "\n",
    "To better illustrate this statement, let's see this special setup:"
   ]
  },
  {
   "cell_type": "markdown",
   "metadata": {},
   "source": [
    "### Example 3: \n",
    "\n",
    "Python assumes that you want a local variable inside your function.\n",
    "\n",
    "For this reason, it will throw an exception on the first line, saying that you didn't define this variable."
   ]
  },
  {
   "cell_type": "code",
   "execution_count": null,
   "metadata": {
    "collapsed": false
   },
   "outputs": [],
   "source": []
  },
  {
   "cell_type": "markdown",
   "metadata": {},
   "source": [
    "### Example 4: \n",
    "\n",
    "If really needed, you can use the keyword **global** to tell Python that you want this variable from the global scope."
   ]
  },
  {
   "cell_type": "code",
   "execution_count": null,
   "metadata": {
    "collapsed": false
   },
   "outputs": [],
   "source": []
  },
  {
   "cell_type": "markdown",
   "metadata": {},
   "source": [
    "## 5. The secret of passing parameters to functions\n",
    "\n",
    "*Sidenote:* You might feel that little by little, we are going more and more deep into programming concepts. It might get harder and more abstract, but do not worry, we will do plenty of examples so you will understand very well how to use everything we have learned.\n",
    "\n",
    "Okay, next up is **what happens to the variables / parameters that we pass to a function as an argument?**\n",
    "\n",
    "In programming you most often have 2 choices:\n",
    "\n",
    "1. The function gets a copy of the value (pass by value)\n",
    "1. The function gets the real value or the address of real value, not a copy (pass by reference)\n",
    "\n",
    "Python is quite special, because everything is an object. And a variable is just a binding to an object. To better understand we need to understand the **difference between immutable and mutable objects**."
   ]
  },
  {
   "cell_type": "markdown",
   "metadata": {
    "collapsed": true
   },
   "source": [
    "## Immutable Objects\n",
    "\n",
    "Once created, those objects cannot be changed. They are immutable! They can't change!\n",
    "\n",
    "For example, strings, integers, floats and tuples are immutable.\n",
    "\n",
    "> But, if they are immutable and cannot change, why can I write something like x = 1, and do x += 1 ?\n",
    "\n",
    "Good question! \n",
    "The answer is that you are not changing the value \"1\"! \n",
    "You are actually changing the binding of x.\n",
    "This means that when performing \"x += 1\", a new object \"2\" is created and x binds to that object.\n",
    "The previous object \"1\" is really nowhere. (Actually is is not binded to any variable anymore and can be cleaned by the garbage collector.)"
   ]
  },
  {
   "cell_type": "code",
   "execution_count": null,
   "metadata": {
    "collapsed": false
   },
   "outputs": [],
   "source": [
    "# Example: Function that just increments a value given.\n",
    "# We will try to define a variable x and make the function increment it.\n",
    "\n"
   ]
  },
  {
   "cell_type": "code",
   "execution_count": null,
   "metadata": {
    "collapsed": false
   },
   "outputs": [],
   "source": [
    "# Example: Function that removes a substring inside a text.\n",
    "\n"
   ]
  },
  {
   "cell_type": "markdown",
   "metadata": {},
   "source": [
    "Okay, if we would like the function to increment x for example, you would need to require the code so that the function returns the new value!"
   ]
  },
  {
   "cell_type": "code",
   "execution_count": null,
   "metadata": {
    "collapsed": false
   },
   "outputs": [],
   "source": []
  },
  {
   "cell_type": "code",
   "execution_count": null,
   "metadata": {
    "collapsed": false
   },
   "outputs": [],
   "source": []
  },
  {
   "cell_type": "markdown",
   "metadata": {
    "collapsed": true
   },
   "source": [
    "## Mutable Objects\n",
    "\n",
    "Once created, those objects can be changed! They are mutable!\n",
    "\n",
    "For example, lists, dictionaries and sets are mutable data types.\n",
    "\n",
    "So now, you might guess what happens when you give a list to a function. If the function modifies the list, then the changes will be reflected outside of the function too."
   ]
  },
  {
   "cell_type": "code",
   "execution_count": null,
   "metadata": {
    "collapsed": false
   },
   "outputs": [],
   "source": [
    "# Example: We define a function that will sort the list and keep only the 5 highest scores.\n",
    "\n"
   ]
  },
  {
   "cell_type": "code",
   "execution_count": null,
   "metadata": {
    "collapsed": false
   },
   "outputs": [],
   "source": [
    "# Example: We define a function that will add a few keys to a dictionary\n",
    "\n",
    "...\n",
    "      \n",
    "secret = {\n",
    "    'text': 'EnCt2dd82c220783e18f7cc7ac9f99914a410957a7415dd82c220783e18f7cc7ac9f9pfW2/Nll6gBuGK2WylfvJ8lTiPBEk4apgBToly/B2R6FE6aCyg3YzzuszAZPFpPU6LnFgNY50PitIwEmS'\n",
    "}\n",
    "\n",
    "..."
   ]
  },
  {
   "cell_type": "markdown",
   "metadata": {},
   "source": [
    "## 6. Anonymous functions (BONUS)\n",
    "\n",
    "Until now we have seen how to define functions the most usual way using the **def** keyword. In Python you can also define anonymous function, or so called lambda functions. Those functions are said to be anonymous because they have no name!\n",
    "\n",
    "They are useful when you need to define a very small function. The syntax of lambda functions restricts it to have a single expression. Let's just see a few examples:"
   ]
  },
  {
   "cell_type": "code",
   "execution_count": null,
   "metadata": {
    "collapsed": false
   },
   "outputs": [],
   "source": [
    "# This lambda function takes 2 arguments and compute the sum\n"
   ]
  },
  {
   "cell_type": "code",
   "execution_count": null,
   "metadata": {
    "collapsed": false
   },
   "outputs": [],
   "source": []
  },
  {
   "cell_type": "code",
   "execution_count": null,
   "metadata": {
    "collapsed": false
   },
   "outputs": [],
   "source": []
  },
  {
   "cell_type": "code",
   "execution_count": null,
   "metadata": {
    "collapsed": false
   },
   "outputs": [],
   "source": []
  },
  {
   "cell_type": "code",
   "execution_count": null,
   "metadata": {
    "collapsed": true
   },
   "outputs": [],
   "source": [
    "# You can even imagine doing things like this:\n",
    "# Define a function that will return... wait for it... another function!\n",
    "# In thise case, a lambda expression is quite nice. \n",
    "# We basically return a custom function that will increment a number by n always.\n",
    "\n"
   ]
  },
  {
   "cell_type": "code",
   "execution_count": null,
   "metadata": {
    "collapsed": true
   },
   "outputs": [],
   "source": []
  },
  {
   "cell_type": "code",
   "execution_count": null,
   "metadata": {
    "collapsed": false
   },
   "outputs": [],
   "source": []
  },
  {
   "cell_type": "code",
   "execution_count": null,
   "metadata": {
    "collapsed": false
   },
   "outputs": [],
   "source": []
  },
  {
   "cell_type": "code",
   "execution_count": null,
   "metadata": {
    "collapsed": false
   },
   "outputs": [],
   "source": []
  },
  {
   "cell_type": "markdown",
   "metadata": {},
   "source": [
    "## NEXT: Practice\n",
    "\n",
    "For practicing what we have learned here, we will make a longer example in the next Notebook (10-Functions_Practice) that will also allow you to sharpen your skills and grow your knowledge of Python."
   ]
  },
  {
   "cell_type": "code",
   "execution_count": null,
   "metadata": {
    "collapsed": true
   },
   "outputs": [],
   "source": []
  }
 ],
 "metadata": {
  "anaconda-cloud": {},
  "kernelspec": {
   "display_name": "Python [Root]",
   "language": "python",
   "name": "Python [Root]"
  },
  "language_info": {
   "codemirror_mode": {
    "name": "ipython",
    "version": 3
   },
   "file_extension": ".py",
   "mimetype": "text/x-python",
   "name": "python",
   "nbconvert_exporter": "python",
   "pygments_lexer": "ipython3",
   "version": "3.5.2"
  }
 },
 "nbformat": 4,
 "nbformat_minor": 0
}

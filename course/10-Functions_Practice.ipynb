{
 "cells": [
  {
   "cell_type": "markdown",
   "metadata": {
    "collapsed": true,
    "nbpresent": {
     "id": "46fabad9-c399-4b68-9202-3afbf1e57a37"
    }
   },
   "source": [
    "After all those lessons, you have now a lot of tools at your disposal to code a lot of things! \n",
    "In this notebook, the main topic will be **functions and code structure**. \n",
    "In addition, we will explore how **reading from a file** works along with other nice to know things.\n",
    "\n",
    "Let's go!"
   ]
  },
  {
   "cell_type": "markdown",
   "metadata": {
    "nbpresent": {
     "id": "327f3868-f1d6-4999-96a3-67c7b82ea42d"
    }
   },
   "source": [
    "# Function Practice 1 : Parsing Daily Activities\n",
    "\n",
    "Here's what we want to achieve. We have a file containing information about our daily activities and we would like to take that information and extract useful knowledge from it.\n",
    "\n",
    "Starting with the file. We will use a CSV (**C**omma-**S**eparated **V**alues) file. A CSV file a simple format to store data into a table-like structure. Each row has mutliple values which are separated via a comma, hence the name *comma-separated values*. It looks like this:\n",
    "\n",
    "    value01,value02,value03\n",
    "    value11,value12,value13\n",
    "    value21,value22,value23\n",
    "\n",
    "Often, you will see that the first line is the column header:\n",
    "\n",
    "    header1,header2,header3\n",
    "    value01,value02,value03\n",
    "    value11,value12,value13\n",
    "    value21,value22,value23\n",
    "\n",
    "Note that we are not forced to separate a CSV file with commas. Often a semi-colon is used because it allows for example to use the comma in values for decimal or sentences.\n",
    "\n",
    "All right. For our daily activities we will have one CSV file per day and each CSV file will have the following columns:\n",
    "\n",
    "- **activity**: The name of the activity.\n",
    "- **start_time**: The time at which the activity started (format is e.g. 14:05).\n",
    "- **duration**: The duration in hours that the activity lasted.\n",
    "- **is_outdoor**: A flag that says if the activity happened outdoor or indoor.\n",
    "\n",
    "Enough explanation for now, let's start to write a little code. \n",
    "\n",
    "## 1. Reading the CSV\n",
    "\n",
    "First thing we want to do is: read our CSV files located in `data/`. [How do we do that?](http://lmgtfy.com/?q=python+read+csv+file)\n"
   ]
  },
  {
   "cell_type": "code",
   "execution_count": null,
   "metadata": {
    "collapsed": false,
    "nbpresent": {
     "id": "65991977-0510-4bd2-9c9b-d4bd737718a1"
    }
   },
   "outputs": [],
   "source": [
    "# Python has a huge standard library and manipulating CSV files is part of it\n",
    "# The next code comes from what we found on google.\n",
    "\n"
   ]
  },
  {
   "cell_type": "markdown",
   "metadata": {
    "nbpresent": {
     "id": "02796cf1-39b9-4f2e-963a-b17b6aedaba9"
    }
   },
   "source": [
    "Ok, so now that this is working, how about we put it into a nice function. This function will read the CSV and store it into a **list of dictionaries** so that we can perform other operations later.\n",
    "\n",
    "If you browse a bit the [official Python 3 documentation for CSV](https://docs.python.org/3/library/csv.html#csv.DictWriter) which is very easy to google, you will see that there is a `csv.DictWriter` that looks like exactly what we need, so let's just use this in our function."
   ]
  },
  {
   "cell_type": "code",
   "execution_count": null,
   "metadata": {
    "collapsed": true,
    "nbpresent": {
     "id": "22c346c1-fdd1-4392-a479-760ddc98d9a4"
    }
   },
   "outputs": [],
   "source": [
    "# Note: we already imported csv once, no need to import it again.\n",
    "\n"
   ]
  },
  {
   "cell_type": "code",
   "execution_count": null,
   "metadata": {
    "collapsed": false,
    "nbpresent": {
     "id": "82cdd6c6-947f-4d3a-846f-ac5a4f1adc31"
    }
   },
   "outputs": [],
   "source": [
    "# Now we can just call the function with a path to a csv file.\n",
    "monday = read_activity_file('data/monday.csv')\n",
    "\n",
    "print('Monday: ', monday)"
   ]
  },
  {
   "cell_type": "code",
   "execution_count": null,
   "metadata": {
    "collapsed": false,
    "nbpresent": {
     "id": "5d5a4fc5-a588-44e5-8b04-f3f651b65480"
    }
   },
   "outputs": [],
   "source": [
    "# Let's print it better... and put this in a function too\n",
    "\n"
   ]
  },
  {
   "cell_type": "markdown",
   "metadata": {
    "nbpresent": {
     "id": "86443983-48df-44f0-a267-d5ca29a4433f"
    }
   },
   "source": [
    "By looking at our list of activity dictionaries, we can see all our data, but there are a little details we should take care of. \n",
    "\n",
    "1. The duration is actually a float number, but it stores this value as a string, because this is how the CSV reader works. So we need to transform all durations to floats.\n",
    "1. The `is_outdoor` key always stores 0 or 1, but as a string '0' or '1'. It would be best to update all activites and store a real boolean value!"
   ]
  },
  {
   "cell_type": "code",
   "execution_count": null,
   "metadata": {
    "collapsed": false,
    "nbpresent": {
     "id": "1d93e7ae-536b-4dbb-a755-8e07e499d083"
    }
   },
   "outputs": [],
   "source": []
  },
  {
   "cell_type": "markdown",
   "metadata": {
    "nbpresent": {
     "id": "422ec832-4215-4635-b09e-42b535f0273e"
    }
   },
   "source": [
    "## 2. Work with the data\n",
    "\n",
    "Now that we have our data in a good and easy to use format / data structure, we can start writing more functionalities that will do stuff on that data.\n",
    "\n",
    "We will explore a few functionalities, but if you have more ideas, feel free to try to implement it. \n",
    "\n",
    "*Note:* If you come across any error message, just try to google the exception. If you don't know how to do a particular thing, then try to google it too. **And of course, don't hesitate to contact me for if you need any help!**"
   ]
  },
  {
   "cell_type": "markdown",
   "metadata": {
    "nbpresent": {
     "id": "dbe83c64-6443-4f16-aa65-ea578f8e8fea"
    }
   },
   "source": [
    "## 2.1 The longest activity\n",
    "\n",
    "Show the activity that required the longest hours in a day! Keep in mind that an activity can happen multiple times in a day."
   ]
  },
  {
   "cell_type": "code",
   "execution_count": null,
   "metadata": {
    "collapsed": false,
    "nbpresent": {
     "id": "2ec81d94-f702-4edd-8668-03e3721f567a"
    }
   },
   "outputs": [],
   "source": [
    "# Strategy:\n",
    "# We loop over all activities and sum identical activities together by\n",
    "# storing the activity name in a dictionaty as the key. This will make\n",
    "# sure that we store each activity once. The values are the summed durations.\n",
    "\n",
    "def longest_activity(activities):\n",
    "    ''' This function returns the longest activity of a day\n",
    "    along with the total hours.\n",
    "    '''\n",
    "    # 1) Sum all activities durations together\n",
    "    ...\n",
    "        \n",
    "    # 2) Find the longest activity\n",
    "    ...\n",
    "                \n",
    "    # 3) Return our result as a dictionary\n",
    "    ..."
   ]
  },
  {
   "cell_type": "code",
   "execution_count": null,
   "metadata": {
    "collapsed": false,
    "nbpresent": {
     "id": "8cf2e9ec-d109-42b7-94a5-386bf92104b7"
    }
   },
   "outputs": [],
   "source": []
  },
  {
   "cell_type": "markdown",
   "metadata": {
    "nbpresent": {
     "id": "f4705000-2593-4c2e-ac94-c716e819bc09"
    }
   },
   "source": [
    "# 3. Apply to many days:\n",
    "\n",
    "To summarize:\n",
    "\n",
    "- We can read a CSV file and store its data into dictionaries. And we have it as a function.\n",
    "- We can print the activity data in a nice way. And we have it as a function, too.\n",
    "- We can fix the values of the dictionaries (str to bool, float, ...). And we have it again as a function.\n",
    "- We can find out what is the longest activity for any list of activities! And we have it as a function!\n",
    "\n",
    "But, we did all this for one CSV file only... What if now you need to do the same steps for many more CSV files?\n",
    "\n",
    "Now, the little extra work that we spend structuring our code and making functions will **pay off big**!! We literally have a function for every step that we performed. We can now, with very little work, apply all our steps to any number of files. "
   ]
  },
  {
   "cell_type": "code",
   "execution_count": null,
   "metadata": {
    "collapsed": true,
    "nbpresent": {
     "id": "5130b261-cb4b-4b88-b591-7f2486f3c554"
    }
   },
   "outputs": [],
   "source": [
    "days_files = [\n",
    "    'data/sunday.csv',\n",
    "    'data/monday.csv',\n",
    "    'data/friday.csv'\n",
    "]"
   ]
  },
  {
   "cell_type": "code",
   "execution_count": null,
   "metadata": {
    "collapsed": false
   },
   "outputs": [],
   "source": []
  },
  {
   "cell_type": "code",
   "execution_count": null,
   "metadata": {
    "collapsed": true
   },
   "outputs": [],
   "source": []
  }
 ],
 "metadata": {
  "anaconda-cloud": {},
  "kernelspec": {
   "display_name": "Python [Root]",
   "language": "python",
   "name": "Python [Root]"
  },
  "language_info": {
   "codemirror_mode": {
    "name": "ipython",
    "version": 3
   },
   "file_extension": ".py",
   "mimetype": "text/x-python",
   "name": "python",
   "nbconvert_exporter": "python",
   "pygments_lexer": "ipython3",
   "version": "3.5.2"
  },
  "nbpresent": {
   "slides": {},
   "themes": {}
  }
 },
 "nbformat": 4,
 "nbformat_minor": 0
}

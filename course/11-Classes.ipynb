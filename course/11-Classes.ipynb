{
 "cells": [
  {
   "cell_type": "markdown",
   "metadata": {},
   "source": [
    "# Classes\n",
    "\n",
    "Python is an object-oriented programming (OOP) language. As the name can hint, OOP is a conceptual model that focuses on structuring your software with objects in a particular way. \n",
    "\n",
    "Keep in mind, here we will only scratch the basics of object-oriented programming and we will focus on how to get up to speed quickly so you get the feeling for organising your code in a clean way rather than trying to learn all the abstract concepts! Python's class mecanism is not difficult because it adds very little new syntax and semantics.\n",
    "\n",
    "## What is a class?\n",
    "\n",
    "In the previous lesson we have seen that a function defines some logic and this logic is only executed when we call the function! The first step was to define the function, then we can use it. \n",
    "\n",
    "A class is also like a definition. A class defines the characteristics of any object of this class. By characteristics we actually mean attributes and functions.\n",
    "\n",
    "Imagine we would have a class defining a human. This class would hold attributes such as height, weight, age, gender, name and methods or functions such as eat(), sleep(), walk() or run().\n",
    "\n",
    "\n",
    "## What is an instance?\n",
    "\n",
    "With a class, we can create objects of this class. Those objects are called instances! \n",
    "\n",
    "Assume you have a class human, each one of us is an instance of the human class. We all share the same class or type, but all have different values for each attributes.\n",
    "\n",
    "Let's go ahead and see now how this work in Python.\n",
    "\n",
    "### Other references:\n",
    "\n",
    "- [Official Documentation](https://docs.python.org/3/tutorial/classes.html)"
   ]
  },
  {
   "cell_type": "markdown",
   "metadata": {
    "collapsed": true
   },
   "source": [
    "## 1. Define a class\n",
    "\n",
    "Inside a class, there are many different styles for defining your attributes, let's begin with a simple example and improve it later as we learn more."
   ]
  },
  {
   "cell_type": "code",
   "execution_count": null,
   "metadata": {
    "collapsed": false
   },
   "outputs": [],
   "source": []
  },
  {
   "cell_type": "markdown",
   "metadata": {},
   "source": [
    "A few things to note:\n",
    "\n",
    "- We use the keyword **class** to define a class. The name of the class should be cammel-cased with the first letter capital (e.g. MyFirstClass). Then comes parenthesis where we define the parent class if any. (more on this later).\n",
    "- Inside the class, we can define attributes and functions as we are used to.\n",
    "- However, we have now a class scope that is refered to as **self**! **self** is the current instance of that class.\n",
    "- Each function in the class must have self as the first parameter.\n",
    "- Inside the function, we can access the class attributes and functions using self."
   ]
  },
  {
   "cell_type": "markdown",
   "metadata": {
    "collapsed": true
   },
   "source": [
    "## 2. Create an instance of a class"
   ]
  },
  {
   "cell_type": "code",
   "execution_count": null,
   "metadata": {
    "collapsed": true
   },
   "outputs": [],
   "source": [
    "# We use function-like syntax to instantiate an object\n",
    "\n"
   ]
  },
  {
   "cell_type": "code",
   "execution_count": null,
   "metadata": {
    "collapsed": false
   },
   "outputs": [],
   "source": []
  },
  {
   "cell_type": "code",
   "execution_count": null,
   "metadata": {
    "collapsed": false
   },
   "outputs": [],
   "source": [
    "# We can access and even change the attributes\n",
    "print('Name of human 1:', ...)\n",
    "print('Name of human 2:', ...)"
   ]
  },
  {
   "cell_type": "code",
   "execution_count": null,
   "metadata": {
    "collapsed": false
   },
   "outputs": [],
   "source": [
    "...\n",
    "\n",
    "print('Name of human 1:', ...)\n",
    "print('Name of human 2:', ...)"
   ]
  },
  {
   "cell_type": "code",
   "execution_count": null,
   "metadata": {
    "collapsed": false
   },
   "outputs": [],
   "source": []
  },
  {
   "cell_type": "markdown",
   "metadata": {},
   "source": [
    "So far so good. We can use attributes and call functions. Each instance is unique and does't interfere with other instances.\n",
    "\n",
    "Now, we would like to improve our code and directly create a Human with the name we want.\n",
    "For this we can use the special function `__init__` (double underscores before and after) wich is the constructor of the class. The constructor is called when you create an instance of that class."
   ]
  },
  {
   "cell_type": "code",
   "execution_count": null,
   "metadata": {
    "collapsed": true
   },
   "outputs": [],
   "source": [
    "# Redefine our human class\n",
    "\n"
   ]
  },
  {
   "cell_type": "code",
   "execution_count": null,
   "metadata": {
    "collapsed": false
   },
   "outputs": [],
   "source": [
    "# Create 3 humans\n",
    "\n"
   ]
  },
  {
   "cell_type": "code",
   "execution_count": null,
   "metadata": {
    "collapsed": false
   },
   "outputs": [],
   "source": []
  },
  {
   "cell_type": "markdown",
   "metadata": {},
   "source": [
    "## 3. Private and public stuff\n",
    "\n",
    "In most OOP languages, you can define attributes and functions of a class as public or private. The concept is pretty simple. Public things are accessible by outside code and private things are not!\n",
    "\n",
    "In Python, there is no such things as private instance variables or methods that cannot be accessed outside of the class. However, there are some [conventions](https://docs.python.org/3/tutorial/classes.html#private-variables) that suggest to prefix variables and functions with an underscore _ to say that the function is \"private\", meaning that it is best not to call it outside of the class itself. Using a double underscore you can make it even harder to access those methods."
   ]
  },
  {
   "cell_type": "code",
   "execution_count": null,
   "metadata": {
    "collapsed": false
   },
   "outputs": [],
   "source": []
  },
  {
   "cell_type": "code",
   "execution_count": null,
   "metadata": {
    "collapsed": false
   },
   "outputs": [],
   "source": []
  },
  {
   "cell_type": "code",
   "execution_count": null,
   "metadata": {
    "collapsed": false
   },
   "outputs": [],
   "source": [
    "# Nothing stops me from not calling \"private\" methods...\n"
   ]
  },
  {
   "cell_type": "code",
   "execution_count": null,
   "metadata": {
    "collapsed": false
   },
   "outputs": [],
   "source": [
    "# With double underscore, it is \"more private\"\n"
   ]
  },
  {
   "cell_type": "markdown",
   "metadata": {},
   "source": [
    "If you read the [documentation](https://docs.python.org/3/tutorial/classes.html#private-variables) you will find out how to still access this kind-of private method. I show you how it can be done, feel free to read about it to get the details. Just avoid writing those kind of things in your code, it is poor design."
   ]
  },
  {
   "cell_type": "code",
   "execution_count": null,
   "metadata": {
    "collapsed": false
   },
   "outputs": [],
   "source": []
  },
  {
   "cell_type": "markdown",
   "metadata": {},
   "source": [
    "## 4. Inheritence\n",
    "\n",
    "The bigger and more complex your software becomes, the more you will have similar classes that are different enough to not be in the same class. With inheritence, you can define the parent of a class. The child class **inherits** all the attributes and functions of the parent class! We will also see that the child can override the behaviour of inherited methods.\n",
    "\n",
    "To illustrate this, we will take our Human class and try to extend it to also support superheroes and zombies! And the best way to understand and appreciate inheritence is to first implement what we want to do the wrong way."
   ]
  },
  {
   "cell_type": "code",
   "execution_count": null,
   "metadata": {
    "collapsed": true
   },
   "outputs": [],
   "source": []
  },
  {
   "cell_type": "code",
   "execution_count": null,
   "metadata": {
    "collapsed": false
   },
   "outputs": [],
   "source": []
  },
  {
   "cell_type": "markdown",
   "metadata": {},
   "source": [
    "This is not well designed at all. Even tough we have a simple example, once we add more functionalities, it will become a mess to properly separate the logic that is specific to zombies or superheroes. Let's do it right and even simpler."
   ]
  },
  {
   "cell_type": "code",
   "execution_count": null,
   "metadata": {
    "collapsed": true
   },
   "outputs": [],
   "source": [
    "# We can reuse our Human class defined previously as it is.\n",
    "# I will copy and paste it here, so we see it again without scolling.\n",
    "\n"
   ]
  },
  {
   "cell_type": "markdown",
   "metadata": {},
   "source": [
    "We define a Superhero class that will **extend** Human."
   ]
  },
  {
   "cell_type": "code",
   "execution_count": null,
   "metadata": {
    "collapsed": true
   },
   "outputs": [],
   "source": []
  },
  {
   "cell_type": "code",
   "execution_count": null,
   "metadata": {
    "collapsed": true
   },
   "outputs": [],
   "source": []
  },
  {
   "cell_type": "code",
   "execution_count": null,
   "metadata": {
    "collapsed": false
   },
   "outputs": [],
   "source": []
  },
  {
   "cell_type": "code",
   "execution_count": null,
   "metadata": {
    "collapsed": false
   },
   "outputs": [],
   "source": []
  },
  {
   "cell_type": "code",
   "execution_count": null,
   "metadata": {
    "collapsed": false
   },
   "outputs": [],
   "source": []
  },
  {
   "cell_type": "markdown",
   "metadata": {},
   "source": [
    "Much better, right? Good, now we implement our zombie class and you will see how ot override a parent's method."
   ]
  },
  {
   "cell_type": "code",
   "execution_count": null,
   "metadata": {
    "collapsed": true
   },
   "outputs": [],
   "source": []
  },
  {
   "cell_type": "code",
   "execution_count": null,
   "metadata": {
    "collapsed": true
   },
   "outputs": [],
   "source": []
  },
  {
   "cell_type": "code",
   "execution_count": null,
   "metadata": {
    "collapsed": false
   },
   "outputs": [],
   "source": []
  },
  {
   "cell_type": "markdown",
   "metadata": {},
   "source": [
    "### isinstance and issubclass\n",
    "\n",
    "When you work with multiple classes it will be convenient to have methods to check they types.\n",
    "\n",
    "- Use **isinstance()** to check an instance’s type: **isinstance(obj, int)** will be True only if **obj.\\_\\_class\\_\\_** is int or some class derived from int.\n",
    "- Use **issubclass()** to check class inheritance: **issubclass(bool, int)** is True since bool is a subclass of int. However, **issubclass(float, int)** is False since float is not a subclass of int."
   ]
  },
  {
   "cell_type": "code",
   "execution_count": null,
   "metadata": {
    "collapsed": false
   },
   "outputs": [],
   "source": [
    " # bob is a Human"
   ]
  },
  {
   "cell_type": "code",
   "execution_count": null,
   "metadata": {
    "collapsed": false
   },
   "outputs": [],
   "source": [
    " # patient_zero is a Human, because Zombie extends Human!"
   ]
  },
  {
   "cell_type": "code",
   "execution_count": null,
   "metadata": {
    "collapsed": false
   },
   "outputs": [],
   "source": [
    "# Sidenote: All classes extends the base class \"object\"\n"
   ]
  },
  {
   "cell_type": "code",
   "execution_count": null,
   "metadata": {
    "collapsed": false
   },
   "outputs": [],
   "source": [
    " # No, superman is a Superhero and Human, not a Zombie"
   ]
  },
  {
   "cell_type": "code",
   "execution_count": null,
   "metadata": {
    "collapsed": false
   },
   "outputs": [],
   "source": [
    " # is Zombie a subclass of Human?"
   ]
  },
  {
   "cell_type": "code",
   "execution_count": null,
   "metadata": {
    "collapsed": false
   },
   "outputs": [],
   "source": [
    " # is Human a subclass of Zombie"
   ]
  },
  {
   "cell_type": "code",
   "execution_count": null,
   "metadata": {
    "collapsed": false
   },
   "outputs": [],
   "source": []
  },
  {
   "cell_type": "code",
   "execution_count": null,
   "metadata": {
    "collapsed": true
   },
   "outputs": [],
   "source": []
  }
 ],
 "metadata": {
  "anaconda-cloud": {},
  "kernelspec": {
   "display_name": "Python [Root]",
   "language": "python",
   "name": "Python [Root]"
  },
  "language_info": {
   "codemirror_mode": {
    "name": "ipython",
    "version": 3
   },
   "file_extension": ".py",
   "mimetype": "text/x-python",
   "name": "python",
   "nbconvert_exporter": "python",
   "pygments_lexer": "ipython3",
   "version": "3.5.2"
  }
 },
 "nbformat": 4,
 "nbformat_minor": 0
}

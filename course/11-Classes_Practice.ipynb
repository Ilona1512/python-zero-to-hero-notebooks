{
 "cells": [
  {
   "cell_type": "markdown",
   "metadata": {},
   "source": [
    "We are getting close to the end of this serie! \n",
    "In this practice we will use a bit of everything that we have seen until now, but we will focus on classes nevertheless! \n",
    "\n",
    "The takeaway of this notebook is that no matter what you are building, think first about how to organize your code in logical pieces and try to group related behaviours and actions together. Don't start hammering code right way and don't let yourself build a kind of mutant that you wish to never touch again after 2 weeks."
   ]
  },
  {
   "cell_type": "markdown",
   "metadata": {},
   "source": [
    "# Class Practice 1 : Explorer of the Sky\n",
    "\n",
    "> *Year: 2126*   \n",
    "> *Location: Unknown*\n",
    "\n",
    "> We are an explorer lost in a galaxy far away from any known civilisation. All we have is our small spaceship, some tools and supplies to survive. We are space travelling, exploring planets after planets, hoping to find our way back home!\n",
    "\n",
    "That's for the little story. Now, let's try to code something around this scenario. Here's are the things we will try to build:\n",
    "\n",
    "- We have the notion of an explorer, which is our main character or player. Our **explorer has some characteristics and can perform some actions**. For example, we might want to model health and armor points.\n",
    "- Our explorer is traveling space, so she/he probably has a strong and useful **spacesuit**, that allows her/him to **carry a few tools**.\n",
    "- We talked about supplies and tools, so we might have things like food and water or screwdrivers and hammers for example.\n",
    "- Our explorer has a spaceship that can fly, land, shoot and transport things.\n",
    "- And finally, we have many planets that vary in size, composition and of course location.\n",
    "\n",
    "Those are just a few idea. When writing a new piece of software, do not try to implement everything at once. Start small so that you can proof your concept works. Then, iterate on it and make small improvements. Just don't let the code go out of control. \n",
    "\n",
    "So, we will start implementing our explorer class, make the basic work and create a basic inventory with a few items. You will start to get the hang out of classes and Python in general. If you want to try to implement more, feel free to experiment."
   ]
  },
  {
   "cell_type": "markdown",
   "metadata": {
    "collapsed": true
   },
   "source": [
    "## 1. The Explorer"
   ]
  },
  {
   "cell_type": "code",
   "execution_count": null,
   "metadata": {
    "collapsed": true
   },
   "outputs": [],
   "source": []
  },
  {
   "cell_type": "code",
   "execution_count": null,
   "metadata": {
    "collapsed": false
   },
   "outputs": [],
   "source": []
  },
  {
   "cell_type": "code",
   "execution_count": null,
   "metadata": {
    "collapsed": false
   },
   "outputs": [],
   "source": [
    "# We can damage him:\n"
   ]
  },
  {
   "cell_type": "code",
   "execution_count": null,
   "metadata": {
    "collapsed": false
   },
   "outputs": [],
   "source": []
  },
  {
   "cell_type": "markdown",
   "metadata": {},
   "source": [
    "# 2. Inventory and Items"
   ]
  },
  {
   "cell_type": "code",
   "execution_count": null,
   "metadata": {
    "collapsed": true
   },
   "outputs": [],
   "source": []
  },
  {
   "cell_type": "code",
   "execution_count": null,
   "metadata": {
    "collapsed": true
   },
   "outputs": [],
   "source": [
    "# We don't want to define our objects likes this.\n",
    "# There is too much repetitions.\n",
    "\n"
   ]
  },
  {
   "cell_type": "code",
   "execution_count": null,
   "metadata": {
    "collapsed": true
   },
   "outputs": [],
   "source": []
  },
  {
   "cell_type": "code",
   "execution_count": null,
   "metadata": {
    "collapsed": false
   },
   "outputs": [],
   "source": []
  },
  {
   "cell_type": "code",
   "execution_count": null,
   "metadata": {
    "collapsed": true
   },
   "outputs": [],
   "source": [
    "# We could use them like this:\n"
   ]
  },
  {
   "cell_type": "markdown",
   "metadata": {},
   "source": [
    "### \\_\\_str\\_\\_\n",
    "\n",
    "By overriding the `__str__` method and make it return a custom string, we can greatly improve our code and make our life much easier.\n",
    "\n",
    "`__str__` is what is called when you do a `str(someobject)` on some object."
   ]
  },
  {
   "cell_type": "code",
   "execution_count": null,
   "metadata": {
    "collapsed": false
   },
   "outputs": [],
   "source": []
  },
  {
   "cell_type": "markdown",
   "metadata": {},
   "source": [
    "Note that 2 instance of the same class are not nesseraly the same."
   ]
  },
  {
   "cell_type": "code",
   "execution_count": null,
   "metadata": {
    "collapsed": false
   },
   "outputs": [],
   "source": []
  },
  {
   "cell_type": "code",
   "execution_count": null,
   "metadata": {
    "collapsed": false
   },
   "outputs": [],
   "source": []
  },
  {
   "cell_type": "markdown",
   "metadata": {
    "collapsed": false
   },
   "source": [
    "Let's go back up and change our code. Then we come back here and test it."
   ]
  },
  {
   "cell_type": "code",
   "execution_count": null,
   "metadata": {
    "collapsed": false
   },
   "outputs": [],
   "source": []
  },
  {
   "cell_type": "code",
   "execution_count": null,
   "metadata": {
    "collapsed": true
   },
   "outputs": [],
   "source": [
    "# Let's pick up a few supplies\n"
   ]
  },
  {
   "cell_type": "code",
   "execution_count": null,
   "metadata": {
    "collapsed": false
   },
   "outputs": [],
   "source": []
  },
  {
   "cell_type": "code",
   "execution_count": null,
   "metadata": {
    "collapsed": false
   },
   "outputs": [],
   "source": [
    "# Great, let's drink. We have a method for that.\n"
   ]
  },
  {
   "cell_type": "code",
   "execution_count": null,
   "metadata": {
    "collapsed": false
   },
   "outputs": [],
   "source": []
  },
  {
   "cell_type": "code",
   "execution_count": null,
   "metadata": {
    "collapsed": true
   },
   "outputs": [],
   "source": []
  }
 ],
 "metadata": {
  "anaconda-cloud": {},
  "kernelspec": {
   "display_name": "Python [Root]",
   "language": "python",
   "name": "Python [Root]"
  },
  "language_info": {
   "codemirror_mode": {
    "name": "ipython",
    "version": 3
   },
   "file_extension": ".py",
   "mimetype": "text/x-python",
   "name": "python",
   "nbconvert_exporter": "python",
   "pygments_lexer": "ipython3",
   "version": "3.5.2"
  }
 },
 "nbformat": 4,
 "nbformat_minor": 0
}

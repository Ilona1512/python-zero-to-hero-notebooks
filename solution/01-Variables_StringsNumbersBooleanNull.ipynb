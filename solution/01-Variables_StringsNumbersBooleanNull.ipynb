{
 "cells": [
  {
   "cell_type": "markdown",
   "metadata": {
    "collapsed": true
   },
   "source": [
    "# Variables - Strings, Numbers, Booleans and Null\n",
    "\n",
    "Welcome to the first notebook lesson about variables!\n",
    "\n",
    "You are about to learn the most common data types in python, which are Strings, Numbers (Integers, Floats), Booleans (True-False values) and Null!\n",
    "\n",
    "Here we will only look at the **data types** for a basic usage. In later lessons, we will explore more indepth manipulations and computations. One entire lesson is dedicated to working with strings!"
   ]
  },
  {
   "cell_type": "markdown",
   "metadata": {},
   "source": [
    "## 1. Strings\n",
    "\n",
    "A string is simply some **text**.\n",
    "\n",
    "In Python, you store a string between single or double quotes (' or \"). There are no differences between them."
   ]
  },
  {
   "cell_type": "code",
   "execution_count": 1,
   "metadata": {
    "collapsed": true
   },
   "outputs": [],
   "source": [
    "# Define a variable called message that holds the text: Winter is coming!\n",
    "message = \"Winter is coming!\""
   ]
  },
  {
   "cell_type": "code",
   "execution_count": 2,
   "metadata": {
    "collapsed": false
   },
   "outputs": [
    {
     "name": "stdout",
     "output_type": "stream",
     "text": [
      "Winter is coming!\n"
     ]
    }
   ],
   "source": [
    "print(message)"
   ]
  },
  {
   "cell_type": "code",
   "execution_count": 3,
   "metadata": {
    "collapsed": false
   },
   "outputs": [
    {
     "name": "stdout",
     "output_type": "stream",
     "text": [
      "Winter is really coming!\n"
     ]
    }
   ],
   "source": [
    "message = 'Winter is really coming!'\n",
    "print(message)"
   ]
  },
  {
   "cell_type": "markdown",
   "metadata": {},
   "source": [
    "The real difference between single and double quotes is actually based on what the inside of your string looks like.\n",
    "If you want to use a single quote in a string defined with single quotes, then you need to escape / backslash the quote you want to store."
   ]
  },
  {
   "cell_type": "code",
   "execution_count": 4,
   "metadata": {
    "collapsed": false
   },
   "outputs": [
    {
     "name": "stdout",
     "output_type": "stream",
     "text": [
      "Winter isn't coming!\n"
     ]
    }
   ],
   "source": [
    "message = 'Winter isn\\'t coming!'\n",
    "print(message)"
   ]
  },
  {
   "cell_type": "code",
   "execution_count": 5,
   "metadata": {
    "collapsed": false
   },
   "outputs": [
    {
     "name": "stdout",
     "output_type": "stream",
     "text": [
      "Winter isn't coming!\n"
     ]
    }
   ],
   "source": [
    "# Just swtitch to double quotes and your code is more simple.\n",
    "message = \"Winter isn't coming!\"\n",
    "print(message)"
   ]
  },
  {
   "cell_type": "markdown",
   "metadata": {},
   "source": [
    "### Some special symbols\n",
    "\n",
    "If you want to put some special characters like a new line, you will need to use the so called backslash notation:"
   ]
  },
  {
   "cell_type": "code",
   "execution_count": 28,
   "metadata": {
    "collapsed": false
   },
   "outputs": [
    {
     "name": "stdout",
     "output_type": "stream",
     "text": [
      "\n",
      "This is a new\n",
      "line\n"
     ]
    }
   ],
   "source": [
    "# \\n\n",
    "print('\\nThis is a new\\nline')"
   ]
  },
  {
   "cell_type": "code",
   "execution_count": 29,
   "metadata": {
    "collapsed": false
   },
   "outputs": [
    {
     "name": "stdout",
     "output_type": "stream",
     "text": [
      "Printing a backlash \\\n",
      "Printing a backlash \\\\\n"
     ]
    }
   ],
   "source": [
    "# Backslash \\\\\n",
    "print('Printing a backlash \\\\')\n",
    "print('Printing a backlash \\\\\\\\')"
   ]
  },
  {
   "cell_type": "code",
   "execution_count": 30,
   "metadata": {
    "collapsed": false
   },
   "outputs": [
    {
     "name": "stdout",
     "output_type": "stream",
     "text": [
      "\n",
      "This is a \t\t tab\n"
     ]
    }
   ],
   "source": [
    "print('\\nThis is a \\t\\t tab')"
   ]
  },
  {
   "cell_type": "markdown",
   "metadata": {},
   "source": [
    "## 2. Numbers\n",
    "\n",
    "Next up: integers and floats.\n",
    "\n",
    "Again, we will just cover the basic usage."
   ]
  },
  {
   "cell_type": "markdown",
   "metadata": {},
   "source": [
    "### Integers"
   ]
  },
  {
   "cell_type": "code",
   "execution_count": 45,
   "metadata": {
    "collapsed": true
   },
   "outputs": [],
   "source": [
    "number_of_seasons = 5\n",
    "number_of_episodes = 62"
   ]
  },
  {
   "cell_type": "code",
   "execution_count": 46,
   "metadata": {
    "collapsed": false
   },
   "outputs": [
    {
     "name": "stdout",
     "output_type": "stream",
     "text": [
      "Seasons: 5\n",
      "Episodes: 62\n"
     ]
    }
   ],
   "source": [
    "# Print a string and append a variable\n",
    "print('Seasons:', number_of_seasons)\n",
    "print('Episodes:', number_of_episodes)"
   ]
  },
  {
   "cell_type": "markdown",
   "metadata": {},
   "source": [
    "You can convert, for example, a **string** into an **integer**.\n",
    "\n",
    "It is called **casting**."
   ]
  },
  {
   "cell_type": "code",
   "execution_count": 4,
   "metadata": {
    "collapsed": false
   },
   "outputs": [
    {
     "name": "stdout",
     "output_type": "stream",
     "text": [
      "2016\n"
     ]
    }
   ],
   "source": [
    "# Cast string to int\n",
    "year = int('2016') \n",
    "\n",
    "print(year)"
   ]
  },
  {
   "cell_type": "code",
   "execution_count": 44,
   "metadata": {
    "collapsed": false
   },
   "outputs": [
    {
     "ename": "ValueError",
     "evalue": "invalid literal for int() with base 10: 'not an integer'",
     "output_type": "error",
     "traceback": [
      "\u001b[0;31m---------------------------------------------------------------------------\u001b[0m",
      "\u001b[0;31mValueError\u001b[0m                                Traceback (most recent call last)",
      "\u001b[0;32m<ipython-input-44-373ba4964abd>\u001b[0m in \u001b[0;36m<module>\u001b[0;34m()\u001b[0m\n\u001b[1;32m      1\u001b[0m \u001b[0;31m# This will fail\u001b[0m\u001b[0;34m\u001b[0m\u001b[0;34m\u001b[0m\u001b[0m\n\u001b[0;32m----> 2\u001b[0;31m \u001b[0mint\u001b[0m\u001b[0;34m(\u001b[0m\u001b[0;34m'not an integer'\u001b[0m\u001b[0;34m)\u001b[0m\u001b[0;34m\u001b[0m\u001b[0m\n\u001b[0m",
      "\u001b[0;31mValueError\u001b[0m: invalid literal for int() with base 10: 'not an integer'"
     ]
    }
   ],
   "source": [
    "# This will fail\n",
    "int('not an integer')"
   ]
  },
  {
   "cell_type": "markdown",
   "metadata": {},
   "source": [
    "### Floats"
   ]
  },
  {
   "cell_type": "code",
   "execution_count": 35,
   "metadata": {
    "collapsed": false
   },
   "outputs": [
    {
     "name": "stdout",
     "output_type": "stream",
     "text": [
      "3.14159265359\n"
     ]
    }
   ],
   "source": [
    "# A float. The type is interpreted from what the variable contains.\n",
    "pi = 3.14159265359\n",
    "\n",
    "print(pi)"
   ]
  },
  {
   "cell_type": "code",
   "execution_count": 36,
   "metadata": {
    "collapsed": false
   },
   "outputs": [
    {
     "name": "stdout",
     "output_type": "stream",
     "text": [
      "39.89\n"
     ]
    }
   ],
   "source": [
    "# Cast a string to a float\n",
    "price = float('39.89')\n",
    "\n",
    "print(price)"
   ]
  },
  {
   "cell_type": "code",
   "execution_count": 37,
   "metadata": {
    "collapsed": false
   },
   "outputs": [
    {
     "data": {
      "text/plain": [
       "1.0"
      ]
     },
     "execution_count": 37,
     "metadata": {},
     "output_type": "execute_result"
    }
   ],
   "source": [
    "# Casting an int to a float also works\n",
    "float(1)"
   ]
  },
  {
   "cell_type": "code",
   "execution_count": 38,
   "metadata": {
    "collapsed": false
   },
   "outputs": [
    {
     "data": {
      "text/plain": [
       "1"
      ]
     },
     "execution_count": 38,
     "metadata": {},
     "output_type": "execute_result"
    }
   ],
   "source": [
    "# Casting a float to an int removes everything behind the comma!\n",
    "int(1.2)"
   ]
  },
  {
   "cell_type": "code",
   "execution_count": 40,
   "metadata": {
    "collapsed": false
   },
   "outputs": [
    {
     "data": {
      "text/plain": [
       "1"
      ]
     },
     "execution_count": 40,
     "metadata": {},
     "output_type": "execute_result"
    }
   ],
   "source": [
    "# No round up.\n",
    "int(1.9999)"
   ]
  },
  {
   "cell_type": "markdown",
   "metadata": {},
   "source": [
    "### Complex Numbers (BONUS for the math-lovers)"
   ]
  },
  {
   "cell_type": "code",
   "execution_count": 50,
   "metadata": {
    "collapsed": false
   },
   "outputs": [
    {
     "name": "stdout",
     "output_type": "stream",
     "text": [
      "(4+2j)\n"
     ]
    }
   ],
   "source": [
    "# One way to define a complex number\n",
    "c = 4 + 2j\n",
    "\n",
    "print(c)"
   ]
  },
  {
   "cell_type": "code",
   "execution_count": 52,
   "metadata": {
    "collapsed": false
   },
   "outputs": [
    {
     "name": "stdout",
     "output_type": "stream",
     "text": [
      "(2+3j)\n"
     ]
    }
   ],
   "source": [
    "# Another way:\n",
    "c = complex(2,3)\n",
    "print(c)"
   ]
  },
  {
   "cell_type": "code",
   "execution_count": 56,
   "metadata": {
    "collapsed": false
   },
   "outputs": [
    {
     "name": "stdout",
     "output_type": "stream",
     "text": [
      "2.0\n",
      "3.0\n",
      "(2-3j)\n"
     ]
    }
   ],
   "source": [
    "# Then you can access a few attributes\n",
    "print(c.real)\n",
    "print(c.imag)\n",
    "print(c.conjugate())"
   ]
  },
  {
   "cell_type": "markdown",
   "metadata": {},
   "source": [
    "### Some built-in functions for numbers"
   ]
  },
  {
   "cell_type": "code",
   "execution_count": 61,
   "metadata": {
    "collapsed": false
   },
   "outputs": [
    {
     "name": "stdout",
     "output_type": "stream",
     "text": [
      "|-20|   = 20\n",
      "|-8.76| = 8.76\n",
      "|-1|    = 1\n",
      "|0|     = 0\n",
      "|120|   = 120\n"
     ]
    }
   ],
   "source": [
    "# Get the absolute value of a number with abs()\n",
    "\n",
    "print('|-20|   =', abs(-20) )\n",
    "print('|-8.76| =', abs(-8.76) )\n",
    "print('|-1|    =', abs(-1) )\n",
    "print('|0|     =', abs(0) )\n",
    "print('|120|   =', abs(120) )"
   ]
  },
  {
   "cell_type": "code",
   "execution_count": 69,
   "metadata": {
    "collapsed": false
   },
   "outputs": [
    {
     "name": "stdout",
     "output_type": "stream",
     "text": [
      "round(1)   = 1\n",
      "round(1.1) = 1\n",
      "round(1.2) = 1\n",
      "round(1.3) = 1\n",
      "round(1.4) = 1\n",
      "round(1.5) = 2\n",
      "round(1.6) = 2\n",
      "round(1.7) = 2\n",
      "round(1.8) = 2\n",
      "round(1.9) = 2\n"
     ]
    }
   ],
   "source": [
    "# Round to the nearest integer with round()\n",
    "\n",
    "print('round(1)   =', round(1))\n",
    "print('round(1.1) =', round(1.1))\n",
    "print('round(1.2) =', round(1.2))\n",
    "print('round(1.3) =', round(1.3))\n",
    "print('round(1.4) =', round(1.4))\n",
    "print('round(1.5) =', round(1.5))\n",
    "print('round(1.6) =', round(1.6))\n",
    "print('round(1.7) =', round(1.7))\n",
    "print('round(1.8) =', round(1.8))\n",
    "print('round(1.9) =', round(1.9))"
   ]
  },
  {
   "cell_type": "code",
   "execution_count": 76,
   "metadata": {
    "collapsed": false
   },
   "outputs": [
    {
     "name": "stdout",
     "output_type": "stream",
     "text": [
      "round(3.14159265359, 0) = 3.0\n",
      "round(3.14159265359, 1) = 3.1\n",
      "round(3.14159265359, 2) = 3.14\n",
      "round(3.14159265359, 3) = 3.142\n",
      "round(3.14159265359, 4) = 3.1416\n"
     ]
    }
   ],
   "source": [
    "pi = 3.14159265359\n",
    "\n",
    "print('round(3.14159265359, 0) =', round(pi, 0))\n",
    "print('round(3.14159265359, 1) =', round(pi, 1))\n",
    "print('round(3.14159265359, 2) =', round(pi, 2))\n",
    "print('round(3.14159265359, 3) =', round(pi, 3))\n",
    "print('round(3.14159265359, 4) =', round(pi, 4))"
   ]
  },
  {
   "cell_type": "markdown",
   "metadata": {},
   "source": [
    "### The type of a variable\n",
    "\n",
    "**Little Trick**: You can check the type of a variable with type()"
   ]
  },
  {
   "cell_type": "code",
   "execution_count": 77,
   "metadata": {
    "collapsed": false
   },
   "outputs": [
    {
     "data": {
      "text/plain": [
       "str"
      ]
     },
     "execution_count": 77,
     "metadata": {},
     "output_type": "execute_result"
    }
   ],
   "source": [
    "type(message)"
   ]
  },
  {
   "cell_type": "code",
   "execution_count": 78,
   "metadata": {
    "collapsed": false
   },
   "outputs": [
    {
     "data": {
      "text/plain": [
       "int"
      ]
     },
     "execution_count": 78,
     "metadata": {},
     "output_type": "execute_result"
    }
   ],
   "source": [
    "type(number_of_seasons)"
   ]
  },
  {
   "cell_type": "code",
   "execution_count": 79,
   "metadata": {
    "collapsed": false
   },
   "outputs": [
    {
     "data": {
      "text/plain": [
       "float"
      ]
     },
     "execution_count": 79,
     "metadata": {},
     "output_type": "execute_result"
    }
   ],
   "source": [
    "type(price)"
   ]
  },
  {
   "cell_type": "markdown",
   "metadata": {},
   "source": [
    "Python is an intepreted language and variables have no strict type.\n",
    "\n",
    "This means that you can change a variables value to anything at any time."
   ]
  },
  {
   "cell_type": "code",
   "execution_count": 80,
   "metadata": {
    "collapsed": false
   },
   "outputs": [
    {
     "name": "stdout",
     "output_type": "stream",
     "text": [
      "Type of price variable before: <class 'float'>\n",
      "Type of price variable after: <class 'int'>\n"
     ]
    }
   ],
   "source": [
    "price = 1.5\n",
    "print('Type of price variable before:', type(price))\n",
    "      \n",
    "price = 0\n",
    "print('Type of price variable after:', type(price))"
   ]
  },
  {
   "cell_type": "markdown",
   "metadata": {},
   "source": [
    "## 3. Booleans\n",
    "\n",
    "A Boolean is a binary variable. It can be `0` or `1`, `False` or `True`.\n",
    "It is also often reffered to as a \"flag\", because you put the the flag **up** (True) or **down** (False)"
   ]
  },
  {
   "cell_type": "code",
   "execution_count": 27,
   "metadata": {
    "collapsed": false
   },
   "outputs": [
    {
     "name": "stdout",
     "output_type": "stream",
     "text": [
      "Is zombie? False\n",
      "Is bitten? True\n"
     ]
    }
   ],
   "source": [
    "is_zombie = False\n",
    "\n",
    "print('Is zombie?', is_zombie)\n",
    "\n",
    "is_bitten = True\n",
    "\n",
    "print('Is bitten?', is_bitten)"
   ]
  },
  {
   "cell_type": "markdown",
   "metadata": {},
   "source": [
    "In Python, you can cast everything to a boolean."
   ]
  },
  {
   "cell_type": "code",
   "execution_count": 81,
   "metadata": {
    "collapsed": false
   },
   "outputs": [
    {
     "data": {
      "text/plain": [
       "True"
      ]
     },
     "execution_count": 81,
     "metadata": {},
     "output_type": "execute_result"
    }
   ],
   "source": [
    "bool('I am positive :)')"
   ]
  },
  {
   "cell_type": "markdown",
   "metadata": {},
   "source": [
    "All those things evaluate to `False`:"
   ]
  },
  {
   "cell_type": "code",
   "execution_count": 85,
   "metadata": {
    "collapsed": false
   },
   "outputs": [
    {
     "name": "stdout",
     "output_type": "stream",
     "text": [
      "1:  False\n",
      "2:  False\n",
      "3:  False\n",
      "4:  False\n",
      "5:  False\n",
      "6:  False\n",
      "7:  False\n"
     ]
    }
   ],
   "source": [
    "print('1: ', bool(False))\n",
    "print('2: ', bool(0))\n",
    "print('3: ', bool(\"\"))\n",
    "print('4: ', bool(''))\n",
    "print('5: ', bool([]))\n",
    "print('6: ', bool({}))\n",
    "print('7: ', bool(None))"
   ]
  },
  {
   "cell_type": "markdown",
   "metadata": {},
   "source": [
    "And all those things evaluate to True:"
   ]
  },
  {
   "cell_type": "code",
   "execution_count": 86,
   "metadata": {
    "collapsed": false
   },
   "outputs": [
    {
     "name": "stdout",
     "output_type": "stream",
     "text": [
      "1:  True\n",
      "2:  True\n",
      "3:  True\n",
      "4:  True\n",
      "5:  True\n"
     ]
    }
   ],
   "source": [
    "print('1: ', bool(True))\n",
    "print('2: ', bool(1))\n",
    "print('3: ', bool(\"Brace yourself!\"))\n",
    "print('4: ', bool([1,2,3]))\n",
    "print('5: ', bool({'x':42}))"
   ]
  },
  {
   "cell_type": "markdown",
   "metadata": {},
   "source": [
    "*As a rule of thumb:* \"Something\" is always True, \"Nothing\" is always false."
   ]
  },
  {
   "cell_type": "markdown",
   "metadata": {},
   "source": [
    "## 4 Null"
   ]
  },
  {
   "cell_type": "markdown",
   "metadata": {},
   "source": [
    "Null in programming means \"nothing\", \"no value\", \"void\", \"empty\", ...\n",
    "\n",
    "In Python you use the keyword `None`.\n",
    "\n",
    "To create / initialize a variable you must give it a value. If you really want to give it nothing, well, then you give it \"nothing\"."
   ]
  },
  {
   "cell_type": "code",
   "execution_count": 88,
   "metadata": {
    "collapsed": false
   },
   "outputs": [
    {
     "ename": "NameError",
     "evalue": "name 'variable_that_i_will_use_later' is not defined",
     "output_type": "error",
     "traceback": [
      "\u001b[0;31m---------------------------------------------------------------------------\u001b[0m",
      "\u001b[0;31mNameError\u001b[0m                                 Traceback (most recent call last)",
      "\u001b[0;32m<ipython-input-88-bf9d66862280>\u001b[0m in \u001b[0;36m<module>\u001b[0;34m()\u001b[0m\n\u001b[1;32m      1\u001b[0m \u001b[0;31m# This fails\u001b[0m\u001b[0;34m\u001b[0m\u001b[0;34m\u001b[0m\u001b[0m\n\u001b[0;32m----> 2\u001b[0;31m \u001b[0mvariable_that_i_will_use_later\u001b[0m\u001b[0;34m\u001b[0m\u001b[0m\n\u001b[0m",
      "\u001b[0;31mNameError\u001b[0m: name 'variable_that_i_will_use_later' is not defined"
     ]
    }
   ],
   "source": [
    "# This fails\n",
    "variable_that_i_will_use_later"
   ]
  },
  {
   "cell_type": "code",
   "execution_count": 89,
   "metadata": {
    "collapsed": false
   },
   "outputs": [
    {
     "name": "stdout",
     "output_type": "stream",
     "text": [
      "The variable content:         None\n",
      "The variable type:            <class 'NoneType'>\n",
      "The variable boolean result:  False\n"
     ]
    }
   ],
   "source": [
    "variable_that_i_will_use_later = None\n",
    "print('The variable content:        ', variable_that_i_will_use_later)\n",
    "print('The variable type:           ', type(variable_that_i_will_use_later))\n",
    "print('The variable boolean result: ', bool(variable_that_i_will_use_later))"
   ]
  },
  {
   "cell_type": "code",
   "execution_count": null,
   "metadata": {
    "collapsed": true
   },
   "outputs": [],
   "source": []
  }
 ],
 "metadata": {
  "anaconda-cloud": {},
  "kernelspec": {
   "display_name": "Python [Root]",
   "language": "python",
   "name": "Python [Root]"
  },
  "language_info": {
   "codemirror_mode": {
    "name": "ipython",
    "version": 3
   },
   "file_extension": ".py",
   "mimetype": "text/x-python",
   "name": "python",
   "nbconvert_exporter": "python",
   "pygments_lexer": "ipython3",
   "version": "3.5.2"
  }
 },
 "nbformat": 4,
 "nbformat_minor": 0
}

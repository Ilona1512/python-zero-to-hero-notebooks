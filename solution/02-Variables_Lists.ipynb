{
 "cells": [
  {
   "cell_type": "markdown",
   "metadata": {},
   "source": [
    "# Lists\n",
    "\n",
    "A list is a sequence or array of objects. Lists are probably the most famous kind of data structures!\n",
    "\n",
    "You can put anything inside and you can even mix types of objects.\n",
    "\n",
    "Let's see it in action."
   ]
  },
  {
   "cell_type": "code",
   "execution_count": 1,
   "metadata": {
    "collapsed": false
   },
   "outputs": [
    {
     "name": "stdout",
     "output_type": "stream",
     "text": [
      "People: []\n"
     ]
    }
   ],
   "source": [
    "# Create an empty list. \n",
    "# A list is defined with square brackets [].\n",
    "people = []\n",
    "\n",
    "print('People:',people)"
   ]
  },
  {
   "cell_type": "code",
   "execution_count": 2,
   "metadata": {
    "collapsed": false
   },
   "outputs": [
    {
     "name": "stdout",
     "output_type": "stream",
     "text": [
      "Devices: ['Tablet', 'Laptop', 'Phone']\n"
     ]
    }
   ],
   "source": [
    "# Create a list with 3 strings. Separates items by comma\n",
    "devices = ['Tablet', 'Laptop', 'Phone']\n",
    "\n",
    "print('Devices:', devices)"
   ]
  },
  {
   "cell_type": "code",
   "execution_count": 4,
   "metadata": {
    "collapsed": false
   },
   "outputs": [
    {
     "name": "stdout",
     "output_type": "stream",
     "text": [
      "Numbers: [4, 8, 15, 16, 23, 42]\n"
     ]
    }
   ],
   "source": [
    "# Create a list with integers\n",
    "numbers = [4, 8, 15, 16, 23, 42]\n",
    "\n",
    "print('Numbers:', numbers)"
   ]
  },
  {
   "cell_type": "code",
   "execution_count": 7,
   "metadata": {
    "collapsed": false
   },
   "outputs": [
    {
     "name": "stdout",
     "output_type": "stream",
     "text": [
      "Items: ['Porsche', 911, 'GT', 3, 'RS']\n"
     ]
    }
   ],
   "source": [
    "# Create a list with mixed data types\n",
    "mixed_list = ['Porsche', 911, 'GT', 3, 'RS']\n",
    "\n",
    "print('Items:', mixed_list)"
   ]
  },
  {
   "cell_type": "markdown",
   "metadata": {},
   "source": [
    "**Tip:** If you need to define a bigger list, you can go on the next line to write the next item. This is the prefered styling:"
   ]
  },
  {
   "cell_type": "code",
   "execution_count": 9,
   "metadata": {
    "collapsed": false
   },
   "outputs": [
    {
     "name": "stdout",
     "output_type": "stream",
     "text": [
      "Lineup: ['Glenn', 'Tara', 'Daryl', 'Michonne', 'Abraham', 'Maggie', 'Rick', 'Sasha', 'Aaron', 'Carl', 'Eugene']\n"
     ]
    }
   ],
   "source": [
    "characters = [\n",
    "    'Glenn',\n",
    "    'Tara',\n",
    "    'Daryl',\n",
    "    'Michonne',\n",
    "    'Abraham',\n",
    "    'Maggie',\n",
    "    'Rick',\n",
    "    'Sasha',\n",
    "    'Aaron',\n",
    "    'Carl',\n",
    "    'Eugene'\n",
    "]\n",
    "\n",
    "print('Lineup:', characters)"
   ]
  },
  {
   "cell_type": "markdown",
   "metadata": {},
   "source": [
    "## Add to the list\n",
    "\n",
    "We have seen how to create a list. You can of course add more items to it later."
   ]
  },
  {
   "cell_type": "code",
   "execution_count": 62,
   "metadata": {
    "collapsed": false
   },
   "outputs": [
    {
     "name": "stdout",
     "output_type": "stream",
     "text": [
      "Before:  ['Tablet', 'Laptop', 'Phone']\n",
      "After:  ['Tablet', 'Laptop', 'Phone', 'Headset']\n"
     ]
    }
   ],
   "source": [
    "devices = ['Tablet', 'Laptop', 'Phone']\n",
    "\n",
    "print('Before: ', devices)\n",
    "\n",
    "# Add / Append one item at the end of the list.\n",
    "devices.append('Headset')\n",
    "\n",
    "print('After: ', devices)"
   ]
  },
  {
   "cell_type": "code",
   "execution_count": 63,
   "metadata": {
    "collapsed": false
   },
   "outputs": [
    {
     "name": "stdout",
     "output_type": "stream",
     "text": [
      "Devices: ['Tablet', 'Laptop', 'Phone', 'Headset', 'Mouse', 'Webcam']\n"
     ]
    }
   ],
   "source": [
    "# Add multiple items at the end of the list\n",
    "devices.extend(['Mouse', 'Webcam'])\n",
    "\n",
    "print('Devices:', devices)"
   ]
  },
  {
   "cell_type": "code",
   "execution_count": 64,
   "metadata": {
    "collapsed": false
   },
   "outputs": [
    {
     "name": "stdout",
     "output_type": "stream",
     "text": [
      "Devices: ['Tablet', 'Laptop', 'Old Modem', 'Phone', 'Headset', 'Mouse', 'Webcam']\n"
     ]
    }
   ],
   "source": [
    "# You can also insert an element in the list at a certain position\n",
    "devices.insert(2, 'Old Modem')\n",
    "\n",
    "print('Devices:', devices)"
   ]
  },
  {
   "cell_type": "markdown",
   "metadata": {},
   "source": [
    "## Remove an item"
   ]
  },
  {
   "cell_type": "code",
   "execution_count": 65,
   "metadata": {
    "collapsed": false
   },
   "outputs": [
    {
     "name": "stdout",
     "output_type": "stream",
     "text": [
      "Devices: ['Tablet', 'Laptop', 'Phone', 'Headset', 'Mouse', 'Webcam']\n"
     ]
    }
   ],
   "source": [
    "# Removing an item works by giving the value to be removed.\n",
    "# The first value to be found will be removed\n",
    "devices.remove('Old Modem')\n",
    "\n",
    "print('Devices:', devices)"
   ]
  },
  {
   "cell_type": "code",
   "execution_count": 66,
   "metadata": {
    "collapsed": false
   },
   "outputs": [
    {
     "ename": "ValueError",
     "evalue": "list.remove(x): x not in list",
     "output_type": "error",
     "traceback": [
      "\u001b[0;31m---------------------------------------------------------------------------\u001b[0m",
      "\u001b[0;31mValueError\u001b[0m                                Traceback (most recent call last)",
      "\u001b[0;32m<ipython-input-66-162fb1e0bed1>\u001b[0m in \u001b[0;36m<module>\u001b[0;34m()\u001b[0m\n\u001b[1;32m      1\u001b[0m \u001b[0;31m# If you try removing an item that does not exists in the list..\u001b[0m\u001b[0;34m\u001b[0m\u001b[0;34m\u001b[0m\u001b[0m\n\u001b[0;32m----> 2\u001b[0;31m \u001b[0mdevices\u001b[0m\u001b[0;34m.\u001b[0m\u001b[0mremove\u001b[0m\u001b[0;34m(\u001b[0m\u001b[0;34m'Old Modem'\u001b[0m\u001b[0;34m)\u001b[0m\u001b[0;34m\u001b[0m\u001b[0m\n\u001b[0m",
      "\u001b[0;31mValueError\u001b[0m: list.remove(x): x not in list"
     ]
    }
   ],
   "source": [
    "# If you try removing an item that does not exists in the list..\n",
    "devices.remove('Old Modem')"
   ]
  },
  {
   "cell_type": "markdown",
   "metadata": {},
   "source": [
    "As an alterantive, you can also use the function `pop(i)`, which takes an index as input and will remove the value at that position and return it to you.\n",
    "\n",
    "Let's recover the mouse object. We will need its index.\n",
    "\n",
    "Don't look at the list and count, we have a function for that."
   ]
  },
  {
   "cell_type": "code",
   "execution_count": 67,
   "metadata": {
    "collapsed": false
   },
   "outputs": [
    {
     "name": "stdout",
     "output_type": "stream",
     "text": [
      "Item popped: Mouse\n"
     ]
    }
   ],
   "source": [
    "mouse_index = devices.index('Mouse') # gets the index of the first 'Mouse' element\n",
    "\n",
    "mouse = devices.pop(mouse_index) # Pops the object at the given index\n",
    "\n",
    "print('Item popped:', mouse)"
   ]
  },
  {
   "cell_type": "code",
   "execution_count": 68,
   "metadata": {
    "collapsed": false
   },
   "outputs": [
    {
     "name": "stdout",
     "output_type": "stream",
     "text": [
      "Devices: ['Smart Watch', 'USB', 'Trackpad']\n",
      "After: []\n"
     ]
    }
   ],
   "source": [
    "# To remove all items, you can also clear the list\n",
    "other_devices = ['Smart Watch', 'USB', 'Trackpad']\n",
    "\n",
    "print('Devices:', other_devices)\n",
    "\n",
    "other_devices.clear()\n",
    "\n",
    "print('After:', other_devices)"
   ]
  },
  {
   "cell_type": "markdown",
   "metadata": {},
   "source": [
    "## Sort, Reverse\n",
    "\n",
    "To sort a list, you can use the buit-in function **sorted()** or the function **sort()** on the list itself.\n",
    "\n",
    "The difference between both is that sorted() does not permanantly changes the list. On the other hand, sort() changes the list forever."
   ]
  },
  {
   "cell_type": "code",
   "execution_count": 69,
   "metadata": {
    "collapsed": false
   },
   "outputs": [
    {
     "name": "stdout",
     "output_type": "stream",
     "text": [
      "Devices: ['Tablet', 'Laptop', 'Phone', 'Headset', 'Webcam']\n",
      "Devices: ['Headset', 'Laptop', 'Phone', 'Tablet', 'Webcam']\n",
      "Devices: ['Headset', 'Laptop', 'Phone', 'Tablet', 'Webcam']\n"
     ]
    }
   ],
   "source": [
    "print('Devices:', devices)\n",
    "\n",
    "print('Devices:', sorted(devices))\n",
    "\n",
    "devices.sort()\n",
    "\n",
    "print('Devices:', devices)"
   ]
  },
  {
   "cell_type": "code",
   "execution_count": 71,
   "metadata": {
    "collapsed": false
   },
   "outputs": [
    {
     "name": "stdout",
     "output_type": "stream",
     "text": [
      "Devices: ['Webcam', 'Tablet', 'Phone', 'Laptop', 'Headset']\n"
     ]
    }
   ],
   "source": [
    "# To reverse a list, it is pretty straighforward\n",
    "devices.reverse()\n",
    "print('Devices:', devices)"
   ]
  },
  {
   "cell_type": "code",
   "execution_count": 76,
   "metadata": {
    "collapsed": false
   },
   "outputs": [
    {
     "name": "stdout",
     "output_type": "stream",
     "text": [
      "Devices: ['Headset', 'Laptop', 'Phone', 'Tablet', 'Webcam']\n",
      "Devices: ['Webcam', 'Tablet', 'Phone', 'Laptop', 'Headset']\n",
      "Devices: ['Webcam', 'Tablet', 'Phone', 'Laptop', 'Headset']\n"
     ]
    }
   ],
   "source": [
    "# Or you can use sort() and set the parameter reverse to True\n",
    "devices.sort(reverse=False)\n",
    "print('Devices:', devices)\n",
    "\n",
    "devices.sort(reverse=True)\n",
    "print('Devices:', devices)\n",
    "\n",
    "devices.sort(reverse=False)\n",
    "devices.reverse()\n",
    "print('Devices:', devices)"
   ]
  },
  {
   "cell_type": "markdown",
   "metadata": {},
   "source": [
    "## Length / size of the list"
   ]
  },
  {
   "cell_type": "code",
   "execution_count": 57,
   "metadata": {
    "collapsed": false
   },
   "outputs": [
    {
     "name": "stdout",
     "output_type": "stream",
     "text": [
      "Number of devices: 5\n",
      "Number of characters: 11\n"
     ]
    }
   ],
   "source": [
    "# use the built-in function len() to get the size or count of the list \n",
    "\n",
    "print('Number of devices:', len(devices))\n",
    "print('Number of characters:', len(characters))"
   ]
  },
  {
   "cell_type": "markdown",
   "metadata": {},
   "source": [
    "## Get elements from the list"
   ]
  },
  {
   "cell_type": "code",
   "execution_count": 77,
   "metadata": {
    "collapsed": true
   },
   "outputs": [],
   "source": [
    "sequence = [1,2,3,4,5,6,7,8,9,10]"
   ]
  },
  {
   "cell_type": "code",
   "execution_count": 78,
   "metadata": {
    "collapsed": false
   },
   "outputs": [
    {
     "name": "stdout",
     "output_type": "stream",
     "text": [
      "The first item: 1\n"
     ]
    }
   ],
   "source": [
    "print('The first item:', sequence[0])"
   ]
  },
  {
   "cell_type": "markdown",
   "metadata": {},
   "source": [
    "The number between the square brackets is called the **index**. It starts at **0**.\n",
    "\n",
    "So, **0 is the first element** and `len(the_list) - 1` **is the last element**. "
   ]
  },
  {
   "cell_type": "code",
   "execution_count": 20,
   "metadata": {
    "collapsed": false
   },
   "outputs": [
    {
     "name": "stdout",
     "output_type": "stream",
     "text": [
      "The last item: 10\n"
     ]
    }
   ],
   "source": [
    "print('The last item:', sequence[len(sequence)-1])"
   ]
  },
  {
   "cell_type": "markdown",
   "metadata": {},
   "source": [
    "If you try to get an item that is \"out of the range\" then you get an error saying that you gave a wrong index."
   ]
  },
  {
   "cell_type": "code",
   "execution_count": 23,
   "metadata": {
    "collapsed": false
   },
   "outputs": [
    {
     "ename": "IndexError",
     "evalue": "list index out of range",
     "output_type": "error",
     "traceback": [
      "\u001b[0;31m---------------------------------------------------------------------------\u001b[0m",
      "\u001b[0;31mIndexError\u001b[0m                                Traceback (most recent call last)",
      "\u001b[0;32m<ipython-input-23-b04b48c42dbd>\u001b[0m in \u001b[0;36m<module>\u001b[0;34m()\u001b[0m\n\u001b[0;32m----> 1\u001b[0;31m \u001b[0mprint\u001b[0m\u001b[0;34m(\u001b[0m\u001b[0;34m'Out of range item:'\u001b[0m\u001b[0;34m,\u001b[0m \u001b[0msequence\u001b[0m\u001b[0;34m[\u001b[0m\u001b[0;36m20\u001b[0m\u001b[0;34m]\u001b[0m\u001b[0;34m)\u001b[0m\u001b[0;34m\u001b[0m\u001b[0m\n\u001b[0m",
      "\u001b[0;31mIndexError\u001b[0m: list index out of range"
     ]
    }
   ],
   "source": [
    "print('Out of range item:', sequence[20])"
   ]
  },
  {
   "cell_type": "markdown",
   "metadata": {},
   "source": [
    "What makes Python so powerful, is that you have notations to get what you want very fast with minimal coding."
   ]
  },
  {
   "cell_type": "code",
   "execution_count": 24,
   "metadata": {
    "collapsed": false
   },
   "outputs": [
    {
     "name": "stdout",
     "output_type": "stream",
     "text": [
      "The first 3 items: [1, 2, 3]\n"
     ]
    }
   ],
   "source": [
    "# Lets get multiple elements.\n",
    "# For this, use Python ':' notation.\n",
    "\n",
    "print('The first 3 items:', sequence[:3])"
   ]
  },
  {
   "cell_type": "code",
   "execution_count": 25,
   "metadata": {
    "collapsed": false
   },
   "outputs": [
    {
     "name": "stdout",
     "output_type": "stream",
     "text": [
      "All items starting from index 2: [3, 4, 5, 6, 7, 8, 9, 10]\n"
     ]
    }
   ],
   "source": [
    "print('All items starting from index 2:', sequence[2:])"
   ]
  },
  {
   "cell_type": "code",
   "execution_count": 26,
   "metadata": {
    "collapsed": false
   },
   "outputs": [
    {
     "name": "stdout",
     "output_type": "stream",
     "text": [
      "Items between index 2 and 5: [3, 4, 5]\n"
     ]
    }
   ],
   "source": [
    "print('Items between index 2 and 5:', sequence[2:5])"
   ]
  },
  {
   "cell_type": "code",
   "execution_count": 27,
   "metadata": {
    "collapsed": false
   },
   "outputs": [
    {
     "name": "stdout",
     "output_type": "stream",
     "text": [
      "The last item: 10\n",
      "The last item: 10\n"
     ]
    }
   ],
   "source": [
    "# We have seen this method to get the last item:\n",
    "print('The last item:', sequence[len(sequence)-1])\n",
    "\n",
    "# Brace yourself:\n",
    "print('The last item:', sequence[-1])"
   ]
  },
  {
   "cell_type": "code",
   "execution_count": 28,
   "metadata": {
    "collapsed": false
   },
   "outputs": [
    {
     "name": "stdout",
     "output_type": "stream",
     "text": [
      "The second last item: 9\n"
     ]
    }
   ],
   "source": [
    "print('The second last item:', sequence[-2])"
   ]
  },
  {
   "cell_type": "code",
   "execution_count": 30,
   "metadata": {
    "collapsed": false
   },
   "outputs": [
    {
     "name": "stdout",
     "output_type": "stream",
     "text": [
      "The last 4 item: [7, 8, 9, 10]\n"
     ]
    }
   ],
   "source": [
    "print('The last 4 items:', sequence[-4:])"
   ]
  },
  {
   "cell_type": "code",
   "execution_count": 83,
   "metadata": {
    "collapsed": false
   },
   "outputs": [
    {
     "name": "stdout",
     "output_type": "stream",
     "text": [
      "Normal   : [1, 2, 3, 4, 5, 6, 7, 8, 9, 10]\n",
      "Reversed : [10, 9, 8, 7, 6, 5, 4, 3, 2, 1]\n"
     ]
    }
   ],
   "source": [
    "# Little trick to reverse a list with this notation:\n",
    "print('Normal   :', sequence)\n",
    "print('Reversed :', sequence[::-1]) # start:begin:steps\n",
    "\n",
    "# You can read more about the Extended Slice Synax here:\n",
    "# https://docs.python.org/release/2.3.5/whatsnew/section-slices.html"
   ]
  },
  {
   "cell_type": "markdown",
   "metadata": {},
   "source": [
    "## 2D Array Example\n",
    "\n",
    "Creating a **2D array** or matrix in Python is not so trivial. Let's just briefly explore how it would work."
   ]
  },
  {
   "cell_type": "code",
   "execution_count": 88,
   "metadata": {
    "collapsed": false
   },
   "outputs": [
    {
     "name": "stdout",
     "output_type": "stream",
     "text": [
      "Matrix: [[], []]\n"
     ]
    }
   ],
   "source": [
    "# Create a list, with 2 nested lists inside.\n",
    "matrix = [[],[]]\n",
    "\n",
    "print('Matrix:', matrix)"
   ]
  },
  {
   "cell_type": "code",
   "execution_count": 89,
   "metadata": {
    "collapsed": false
   },
   "outputs": [
    {
     "name": "stdout",
     "output_type": "stream",
     "text": [
      "Matrix: [[1, 2], [3, 4]]\n"
     ]
    }
   ],
   "source": [
    "matrix[0].append(1) # Add element to the first row\n",
    "matrix[0].append(2) # Add element to the first row\n",
    "\n",
    "matrix[1].append(3) # Add element to the second row\n",
    "matrix[1].append(4) # Add element to the second row\n",
    "\n",
    "print('Matrix:', matrix)"
   ]
  },
  {
   "cell_type": "code",
   "execution_count": 92,
   "metadata": {
    "collapsed": false
   },
   "outputs": [
    {
     "name": "stdout",
     "output_type": "stream",
     "text": [
      "1st Row: [1, 2]\n",
      "2nd Row: [3, 4]\n"
     ]
    }
   ],
   "source": [
    "print('1st Row:', matrix[0])\n",
    "print('2nd Row:', matrix[1])"
   ]
  },
  {
   "cell_type": "code",
   "execution_count": 93,
   "metadata": {
    "collapsed": false
   },
   "outputs": [
    {
     "name": "stdout",
     "output_type": "stream",
     "text": [
      "1st Element in 1st Column: 1\n",
      "2nd Element in 1st Column: 2\n"
     ]
    }
   ],
   "source": [
    "print('1st Element in 1st Column:', matrix[0][0])\n",
    "print('2nd Element in 1st Column:', matrix[0][1])"
   ]
  },
  {
   "cell_type": "markdown",
   "metadata": {
    "collapsed": true
   },
   "source": [
    "# References\n",
    "\n",
    "- [Python Documentation about lists](https://docs.python.org/3/tutorial/datastructures.html)"
   ]
  },
  {
   "cell_type": "code",
   "execution_count": null,
   "metadata": {
    "collapsed": true
   },
   "outputs": [],
   "source": []
  }
 ],
 "metadata": {
  "anaconda-cloud": {},
  "kernelspec": {
   "display_name": "Python [Root]",
   "language": "python",
   "name": "Python [Root]"
  },
  "language_info": {
   "codemirror_mode": {
    "name": "ipython",
    "version": 3
   },
   "file_extension": ".py",
   "mimetype": "text/x-python",
   "name": "python",
   "nbconvert_exporter": "python",
   "pygments_lexer": "ipython3",
   "version": "3.5.2"
  }
 },
 "nbformat": 4,
 "nbformat_minor": 0
}

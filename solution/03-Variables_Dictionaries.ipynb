{
 "cells": [
  {
   "cell_type": "markdown",
   "metadata": {},
   "source": [
    "# Dictionaries\n",
    "\n",
    "A dictionary is a data structure to **map/associate** a **key** to a **value**. \n",
    "\n",
    "The important thing to know is that keys are unique in the dictionary. You map a value of any type to a specific unique key in the dictionary. If you map another value to that same key, then you override the previous value!\n",
    "\n",
    "Also keep in mind that keys must be of an immutable data type such as **strings, numbers, or tuples**.\n",
    "\n",
    "A dictionary is defined between curly braces {}, and not square brackets like lists [].\n",
    "\n",
    "A key and a value are separeted by a colon \":\" and key-value pairs are separated by commas \",\".\n",
    "\n",
    "And finally, dictionary are unordered, meaning that they the order you put the keys in might not necessary be in the same order than when, for example, you print all keys.\n",
    "\n",
    "*If you know what is JSON, then dictionaries are pretty much the same.*"
   ]
  },
  {
   "cell_type": "code",
   "execution_count": 1,
   "metadata": {
    "collapsed": false
   },
   "outputs": [
    {
     "name": "stdout",
     "output_type": "stream",
     "text": [
      "Language Dictionary: {}\n"
     ]
    }
   ],
   "source": [
    "# Initialize an empty dictionary using curly braces.\n",
    "languages = {}\n",
    "\n",
    "print('Language Dictionary:', languages)"
   ]
  },
  {
   "cell_type": "code",
   "execution_count": 3,
   "metadata": {
    "collapsed": false
   },
   "outputs": [
    {
     "name": "stdout",
     "output_type": "stream",
     "text": [
      "Language Dictionary: {'LU': 'Luxembourgish', 'DE': 'German', 'EN': 'English', 'FR': 'French'}\n"
     ]
    }
   ],
   "source": [
    "# Initialize a dictionary with key-value pairs, that map\n",
    "# a language code (the key) to a language name (the value).\n",
    "# Here, we map a string to another string.\n",
    "languages = {\n",
    "    'EN': 'English',\n",
    "    'FR': 'French',\n",
    "    'LU': 'Luxembourgish',\n",
    "    'DE': 'German'\n",
    "}\n",
    "\n",
    "print('Language Dictionary:', languages)"
   ]
  },
  {
   "cell_type": "markdown",
   "metadata": {},
   "source": [
    "## Get a value for a key"
   ]
  },
  {
   "cell_type": "code",
   "execution_count": 7,
   "metadata": {
    "collapsed": false
   },
   "outputs": [
    {
     "name": "stdout",
     "output_type": "stream",
     "text": [
      "English\n",
      "French\n",
      "Luxembourgish\n",
      "German\n"
     ]
    }
   ],
   "source": [
    "# You can get any value if you know the key\n",
    "print( languages['EN'] )\n",
    "print( languages['FR'] )\n",
    "print( languages['LU'] )\n",
    "print( languages['DE'] )"
   ]
  },
  {
   "cell_type": "code",
   "execution_count": 8,
   "metadata": {
    "collapsed": false
   },
   "outputs": [
    {
     "name": "stdout",
     "output_type": "stream",
     "text": [
      "dict_keys(['LU', 'DE', 'EN', 'FR'])\n"
     ]
    }
   ],
   "source": [
    "# Get all the keys:\n",
    "print( languages.keys() )"
   ]
  },
  {
   "cell_type": "code",
   "execution_count": 10,
   "metadata": {
    "collapsed": false
   },
   "outputs": [
    {
     "name": "stdout",
     "output_type": "stream",
     "text": [
      "dict_values(['Luxembourgish', 'German', 'English', 'French'])\n"
     ]
    }
   ],
   "source": [
    "# Get all the values:\n",
    "print( languages.values() )"
   ]
  },
  {
   "cell_type": "markdown",
   "metadata": {},
   "source": [
    "## Example 1: Facebook Post Data"
   ]
  },
  {
   "cell_type": "markdown",
   "metadata": {},
   "source": [
    "Dictionaries are amazing and you can easily model a lot of things. You can build nested data structures by having a dictionary in a dictionary, dictionaries in a list or any kind of mix of data structures...\n",
    "\n",
    "To better get the feeling of how dictionaries work, we will use, as an example, a large dictionary that represents a Facebook Post."
   ]
  },
  {
   "cell_type": "code",
   "execution_count": 2,
   "metadata": {
    "collapsed": false
   },
   "outputs": [],
   "source": [
    "fb_post = {\n",
    "    'author':'John Cena',\n",
    "    'date': '15/09/2016 14h00',\n",
    "    'post': 'While you may not win them all, YOU NEVER GIVE UP and come back even stronger.',\n",
    "    'image': 'http://www.notreallyfacebook.com/images/74c48ee',\n",
    "    'url': 'http://wwww.notreallyfacebook.com/post/294720',\n",
    "    'hashtags': [], # Empty list\n",
    "    'comments': [ # An array / list containing multiple dictionaries\n",
    "        {\n",
    "            'author': 'Charles',\n",
    "            'date': '15/09/2016 14h05',\n",
    "            'message': 'First Comment! Awesome',\n",
    "            'comments': [ # Let's add sub comments.\n",
    "                {\n",
    "                    'author': 'Angela',\n",
    "                    'date': '15/09/2016 14h06',\n",
    "                    'message': 'Why are people still doing that in 2016?'\n",
    "                }\n",
    "            ]\n",
    "        },\n",
    "        {\n",
    "            'author': 'Scott',\n",
    "            'date': '15/09/2016 14h08',\n",
    "            'message': 'Go John!'\n",
    "        },\n",
    "        {\n",
    "            'author': 'Anthony',\n",
    "            'date': '15/09/2016 14h15',\n",
    "            'message': 'This is some dose of motivation.'\n",
    "        }\n",
    "    ]\n",
    "}"
   ]
  },
  {
   "cell_type": "code",
   "execution_count": 3,
   "metadata": {
    "collapsed": false
   },
   "outputs": [
    {
     "data": {
      "text/plain": [
       "{'author': 'John Cena',\n",
       " 'comments': [{'author': 'Charles',\n",
       "   'comments': [{'author': 'Angela',\n",
       "     'date': '15/09/2016 14h06',\n",
       "     'message': 'Why are people still doing that in 2016?'}],\n",
       "   'date': '15/09/2016 14h05',\n",
       "   'message': 'First Comment! Awesome'},\n",
       "  {'author': 'Scott', 'date': '15/09/2016 14h08', 'message': 'Go John!'},\n",
       "  {'author': 'Anthony',\n",
       "   'date': '15/09/2016 14h15',\n",
       "   'message': 'This is some dose of motivation.'}],\n",
       " 'date': '15/09/2016 14h00',\n",
       " 'hashtags': [],\n",
       " 'image': 'http://www.notreallyfacebook.com/images/74c48ee',\n",
       " 'post': 'While you may not win them all, YOU NEVER GIVE UP and come back even stronger.',\n",
       " 'url': 'http://wwww.notreallyfacebook.com/post/294720'}"
      ]
     },
     "execution_count": 3,
     "metadata": {},
     "output_type": "execute_result"
    }
   ],
   "source": [
    "fb_post"
   ]
  },
  {
   "cell_type": "code",
   "execution_count": 4,
   "metadata": {
    "collapsed": false
   },
   "outputs": [
    {
     "name": "stdout",
     "output_type": "stream",
     "text": [
      "There are 3 comments\n"
     ]
    }
   ],
   "source": [
    "# Let's check how many comments there are:\n",
    "number_of_comments = len(fb_post['comments'])\n",
    "\n",
    "print('There are {} comments'.format(number_of_comments)) # Don't worry about this .format, we will see it later."
   ]
  },
  {
   "cell_type": "code",
   "execution_count": 16,
   "metadata": {
    "collapsed": false
   },
   "outputs": [
    {
     "data": {
      "text/plain": [
       "{'author': 'Anthony',\n",
       " 'date': '15/09/2016 14h15',\n",
       " 'message': 'This is some dose of motivation.'}"
      ]
     },
     "execution_count": 16,
     "metadata": {},
     "output_type": "execute_result"
    }
   ],
   "source": [
    "# The third comment (index starts at 0, remember)\n",
    "fb_post['comments'][2]"
   ]
  },
  {
   "cell_type": "code",
   "execution_count": 17,
   "metadata": {
    "collapsed": false
   },
   "outputs": [
    {
     "data": {
      "text/plain": [
       "'Charles'"
      ]
     },
     "execution_count": 17,
     "metadata": {},
     "output_type": "execute_result"
    }
   ],
   "source": [
    "# The author of the first (index 0) comment.\n",
    "fb_post['comments'][0]['author']"
   ]
  },
  {
   "cell_type": "markdown",
   "metadata": {},
   "source": [
    "## Add or update a key-value pair\n",
    "\n",
    "You can add or change a value for a key in a dictionary.\n",
    "\n",
    "If you assign a value to an non-existent key, then it will be added."
   ]
  },
  {
   "cell_type": "code",
   "execution_count": 18,
   "metadata": {
    "collapsed": false
   },
   "outputs": [
    {
     "ename": "KeyError",
     "evalue": "'likes'",
     "output_type": "error",
     "traceback": [
      "\u001b[0;31m---------------------------------------------------------------------------\u001b[0m",
      "\u001b[0;31mKeyError\u001b[0m                                  Traceback (most recent call last)",
      "\u001b[0;32m<ipython-input-18-894c9d95079e>\u001b[0m in \u001b[0;36m<module>\u001b[0;34m()\u001b[0m\n\u001b[1;32m      1\u001b[0m \u001b[0;31m# There was no 'likes' key in the dictionary, so this will fail\u001b[0m\u001b[0;34m\u001b[0m\u001b[0;34m\u001b[0m\u001b[0m\n\u001b[0;32m----> 2\u001b[0;31m \u001b[0mfb_post\u001b[0m\u001b[0;34m[\u001b[0m\u001b[0;34m'likes'\u001b[0m\u001b[0;34m]\u001b[0m\u001b[0;34m\u001b[0m\u001b[0m\n\u001b[0m",
      "\u001b[0;31mKeyError\u001b[0m: 'likes'"
     ]
    }
   ],
   "source": [
    "# There was no 'likes' key in the dictionary, so this will fail\n",
    "fb_post['likes']"
   ]
  },
  {
   "cell_type": "code",
   "execution_count": 20,
   "metadata": {
    "collapsed": false
   },
   "outputs": [
    {
     "name": "stdout",
     "output_type": "stream",
     "text": [
      "Is the key \"like\" in the dictionary? True\n",
      "Likes: 459\n"
     ]
    }
   ],
   "source": [
    "# We add the value 459 to the key 'likes'\n",
    "fb_post['likes'] = 459\n",
    "\n",
    "print('Is the key \"like\" in the dictionary?', 'likes' in fb_post) # \"in\" covered in later lessons\n",
    "print('Likes:', fb_post['likes'])"
   ]
  },
  {
   "cell_type": "code",
   "execution_count": 27,
   "metadata": {
    "collapsed": false
   },
   "outputs": [
    {
     "name": "stdout",
     "output_type": "stream",
     "text": [
      "Likes: 465\n"
     ]
    }
   ],
   "source": [
    "# Change / Update the value for a key\n",
    "\n",
    "# Add 1 to the value of the key 'likes'\n",
    "fb_post['likes'] += 1\n",
    "print('Likes:', fb_post['likes'])"
   ]
  },
  {
   "cell_type": "code",
   "execution_count": 29,
   "metadata": {
    "collapsed": false
   },
   "outputs": [
    {
     "data": {
      "text/plain": [
       "dict_keys(['date', 'url', 'author', 'comments', 'likes', 'hashtags', 'image', 'post'])"
      ]
     },
     "execution_count": 29,
     "metadata": {},
     "output_type": "execute_result"
    }
   ],
   "source": [
    "# Prints only the keys at the first level!\n",
    "fb_post.keys()"
   ]
  },
  {
   "cell_type": "markdown",
   "metadata": {},
   "source": [
    "## Remove a key-value pair\n",
    "\n",
    "There are 2 techniques for removing a key and its value."
   ]
  },
  {
   "cell_type": "code",
   "execution_count": 37,
   "metadata": {
    "collapsed": false
   },
   "outputs": [
    {
     "name": "stdout",
     "output_type": "stream",
     "text": [
      "Technique 1:\n",
      "1) Dictionary: {'c': 10, 'a': 1, 'b': 2}\n",
      "2) Dictionary: {'c': 10, 'b': 2}\n"
     ]
    }
   ],
   "source": [
    "# First technique:\n",
    "print('Technique 1:')\n",
    "\n",
    "example = {'a': 1, 'b': 2, 'c':10}\n",
    "print('1) Dictionary:', example)\n",
    "\n",
    "# Deletes the value associated to the key 'a'\n",
    "del example['a'] \n",
    "print('2) Dictionary:', example)"
   ]
  },
  {
   "cell_type": "code",
   "execution_count": 38,
   "metadata": {
    "collapsed": false
   },
   "outputs": [
    {
     "name": "stdout",
     "output_type": "stream",
     "text": [
      "Technique 2:\n",
      "3) Dictionary: {'c': 10}\n",
      "Value of b: 2\n"
     ]
    }
   ],
   "source": [
    "# Second technique:\n",
    "print('Technique 2:')\n",
    "\n",
    "# Pop(), takes the value associated with the key 'b' out, returns it and removes it from the dictionary.\n",
    "value_of_b = example.pop('b') \n",
    "\n",
    "print('3) Dictionary:', example)\n",
    "\n",
    "print('Value of b:', value_of_b)"
   ]
  },
  {
   "cell_type": "markdown",
   "metadata": {
    "collapsed": true
   },
   "source": [
    "# Sets (BONUS)\n",
    "\n",
    "Python also includes a data type for sets. A set is an unordered collection with no duplicate elements. Basic usage include membership testing and eliminating duplicate entries. Set objects also support mathematical operations like union, intersection, difference, and symmetric difference.\n",
    "\n",
    "Curly braces or the set() function can be used to create sets. Note: to create an empty set you have to use set(), not {}; the latter creates an empty dictionary, a data structure that we discuss in the next section.\n",
    "\n",
    "https://docs.python.org/3/tutorial/datastructures.html#sets"
   ]
  },
  {
   "cell_type": "code",
   "execution_count": 44,
   "metadata": {
    "collapsed": false
   },
   "outputs": [
    {
     "name": "stdout",
     "output_type": "stream",
     "text": [
      "Set A: {1, 2, 3, 4}\n",
      "Set A: {3, 4, 5, 6}\n"
     ]
    }
   ],
   "source": [
    "set_a = {1, 2, 3, 4}\n",
    "set_b = {3, 4, 5, 6}\n",
    "\n",
    "print('Set A:', set_a)\n",
    "print('Set A:', set_b)"
   ]
  },
  {
   "cell_type": "code",
   "execution_count": 47,
   "metadata": {
    "collapsed": false
   },
   "outputs": [
    {
     "name": "stdout",
     "output_type": "stream",
     "text": [
      "Set A: {1, 2, 3, 4}\n",
      "Set A: {3, 4, 5, 6}\n"
     ]
    }
   ],
   "source": [
    "set_a = set([1, 2, 3, 4]) # cast list to set\n",
    "set_b = set([3, 4, 5, 6]) # cast list to set\n",
    "\n",
    "print('Set A:', set_a)\n",
    "print('Set A:', set_b)"
   ]
  },
  {
   "cell_type": "code",
   "execution_count": 48,
   "metadata": {
    "collapsed": false
   },
   "outputs": [
    {
     "name": "stdout",
     "output_type": "stream",
     "text": [
      "Set C: {1, 2, 3, 4}\n"
     ]
    }
   ],
   "source": [
    "set_c = set([1, 2, 2, 3, 4, 4]) # cast list to set. Duplicates will be removed!\n",
    "\n",
    "print('Set C:', set_c)"
   ]
  },
  {
   "cell_type": "code",
   "execution_count": 49,
   "metadata": {
    "collapsed": false
   },
   "outputs": [
    {
     "name": "stdout",
     "output_type": "stream",
     "text": [
      "Empty set: set()\n"
     ]
    }
   ],
   "source": [
    "print('Empty set:', set())"
   ]
  },
  {
   "cell_type": "code",
   "execution_count": 54,
   "metadata": {
    "collapsed": false
   },
   "outputs": [
    {
     "name": "stdout",
     "output_type": "stream",
     "text": [
      "a - b = {1, 2}\n",
      "a | b = {1, 2, 3, 4, 5, 6}\n",
      "a & b = {3, 4}\n",
      "a ^ b = {1, 2, 5, 6}\n"
     ]
    }
   ],
   "source": [
    "# Small example to demonstrate operations on sets. Check the documentation if you need a bit more details. \n",
    "\n",
    "# Numbers in a but not b\n",
    "print('a - b =', set_a - set_b)\n",
    "\n",
    "# Numbers in either a or b\n",
    "print('a | b =', set_a | set_b)\n",
    "\n",
    "# Numbers in both a and b\n",
    "print('a & b =', set_a & set_b)\n",
    "\n",
    "# Numbers in a or b, but not both\n",
    "print('a ^ b =', set_a ^ set_b)"
   ]
  },
  {
   "cell_type": "code",
   "execution_count": null,
   "metadata": {
    "collapsed": true
   },
   "outputs": [],
   "source": []
  }
 ],
 "metadata": {
  "anaconda-cloud": {},
  "kernelspec": {
   "display_name": "Python [Root]",
   "language": "python",
   "name": "Python [Root]"
  },
  "language_info": {
   "codemirror_mode": {
    "name": "ipython",
    "version": 3
   },
   "file_extension": ".py",
   "mimetype": "text/x-python",
   "name": "python",
   "nbconvert_exporter": "python",
   "pygments_lexer": "ipython3",
   "version": "3.5.2"
  }
 },
 "nbformat": 4,
 "nbformat_minor": 0
}

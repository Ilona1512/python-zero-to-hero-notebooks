{
 "cells": [
  {
   "cell_type": "markdown",
   "metadata": {},
   "source": [
    "In this notebook you will get to learn the basics of arithemic operators and arithmetic comparisons.\n",
    "\n",
    "# 1. Arthimetic Operators"
   ]
  },
  {
   "cell_type": "markdown",
   "metadata": {},
   "source": [
    "Starting with arithmetic operators, we will cover:\n",
    "\n",
    "Operator         |  Syntax\n",
    "-----------------|:----:\n",
    "Addition         | x \\+ y\n",
    "Substraction     | x \\- y\n",
    "Multipication    | x \\* y\n",
    "Division         | x / y\n",
    "Modulus          | x % y\n",
    "Exponent (Power) | x**y"
   ]
  },
  {
   "cell_type": "markdown",
   "metadata": {},
   "source": [
    "### Addition\n",
    "\n",
    "Addition is done with the plus sign \"+\"."
   ]
  },
  {
   "cell_type": "code",
   "execution_count": 21,
   "metadata": {
    "collapsed": false
   },
   "outputs": [
    {
     "name": "stdout",
     "output_type": "stream",
     "text": [
      "a = 100\n",
      "a + 1 = 101\n",
      "a + 50 = 151\n",
      "a + 0.89 = 151.89\n"
     ]
    }
   ],
   "source": [
    "a = 100\n",
    "print('a =', a)\n",
    "\n",
    "a = a + 1\n",
    "print('a + 1 =', a)\n",
    "\n",
    "a = a + 50\n",
    "print('a + 50 =', a)\n",
    "\n",
    "a = a + 0.89\n",
    "print('a + 0.89 =', a)"
   ]
  },
  {
   "cell_type": "code",
   "execution_count": 22,
   "metadata": {
    "collapsed": false
   },
   "outputs": [
    {
     "name": "stdout",
     "output_type": "stream",
     "text": [
      "a = 100\n",
      "a + 1 = 101\n",
      "a + 50 = 151\n",
      "a + 0.89 = 151.89\n"
     ]
    }
   ],
   "source": [
    "a = 100\n",
    "print('a =', a)\n",
    "\n",
    "a += 1\n",
    "print('a + 1 =', a)\n",
    "\n",
    "a += 50\n",
    "print('a + 50 =', a)\n",
    "\n",
    "a += 0.89\n",
    "print('a + 0.89 =', a)"
   ]
  },
  {
   "cell_type": "markdown",
   "metadata": {},
   "source": [
    "### Substraction\n",
    "\n",
    "Substraction is done with the minus sign \"-\"."
   ]
  },
  {
   "cell_type": "code",
   "execution_count": 24,
   "metadata": {
    "collapsed": false
   },
   "outputs": [
    {
     "name": "stdout",
     "output_type": "stream",
     "text": [
      "a = 100\n",
      "a - 1 = 99\n",
      "a - 49 = 50\n",
      "a - 55.45 = -5.450000000000003\n"
     ]
    }
   ],
   "source": [
    "a = 100\n",
    "print('a =', a)\n",
    "\n",
    "a = a - 1\n",
    "print('a - 1 =', a)\n",
    "\n",
    "a = a - 49\n",
    "print('a - 49 =', a)\n",
    "\n",
    "a = a - 55.45\n",
    "print('a - 55.45 =', a)"
   ]
  },
  {
   "cell_type": "code",
   "execution_count": 25,
   "metadata": {
    "collapsed": false
   },
   "outputs": [
    {
     "name": "stdout",
     "output_type": "stream",
     "text": [
      "a = 100\n",
      "a - 1 = 99\n",
      "a - 49 = 50\n",
      "a - 55.45 = -5.450000000000003\n"
     ]
    }
   ],
   "source": [
    "a = 100\n",
    "print('a =', a)\n",
    "\n",
    "a -= 1\n",
    "print('a - 1 =', a)\n",
    "\n",
    "a -= 49\n",
    "print('a - 49 =', a)\n",
    "\n",
    "a -= 55.45\n",
    "print('a - 55.45 =', a)"
   ]
  },
  {
   "cell_type": "markdown",
   "metadata": {},
   "source": [
    "### Multiplication\n",
    "\n",
    "Multiplication is done with the star sign \"*\"."
   ]
  },
  {
   "cell_type": "code",
   "execution_count": 105,
   "metadata": {
    "collapsed": false
   },
   "outputs": [
    {
     "name": "stdout",
     "output_type": "stream",
     "text": [
      "a = 2\n",
      "a * 10 = 20\n",
      "a * 0.5 = 10.0\n",
      "a * (-1) = -10.0\n"
     ]
    }
   ],
   "source": [
    "a = 2\n",
    "print('a =', a)\n",
    "\n",
    "a = a * 10\n",
    "print('a * 10 =', a)\n",
    "\n",
    "a = a * 0.5\n",
    "print('a * 0.5 =', a)\n",
    "\n",
    "a = a * -1\n",
    "print('a * (-1) =', a)"
   ]
  },
  {
   "cell_type": "code",
   "execution_count": 106,
   "metadata": {
    "collapsed": false
   },
   "outputs": [
    {
     "name": "stdout",
     "output_type": "stream",
     "text": [
      "a = 2\n",
      "a * 10 = 20\n",
      "a * 0.5 = 10.0\n",
      "a * (-1) = -10.0\n"
     ]
    }
   ],
   "source": [
    "a = 2\n",
    "print('a =', a)\n",
    "\n",
    "a *= 10\n",
    "print('a * 10 =', a)\n",
    "\n",
    "a *= 0.5\n",
    "print('a * 0.5 =', a)\n",
    "\n",
    "a *= -1\n",
    "print('a * (-1) =', a)"
   ]
  },
  {
   "cell_type": "markdown",
   "metadata": {},
   "source": [
    "### Division\n",
    "\n",
    "Division is done with the forward slash sign \"/\"."
   ]
  },
  {
   "cell_type": "code",
   "execution_count": 47,
   "metadata": {
    "collapsed": false
   },
   "outputs": [
    {
     "name": "stdout",
     "output_type": "stream",
     "text": [
      "a = 1000\n",
      "a / 2 = 500.0\n",
      "a / 4 = 125.0\n",
      "a / 10000 = 0.0125\n"
     ]
    }
   ],
   "source": [
    "a = 1000\n",
    "print('a =', a)\n",
    "\n",
    "a = a / 2 \n",
    "print('a / 2 =', a)\n",
    "\n",
    "a = a / 4\n",
    "print('a / 4 =', a)\n",
    "\n",
    "a = a / 10000\n",
    "print('a / 10000 =', a)"
   ]
  },
  {
   "cell_type": "code",
   "execution_count": 107,
   "metadata": {
    "collapsed": false
   },
   "outputs": [
    {
     "name": "stdout",
     "output_type": "stream",
     "text": [
      "a = 1000\n",
      "a / 2 = 500.0\n",
      "a / 4 = 125.0\n",
      "a / 10000 = 0.0125\n"
     ]
    }
   ],
   "source": [
    "a = 1000\n",
    "print('a =', a)\n",
    "\n",
    "a /= 2 \n",
    "print('a / 2 =', a)\n",
    "\n",
    "a /= 4\n",
    "print('a / 4 =', a)\n",
    "\n",
    "a /= 10000\n",
    "print('a / 10000 =', a)"
   ]
  },
  {
   "cell_type": "markdown",
   "metadata": {},
   "source": [
    "### Modulus\n",
    "\n",
    "The modulus operator divides 2 values and returns the remainder.\n",
    "\n",
    "Modulus is done with the percentage sign \"%\"."
   ]
  },
  {
   "cell_type": "code",
   "execution_count": 108,
   "metadata": {
    "collapsed": false
   },
   "outputs": [
    {
     "name": "stdout",
     "output_type": "stream",
     "text": [
      "4 % 2 = 0\n",
      "4 / 2 = 2.0\n"
     ]
    }
   ],
   "source": [
    "m_1 = 4 % 2\n",
    "m_2 = 4 / 2\n",
    "print('4 % 2 =', m_1)\n",
    "print('4 / 2 =', m_2)\n",
    "\n",
    "# You can put 2 two times in 4 and there is no remainder."
   ]
  },
  {
   "cell_type": "code",
   "execution_count": 109,
   "metadata": {
    "collapsed": false
   },
   "outputs": [
    {
     "name": "stdout",
     "output_type": "stream",
     "text": [
      "4 % 3 = 1\n",
      "4 / 3 = 1.3333333333333333\n"
     ]
    }
   ],
   "source": [
    "m_1 = 4 % 3\n",
    "m_2 = 4 / 3\n",
    "print('4 % 3 =', m_1)\n",
    "print('4 / 3 =', m_2)\n",
    "\n",
    "# You can put 3 only once in 4 and there is some remainder."
   ]
  },
  {
   "cell_type": "code",
   "execution_count": 110,
   "metadata": {
    "collapsed": false
   },
   "outputs": [
    {
     "name": "stdout",
     "output_type": "stream",
     "text": [
      "4 % 4 = 0\n",
      "4 / 4 = 1.0\n"
     ]
    }
   ],
   "source": [
    "m_1 = 4 % 4\n",
    "m_2 = 4 / 4\n",
    "print('4 % 4 =', m_1)\n",
    "print('4 / 4 =', m_2)\n",
    "\n",
    "# You can put 4 once in 4 and there is no remainder."
   ]
  },
  {
   "cell_type": "code",
   "execution_count": 111,
   "metadata": {
    "collapsed": false
   },
   "outputs": [
    {
     "name": "stdout",
     "output_type": "stream",
     "text": [
      "4 % 5 = 4\n",
      "4 / 5 = 0.8\n"
     ]
    }
   ],
   "source": [
    "m_1 = 4 % 5\n",
    "m_2 = 4 / 5\n",
    "print('4 % 5 =', m_1)\n",
    "print('4 / 5 =', m_2)\n",
    "\n",
    "# You can put 5 zero time in 4, so everything remains."
   ]
  },
  {
   "cell_type": "code",
   "execution_count": 112,
   "metadata": {
    "collapsed": false
   },
   "outputs": [
    {
     "name": "stdout",
     "output_type": "stream",
     "text": [
      "4 % 8 = 4\n",
      "4 / 8 = 0.5\n"
     ]
    }
   ],
   "source": [
    "m_1 = 4 % 8\n",
    "m_2 = 4 / 8\n",
    "print('4 % 8 =', m_1)\n",
    "print('4 / 8 =', m_2)\n",
    "\n",
    "# You can put 8 zero time in 4, so everything remains."
   ]
  },
  {
   "cell_type": "markdown",
   "metadata": {},
   "source": [
    "Let's make a small loop to see the behavior of the modulus operator"
   ]
  },
  {
   "cell_type": "code",
   "execution_count": 60,
   "metadata": {
    "collapsed": false
   },
   "outputs": [
    {
     "name": "stdout",
     "output_type": "stream",
     "text": [
      "0 % 2 = 0\n",
      "1 % 2 = 1\n",
      "2 % 2 = 0\n",
      "3 % 2 = 1\n",
      "4 % 2 = 0\n",
      "5 % 2 = 1\n",
      "6 % 2 = 0\n",
      "7 % 2 = 1\n",
      "8 % 2 = 0\n",
      "9 % 2 = 1\n",
      "10 % 2 = 0\n",
      "11 % 2 = 1\n",
      "12 % 2 = 0\n",
      "13 % 2 = 1\n",
      "14 % 2 = 0\n",
      "15 % 2 = 1\n",
      "16 % 2 = 0\n",
      "17 % 2 = 1\n",
      "18 % 2 = 0\n",
      "19 % 2 = 1\n"
     ]
    }
   ],
   "source": [
    "for x in range(20): # Loop from 0 to 19 (20 values)\n",
    "    result = x % 2\n",
    "    print('%d %% 2 = %d' % (x, result))\n",
    "    \n",
    "# Note: When formatting a string with %d, %s, etc, you need to use %% in order to print 1 percentage sign."
   ]
  },
  {
   "cell_type": "code",
   "execution_count": 61,
   "metadata": {
    "collapsed": false
   },
   "outputs": [
    {
     "name": "stdout",
     "output_type": "stream",
     "text": [
      "0 % 3 = 0\n",
      "1 % 3 = 1\n",
      "2 % 3 = 2\n",
      "3 % 3 = 0\n",
      "4 % 3 = 1\n",
      "5 % 3 = 2\n",
      "6 % 3 = 0\n",
      "7 % 3 = 1\n",
      "8 % 3 = 2\n",
      "9 % 3 = 0\n",
      "10 % 3 = 1\n",
      "11 % 3 = 2\n",
      "12 % 3 = 0\n",
      "13 % 3 = 1\n",
      "14 % 3 = 2\n",
      "15 % 3 = 0\n",
      "16 % 3 = 1\n",
      "17 % 3 = 2\n",
      "18 % 3 = 0\n",
      "19 % 3 = 1\n"
     ]
    }
   ],
   "source": [
    "for x in range(20): # Loop from 0 to 19 (20 values)\n",
    "    result = x % 3\n",
    "    print('%d %% 3 = %d' % (x, result))"
   ]
  },
  {
   "cell_type": "markdown",
   "metadata": {},
   "source": [
    "### Exponent (Power)\n",
    "\n",
    "Exponent is done with double star \"**\"."
   ]
  },
  {
   "cell_type": "code",
   "execution_count": 1,
   "metadata": {
    "collapsed": false
   },
   "outputs": [
    {
     "name": "stdout",
     "output_type": "stream",
     "text": [
      "2 ** 2 = 4\n",
      "4 ** 2 = 16\n",
      "16 ** 2 = 256\n",
      "256 ** 2 = 65536\n"
     ]
    }
   ],
   "source": [
    "a = 2\n",
    "for x in range(4):\n",
    "    new_a = a ** 2 # Put the result in another variable because we want to remember for printing.\n",
    "    print('%d ** 2 = %d' % (a, new_a))\n",
    "    \n",
    "    a = new_a # Now we can update 'a' with the new value"
   ]
  },
  {
   "cell_type": "markdown",
   "metadata": {
    "collapsed": true
   },
   "source": [
    "# 2. Arithmetic Comparison\n",
    "\n",
    "Starting with arithmetic operators, we will cover:\n",
    "\n",
    "Description      |  Syntax\n",
    "-----------------|:----:\n",
    "Equal                 | x == y\n",
    "Not Equal             | x != y\n",
    "Less Than             | x < y\n",
    "Greater Than          | x > y\n",
    "Less Than or Equal    | x <= y\n",
    "Greater Than or Equal | x >= y"
   ]
  },
  {
   "cell_type": "markdown",
   "metadata": {},
   "source": [
    "There exists many ways to check if 2 values are equal or not."
   ]
  },
  {
   "cell_type": "code",
   "execution_count": 2,
   "metadata": {
    "collapsed": false
   },
   "outputs": [],
   "source": [
    "# Let's go to the gym and check the weights.\n",
    "\n",
    "light_dumbbell  = 6\n",
    "medium_dumbbell = 10\n",
    "heavy_dumbbell  = 15\n",
    "\n",
    "light_plate     = 5\n",
    "medium_plate    = 10\n",
    "heavy_plate     = 20"
   ]
  },
  {
   "cell_type": "code",
   "execution_count": 29,
   "metadata": {
    "collapsed": false
   },
   "outputs": [
    {
     "data": {
      "text/plain": [
       "False"
      ]
     },
     "execution_count": 29,
     "metadata": {},
     "output_type": "execute_result"
    }
   ],
   "source": [
    "medium_dumbbell == heavy_plate # 10 == 20"
   ]
  },
  {
   "cell_type": "code",
   "execution_count": 36,
   "metadata": {
    "collapsed": false
   },
   "outputs": [
    {
     "name": "stdout",
     "output_type": "stream",
     "text": [
      "True\n",
      "True\n"
     ]
    }
   ],
   "source": [
    "print(medium_dumbbell != heavy_plate) # 10 != 20\n",
    "\n",
    "# Those are all the same\n",
    "print( not (medium_dumbbell == heavy_plate) ) # not (10 == 20)"
   ]
  },
  {
   "cell_type": "code",
   "execution_count": 20,
   "metadata": {
    "collapsed": false
   },
   "outputs": [
    {
     "name": "stdout",
     "output_type": "stream",
     "text": [
      "True\n",
      "True\n"
     ]
    }
   ],
   "source": [
    "print(medium_dumbbell < heavy_plate)   # 10 <  20\n",
    "print(medium_dumbbell <= heavy_plate)  # 10 <= 20"
   ]
  },
  {
   "cell_type": "code",
   "execution_count": 22,
   "metadata": {
    "collapsed": false
   },
   "outputs": [
    {
     "name": "stdout",
     "output_type": "stream",
     "text": [
      "False\n",
      "False\n"
     ]
    }
   ],
   "source": [
    "print(medium_dumbbell < medium_plate)  # 10 < 10\n",
    "print(medium_dumbbell > medium_plate)  # 10 > 10"
   ]
  },
  {
   "cell_type": "code",
   "execution_count": 23,
   "metadata": {
    "collapsed": false
   },
   "outputs": [
    {
     "name": "stdout",
     "output_type": "stream",
     "text": [
      "True\n",
      "True\n"
     ]
    }
   ],
   "source": [
    "print(medium_dumbbell <= medium_plate)  # 10 <= 10\n",
    "print(medium_dumbbell >= medium_plate)  # 10 >= 10"
   ]
  },
  {
   "cell_type": "markdown",
   "metadata": {},
   "source": [
    "<, >, <=, >=, ==, != works for all numbers and even on strings!\n",
    "\n",
    "On Strings (from the [docs](https://docs.python.org/3/tutorial/datastructures.html#comparing-sequences-and-other-types)):\n",
    "\n",
    "*The comparison uses lexicographical ordering: first the first two items are compared, and if they differ this determines the outcome of the comparison; if they are equal, the next two items are compared, and so on, until either sequence is exhausted.*\n",
    "\n",
    "*Lexicographical ordering for strings uses the ASCII ordering for individual characters.*"
   ]
  },
  {
   "cell_type": "code",
   "execution_count": 46,
   "metadata": {
    "collapsed": false
   },
   "outputs": [
    {
     "data": {
      "text/plain": [
       "True"
      ]
     },
     "execution_count": 46,
     "metadata": {},
     "output_type": "execute_result"
    }
   ],
   "source": [
    "'Winter' == 'Winter'"
   ]
  },
  {
   "cell_type": "code",
   "execution_count": 49,
   "metadata": {
    "collapsed": false
   },
   "outputs": [
    {
     "data": {
      "text/plain": [
       "False"
      ]
     },
     "execution_count": 49,
     "metadata": {},
     "output_type": "execute_result"
    }
   ],
   "source": [
    "'Winter' == 'Summer'"
   ]
  },
  {
   "cell_type": "code",
   "execution_count": 52,
   "metadata": {
    "collapsed": false
   },
   "outputs": [
    {
     "data": {
      "text/plain": [
       "True"
      ]
     },
     "execution_count": 52,
     "metadata": {},
     "output_type": "execute_result"
    }
   ],
   "source": [
    "'Winter' > 'Summer'"
   ]
  },
  {
   "cell_type": "code",
   "execution_count": 57,
   "metadata": {
    "collapsed": false
   },
   "outputs": [
    {
     "data": {
      "text/plain": [
       "False"
      ]
     },
     "execution_count": 57,
     "metadata": {},
     "output_type": "execute_result"
    }
   ],
   "source": [
    "# Refer to the documenation. 'a' comes before 'b' in the ASCII ordering, so it is smaller than 'b'.\n",
    "'a' > 'b'"
   ]
  },
  {
   "cell_type": "code",
   "execution_count": 59,
   "metadata": {
    "collapsed": false
   },
   "outputs": [
    {
     "name": "stdout",
     "output_type": "stream",
     "text": [
      "a = 97\n",
      "b = 98\n"
     ]
    }
   ],
   "source": [
    "print('a =', ord('a'))\n",
    "print('b =', ord('b'))\n",
    "\n",
    "# ord() : Given a string of length one, return an integer \n",
    "# representing the Unicode code point of the character when \n",
    "# the argument is a unicode object, or the value of the byte \n",
    "# when the argument is an 8-bit string."
   ]
  },
  {
   "cell_type": "code",
   "execution_count": 64,
   "metadata": {
    "collapsed": false
   },
   "outputs": [
    {
     "data": {
      "text/plain": [
       "True"
      ]
     },
     "execution_count": 64,
     "metadata": {},
     "output_type": "execute_result"
    }
   ],
   "source": [
    "'a' < 'b'"
   ]
  },
  {
   "cell_type": "code",
   "execution_count": null,
   "metadata": {
    "collapsed": true
   },
   "outputs": [],
   "source": []
  }
 ],
 "metadata": {
  "anaconda-cloud": {},
  "kernelspec": {
   "display_name": "Python [Root]",
   "language": "python",
   "name": "Python [Root]"
  },
  "language_info": {
   "codemirror_mode": {
    "name": "ipython",
    "version": 3
   },
   "file_extension": ".py",
   "mimetype": "text/x-python",
   "name": "python",
   "nbconvert_exporter": "python",
   "pygments_lexer": "ipython3",
   "version": "3.5.2"
  }
 },
 "nbformat": 4,
 "nbformat_minor": 0
}

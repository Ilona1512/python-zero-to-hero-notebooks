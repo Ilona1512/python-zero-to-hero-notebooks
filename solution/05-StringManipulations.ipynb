{
 "cells": [
  {
   "cell_type": "markdown",
   "metadata": {},
   "source": [
    "# Manipulating Strings"
   ]
  },
  {
   "cell_type": "markdown",
   "metadata": {},
   "source": [
    "Strings are what allows you to store text. You can use them in so many ways and Python gives you a lot of tools for playing with them and perform all kind of manipulations.\n",
    "\n",
    "After going through this notebook, you will be able to use all those very useful features:\n",
    "\n",
    "1. Concatenating strings\n",
    "1. Lengths and counts\n",
    "1. Finding substrings\n",
    "1. Formating strings\n",
    "1. Joining a list into a string\n",
    "1. Splitting a string into a list\n",
    "1. Replacing parts of a string\n",
    "1. Slicing strings\n",
    "1. More functions on strings"
   ]
  },
  {
   "cell_type": "markdown",
   "metadata": {},
   "source": [
    "## 1. Concatenating strings\n",
    "\n",
    "Let's say you want to concatenate multiple string together, meaning that you take two or more strings and glue them together to form one new string.\n",
    "\n",
    "In Python, you can simply use the **plus sign +** for concatenating strings."
   ]
  },
  {
   "cell_type": "code",
   "execution_count": 22,
   "metadata": {
    "collapsed": false
   },
   "outputs": [
    {
     "name": "stdout",
     "output_type": "stream",
     "text": [
      "Cats\n",
      "Dogs\n"
     ]
    }
   ],
   "source": [
    "cats = 'Cats'\n",
    "dogs = 'Dogs'\n",
    "\n",
    "print(cats)\n",
    "print(dogs)"
   ]
  },
  {
   "cell_type": "code",
   "execution_count": 114,
   "metadata": {
    "collapsed": false
   },
   "outputs": [
    {
     "name": "stdout",
     "output_type": "stream",
     "text": [
      "Cats and Dogs\n"
     ]
    }
   ],
   "source": [
    "cats_and_dogs = cats + ' and ' + dogs\n",
    "\n",
    "print(cats_and_dogs)"
   ]
  },
  {
   "cell_type": "code",
   "execution_count": 115,
   "metadata": {
    "collapsed": false
   },
   "outputs": [
    {
     "name": "stdout",
     "output_type": "stream",
     "text": [
      "Cats and Dogs are not always friends.\n"
     ]
    }
   ],
   "source": [
    "cats_and_dogs += ' are not always friends.'\n",
    "\n",
    "print(cats_and_dogs)"
   ]
  },
  {
   "cell_type": "markdown",
   "metadata": {},
   "source": [
    "## 2. Lengths and counts\n",
    "\n",
    "### Length\n",
    "\n",
    "Python has a built-in function for counting the length of an object. The argument may be a sequence (such as a string, bytes, tuple, list, or range) or a collection (such as a dictionary, set, or frozen set). ([Doc](https://docs.python.org/3/library/functions.html#len))"
   ]
  },
  {
   "cell_type": "code",
   "execution_count": 121,
   "metadata": {
    "collapsed": false
   },
   "outputs": [
    {
     "name": "stdout",
     "output_type": "stream",
     "text": [
      "Length: 37\n"
     ]
    }
   ],
   "source": [
    "number_of_characters = len(cats_and_dogs)\n",
    "\n",
    "print('Length:', number_of_characters)"
   ]
  },
  {
   "cell_type": "code",
   "execution_count": 129,
   "metadata": {
    "collapsed": false
   },
   "outputs": [
    {
     "name": "stdout",
     "output_type": "stream",
     "text": [
      "18\n"
     ]
    }
   ],
   "source": [
    "print(len('Python 3 is great!'))"
   ]
  },
  {
   "cell_type": "code",
   "execution_count": 131,
   "metadata": {
    "collapsed": false
   },
   "outputs": [
    {
     "name": "stdout",
     "output_type": "stream",
     "text": [
      "0\n"
     ]
    }
   ],
   "source": [
    "print(len(''))"
   ]
  },
  {
   "cell_type": "markdown",
   "metadata": {},
   "source": [
    "### Count\n",
    "\n",
    "To count the occurances of a character or word / string, just use the function available on strings."
   ]
  },
  {
   "cell_type": "code",
   "execution_count": 150,
   "metadata": {
    "collapsed": false
   },
   "outputs": [
    {
     "name": "stdout",
     "output_type": "stream",
     "text": [
      "Scissors cuts paper, paper covers rock, rock crushes lizard, lizard poisons Spock, Spock smashes scissors, scissors decapitates lizard, lizard eats paper, paper disproves Spock, Spock vaporizes rock, and as it always has, rock crushes scissors.\n"
     ]
    }
   ],
   "source": [
    "game_rule = 'Scissors cuts paper, paper covers rock, rock crushes lizard, lizard poisons Spock, Spock smashes scissors, scissors decapitates lizard, lizard eats paper, paper disproves Spock, Spock vaporizes rock, and as it always has, rock crushes scissors.'\n",
    "print(game_rule)"
   ]
  },
  {
   "cell_type": "code",
   "execution_count": 154,
   "metadata": {
    "collapsed": false
   },
   "outputs": [
    {
     "name": "stdout",
     "output_type": "stream",
     "text": [
      "Word \"rock\" appears 4 time(s).\n",
      "Word \"paper\" appears 4 time(s).\n",
      "Word \"scissors\" appears 3 time(s).\n"
     ]
    }
   ],
   "source": [
    "print('Word \"rock\" appears %d time(s).' % game_rule.count('rock'))\n",
    "print('Word \"paper\" appears %d time(s).' % game_rule.count('paper'))\n",
    "print('Word \"scissors\" appears %d time(s).' % game_rule.count('scissors'))"
   ]
  },
  {
   "cell_type": "code",
   "execution_count": 156,
   "metadata": {
    "collapsed": false
   },
   "outputs": [
    {
     "name": "stdout",
     "output_type": "stream",
     "text": [
      "Word \"Rock\" appears 0 time(s).\n",
      "Word \"Paper\" appears 0 time(s).\n",
      "Word \"Scissors\" appears 1 time(s).\n"
     ]
    }
   ],
   "source": [
    "# Be careful, with lowercase and uppercase!\n",
    "print('Word \"Rock\" appears %d time(s).' % game_rule.count('Rock'))\n",
    "print('Word \"Paper\" appears %d time(s).' % game_rule.count('Paper'))\n",
    "print('Word \"Scissors\" appears %d time(s).' % game_rule.count('Scissors'))"
   ]
  },
  {
   "cell_type": "code",
   "execution_count": 157,
   "metadata": {
    "collapsed": false
   },
   "outputs": [
    {
     "name": "stdout",
     "output_type": "stream",
     "text": [
      "There are 34 spaces.\n"
     ]
    }
   ],
   "source": [
    "print('There are %d spaces.' % game_rule.count(' '))"
   ]
  },
  {
   "cell_type": "code",
   "execution_count": 159,
   "metadata": {
    "collapsed": false
   },
   "outputs": [
    {
     "name": "stdout",
     "output_type": "stream",
     "text": [
      "There are 0 A's.\n",
      "There are 18 a's.\n"
     ]
    }
   ],
   "source": [
    "print(\"There are %d A's.\" % game_rule.count('A'))\n",
    "print(\"There are %d a's.\" % game_rule.count('a'))"
   ]
  },
  {
   "cell_type": "markdown",
   "metadata": {},
   "source": [
    "## 3. Finding substrings\n",
    "\n",
    "You will see that a string kind of behave like a list. Essentially, it is a sequence of characters. \n",
    "\n",
    "That being said, you can perform trivial operations like getting the ith character or getting the position of a string."
   ]
  },
  {
   "cell_type": "code",
   "execution_count": 168,
   "metadata": {
    "collapsed": true
   },
   "outputs": [],
   "source": [
    "phrase = 'Winter is comming!'"
   ]
  },
  {
   "cell_type": "markdown",
   "metadata": {},
   "source": [
    "Use the find() or index() function to find a string in a string."
   ]
  },
  {
   "cell_type": "code",
   "execution_count": 172,
   "metadata": {
    "collapsed": false
   },
   "outputs": [
    {
     "name": "stdout",
     "output_type": "stream",
     "text": [
      "Find \"Winter\" using find() :  0\n",
      "Find \"Winter\" using index():  0\n"
     ]
    }
   ],
   "source": [
    "print('Find \"Winter\" using find() : ', phrase.find('Winter'))\n",
    "print('Find \"Winter\" using index(): ', phrase.index('Winter'))"
   ]
  },
  {
   "cell_type": "code",
   "execution_count": 163,
   "metadata": {
    "collapsed": false
   },
   "outputs": [
    {
     "data": {
      "text/plain": [
       "7"
      ]
     },
     "execution_count": 163,
     "metadata": {},
     "output_type": "execute_result"
    }
   ],
   "source": [
    "phrase.find('is')"
   ]
  },
  {
   "cell_type": "code",
   "execution_count": 165,
   "metadata": {
    "collapsed": false
   },
   "outputs": [
    {
     "data": {
      "text/plain": [
       "10"
      ]
     },
     "execution_count": 165,
     "metadata": {},
     "output_type": "execute_result"
    }
   ],
   "source": [
    "phrase.find('comming')"
   ]
  },
  {
   "cell_type": "code",
   "execution_count": 167,
   "metadata": {
    "collapsed": false
   },
   "outputs": [
    {
     "data": {
      "text/plain": [
       "12"
      ]
     },
     "execution_count": 167,
     "metadata": {},
     "output_type": "execute_result"
    }
   ],
   "source": [
    "phrase.find('m') # Note that the first occurance willbe given back"
   ]
  },
  {
   "cell_type": "markdown",
   "metadata": {},
   "source": [
    "The main difference bewteen find() and index() is that find() return -1 if no occurances are found and index() raises a ValueError."
   ]
  },
  {
   "cell_type": "code",
   "execution_count": 173,
   "metadata": {
    "collapsed": false
   },
   "outputs": [
    {
     "data": {
      "text/plain": [
       "-1"
      ]
     },
     "execution_count": 173,
     "metadata": {},
     "output_type": "execute_result"
    }
   ],
   "source": [
    "phrase.find('Summer')"
   ]
  },
  {
   "cell_type": "code",
   "execution_count": 174,
   "metadata": {
    "collapsed": false
   },
   "outputs": [
    {
     "ename": "ValueError",
     "evalue": "substring not found",
     "output_type": "error",
     "traceback": [
      "\u001b[0;31m---------------------------------------------------------------------------\u001b[0m",
      "\u001b[0;31mValueError\u001b[0m                                Traceback (most recent call last)",
      "\u001b[0;32m<ipython-input-174-de56ce8de8b6>\u001b[0m in \u001b[0;36m<module>\u001b[0;34m()\u001b[0m\n\u001b[0;32m----> 1\u001b[0;31m \u001b[0mphrase\u001b[0m\u001b[0;34m.\u001b[0m\u001b[0mindex\u001b[0m\u001b[0;34m(\u001b[0m\u001b[0;34m'Summer'\u001b[0m\u001b[0;34m)\u001b[0m\u001b[0;34m\u001b[0m\u001b[0m\n\u001b[0m",
      "\u001b[0;31mValueError\u001b[0m: substring not found"
     ]
    }
   ],
   "source": [
    "phrase.index('Summer')"
   ]
  },
  {
   "cell_type": "markdown",
   "metadata": {},
   "source": [
    "## 4. Formating strings\n",
    "\n",
    "Concatenation is useful for small things, but it can quickly become ugly and unreadable.\n",
    "\n",
    "Formatting string gives you another way to glue string together, with many more possibilites. "
   ]
  },
  {
   "cell_type": "markdown",
   "metadata": {},
   "source": [
    "### The OLD way of formatting strings"
   ]
  },
  {
   "cell_type": "code",
   "execution_count": 35,
   "metadata": {
    "collapsed": false
   },
   "outputs": [
    {
     "name": "stdout",
     "output_type": "stream",
     "text": [
      "Cats\n",
      "Dogs\n"
     ]
    }
   ],
   "source": [
    "# Let's reuse our cats and dogs variables defined above.\n",
    "print(cats)\n",
    "print(dogs)"
   ]
  },
  {
   "cell_type": "code",
   "execution_count": 36,
   "metadata": {
    "collapsed": false
   },
   "outputs": [
    {
     "name": "stdout",
     "output_type": "stream",
     "text": [
      "Cats and Dogs\n"
     ]
    }
   ],
   "source": [
    "formatted_cats_and_dogs = '%s and %s' % (cats, dogs) # %s for string\n",
    "\n",
    "print(formatted_cats_and_dogs)"
   ]
  },
  {
   "cell_type": "code",
   "execution_count": 72,
   "metadata": {
    "collapsed": false
   },
   "outputs": [
    {
     "name": "stdout",
     "output_type": "stream",
     "text": [
      "3\n",
      "3.141593\n"
     ]
    }
   ],
   "source": [
    "pi = 3.14159265359\n",
    "\n",
    "print('%d' % pi) # %d for integer\n",
    "print('%f' % pi) # %f for float"
   ]
  },
  {
   "cell_type": "code",
   "execution_count": 44,
   "metadata": {
    "collapsed": false
   },
   "outputs": [
    {
     "name": "stdout",
     "output_type": "stream",
     "text": [
      "3.14\n",
      "3.1416\n",
      "3.14159265\n"
     ]
    }
   ],
   "source": [
    "# You can set the number of decimals after the comma\n",
    "\n",
    "print('%.2f' % pi)\n",
    "print('%.4f' % pi)\n",
    "print('%.8f' % pi)"
   ]
  },
  {
   "cell_type": "markdown",
   "metadata": {},
   "source": [
    "### The NEW way of formatting strings"
   ]
  },
  {
   "cell_type": "code",
   "execution_count": 40,
   "metadata": {
    "collapsed": false
   },
   "outputs": [
    {
     "name": "stdout",
     "output_type": "stream",
     "text": [
      "Cats and Dogs\n"
     ]
    }
   ],
   "source": [
    "formatted_cats_and_dogs = '{} and {}'.format(cats, dogs) # {} for string/int/float/whatever\n",
    "\n",
    "print(formatted_cats_and_dogs)"
   ]
  },
  {
   "cell_type": "code",
   "execution_count": 65,
   "metadata": {
    "collapsed": false
   },
   "outputs": [
    {
     "name": "stdout",
     "output_type": "stream",
     "text": [
      "3.14159265359\n",
      "3.141593\n"
     ]
    }
   ],
   "source": [
    "print('{}'.format(pi))\n",
    "print('{:f}'.format(pi)) # Explicitly set to float"
   ]
  },
  {
   "cell_type": "code",
   "execution_count": 66,
   "metadata": {
    "collapsed": false
   },
   "outputs": [
    {
     "ename": "ValueError",
     "evalue": "Unknown format code 'd' for object of type 'float'",
     "output_type": "error",
     "traceback": [
      "\u001b[0;31m---------------------------------------------------------------------------\u001b[0m",
      "\u001b[0;31mValueError\u001b[0m                                Traceback (most recent call last)",
      "\u001b[0;32m<ipython-input-66-836ce9ed8102>\u001b[0m in \u001b[0;36m<module>\u001b[0;34m()\u001b[0m\n\u001b[0;32m----> 1\u001b[0;31m \u001b[0mprint\u001b[0m\u001b[0;34m(\u001b[0m\u001b[0;34m'{:d}'\u001b[0m\u001b[0;34m.\u001b[0m\u001b[0mformat\u001b[0m\u001b[0;34m(\u001b[0m\u001b[0mpi\u001b[0m\u001b[0;34m)\u001b[0m\u001b[0;34m)\u001b[0m \u001b[0;31m# In this case this is not allowed\u001b[0m\u001b[0;34m\u001b[0m\u001b[0m\n\u001b[0m",
      "\u001b[0;31mValueError\u001b[0m: Unknown format code 'd' for object of type 'float'"
     ]
    }
   ],
   "source": [
    "print('{:d}'.format(pi)) # In this case this is not allowed, because pi is a float"
   ]
  },
  {
   "cell_type": "code",
   "execution_count": 69,
   "metadata": {
    "collapsed": false
   },
   "outputs": [
    {
     "name": "stdout",
     "output_type": "stream",
     "text": [
      "3\n",
      "3\n"
     ]
    }
   ],
   "source": [
    "print('{}'.format(int(pi)))\n",
    "print('{:d}'.format(int(pi)))"
   ]
  },
  {
   "cell_type": "code",
   "execution_count": 63,
   "metadata": {
    "collapsed": false
   },
   "outputs": [
    {
     "name": "stdout",
     "output_type": "stream",
     "text": [
      "3.14\n"
     ]
    }
   ],
   "source": [
    "# At least 2 decimals \n",
    "print('{:.2f}'.format(pi))"
   ]
  },
  {
   "cell_type": "code",
   "execution_count": 82,
   "metadata": {
    "collapsed": false
   },
   "outputs": [
    {
     "name": "stdout",
     "output_type": "stream",
     "text": [
      "Cats and Dogs\n",
      "Cats and Dogs\n",
      "Dogs and Cats\n"
     ]
    }
   ],
   "source": [
    "# You can also say where goes what, unlike the old method where the order is important.\n",
    "print( '{} and {}'.format(cats, dogs) )\n",
    "print( '{0} and {1}'.format(cats, dogs) )\n",
    "print( '{1} and {0}'.format(cats, dogs) )"
   ]
  },
  {
   "cell_type": "markdown",
   "metadata": {},
   "source": [
    "There exists many more ways to format strings. We will cover this in more details in an upcomming course.\n",
    "\n",
    "Also, feel free to refer to the official documentation: https://docs.python.org/3.1/library/string.html"
   ]
  },
  {
   "cell_type": "markdown",
   "metadata": {},
   "source": [
    "## 5. Joining a list into a string"
   ]
  },
  {
   "cell_type": "code",
   "execution_count": 14,
   "metadata": {
    "collapsed": true
   },
   "outputs": [],
   "source": [
    "tv_series = [\n",
    "    'Doctor Who',\n",
    "    'The Walking Dead',\n",
    "    'Breaking Bad',\n",
    "    'Knight Rider',\n",
    "    'The Simpsons',\n",
    "    'The X-Files',\n",
    "    'Friends',\n",
    "    'The Big Bang Theory',\n",
    "    'Silicon Valley'\n",
    "]"
   ]
  },
  {
   "cell_type": "code",
   "execution_count": 83,
   "metadata": {
    "collapsed": false
   },
   "outputs": [
    {
     "name": "stdout",
     "output_type": "stream",
     "text": [
      "Doctor Who, The Walking Dead, Breaking Bad, Knight Rider, The Simpsons, The X-Files, Friends, The Big Bang Theory, Silicon Valley\n"
     ]
    }
   ],
   "source": [
    "tv_series_joined = ', '.join(tv_series)\n",
    "\n",
    "print(tv_series_joined)"
   ]
  },
  {
   "cell_type": "code",
   "execution_count": 87,
   "metadata": {
    "collapsed": false
   },
   "outputs": [
    {
     "name": "stdout",
     "output_type": "stream",
     "text": [
      "The list of TV series is: Doctor Who, The Walking Dead, Breaking Bad, Knight Rider, The Simpsons, The X-Files, Friends, The Big Bang Theory, Silicon Valley!\n"
     ]
    }
   ],
   "source": [
    "print('The list of TV series is: {}!'.format(tv_series_joined))"
   ]
  },
  {
   "cell_type": "markdown",
   "metadata": {},
   "source": [
    "## 6. Splitting a string into a list\n",
    "\n",
    "In python, the data type string has already a built-in function for splitting a string based on another string."
   ]
  },
  {
   "cell_type": "code",
   "execution_count": 107,
   "metadata": {
    "collapsed": false
   },
   "outputs": [
    {
     "name": "stdout",
     "output_type": "stream",
     "text": [
      "Doctor Who, The Walking Dead, Breaking Bad, Knight Rider, The Simpsons, The X-Files, Friends, The Big Bang Theory, Silicon Valley\n"
     ]
    }
   ],
   "source": [
    "# Let's try to split our previous joined list of TV series\n",
    "print(tv_series_joined)"
   ]
  },
  {
   "cell_type": "code",
   "execution_count": 108,
   "metadata": {
    "collapsed": false
   },
   "outputs": [
    {
     "data": {
      "text/plain": [
       "['Doctor Who',\n",
       " ' The Walking Dead',\n",
       " ' Breaking Bad',\n",
       " ' Knight Rider',\n",
       " ' The Simpsons',\n",
       " ' The X-Files',\n",
       " ' Friends',\n",
       " ' The Big Bang Theory',\n",
       " ' Silicon Valley']"
      ]
     },
     "execution_count": 108,
     "metadata": {},
     "output_type": "execute_result"
    }
   ],
   "source": [
    "split_result = tv_series_joined.split(',')\n",
    "\n",
    "split_result"
   ]
  },
  {
   "cell_type": "code",
   "execution_count": 1,
   "metadata": {
    "collapsed": false
   },
   "outputs": [
    {
     "ename": "NameError",
     "evalue": "name 'split_result' is not defined",
     "output_type": "error",
     "traceback": [
      "\u001b[0;31m---------------------------------------------------------------------------\u001b[0m",
      "\u001b[0;31mNameError\u001b[0m                                 Traceback (most recent call last)",
      "\u001b[0;32m<ipython-input-1-b5c4c87d0c24>\u001b[0m in \u001b[0;36m<module>\u001b[0;34m()\u001b[0m\n\u001b[0;32m----> 1\u001b[0;31m \u001b[0mprint\u001b[0m\u001b[0;34m(\u001b[0m\u001b[0msplit_result\u001b[0m\u001b[0;34m[\u001b[0m\u001b[0;36m0\u001b[0m\u001b[0;34m]\u001b[0m\u001b[0;34m)\u001b[0m\u001b[0;34m\u001b[0m\u001b[0m\n\u001b[0m\u001b[1;32m      2\u001b[0m \u001b[0mprint\u001b[0m\u001b[0;34m(\u001b[0m\u001b[0msplit_result\u001b[0m\u001b[0;34m[\u001b[0m\u001b[0;36m1\u001b[0m\u001b[0;34m]\u001b[0m\u001b[0;34m)\u001b[0m \u001b[0;31m# Note the space in front. We need to get rit of it.\u001b[0m\u001b[0;34m\u001b[0m\u001b[0m\n",
      "\u001b[0;31mNameError\u001b[0m: name 'split_result' is not defined"
     ]
    }
   ],
   "source": [
    "print(split_result[0])\n",
    "print(split_result[1]) # Note the space in front. We need to get rit of it."
   ]
  },
  {
   "cell_type": "code",
   "execution_count": 110,
   "metadata": {
    "collapsed": false
   },
   "outputs": [
    {
     "data": {
      "text/plain": [
       "['Doctor Who',\n",
       " 'The Walking Dead',\n",
       " 'Breaking Bad',\n",
       " 'Knight Rider',\n",
       " 'The Simpsons',\n",
       " 'The X-Files',\n",
       " 'Friends',\n",
       " 'The Big Bang Theory',\n",
       " 'Silicon Valley']"
      ]
     },
     "execution_count": 110,
     "metadata": {},
     "output_type": "execute_result"
    }
   ],
   "source": [
    "# It is easy this time, we can just split the same way that we joined.\n",
    "\n",
    "split_result = tv_series_joined.split(', ') # Command followed by a space\n",
    "\n",
    "split_result"
   ]
  },
  {
   "cell_type": "markdown",
   "metadata": {},
   "source": [
    "Splitting a string always depends on the result you are looking for. Maybe you would like to get all words."
   ]
  },
  {
   "cell_type": "code",
   "execution_count": 112,
   "metadata": {
    "collapsed": false
   },
   "outputs": [
    {
     "data": {
      "text/plain": [
       "['Doctor',\n",
       " 'Who,',\n",
       " 'The',\n",
       " 'Walking',\n",
       " 'Dead,',\n",
       " 'Breaking',\n",
       " 'Bad,',\n",
       " 'Knight',\n",
       " 'Rider,',\n",
       " 'The',\n",
       " 'Simpsons,',\n",
       " 'The',\n",
       " 'X-Files,',\n",
       " 'Friends,',\n",
       " 'The',\n",
       " 'Big',\n",
       " 'Bang',\n",
       " 'Theory,',\n",
       " 'Silicon',\n",
       " 'Valley']"
      ]
     },
     "execution_count": 112,
     "metadata": {},
     "output_type": "execute_result"
    }
   ],
   "source": [
    "split_result = tv_series_joined.split(' ')\n",
    "\n",
    "split_result"
   ]
  },
  {
   "cell_type": "markdown",
   "metadata": {},
   "source": [
    "## 7. Replace parts of a string\n",
    "\n",
    "You have seen many ways to build a string. Sometimes, you don't want or need to build a string from scratch, but can change parts of it by replacing all substrings with a new string. In a similar way, deleting parts of a string is just the same as replacing those parts with an empty string."
   ]
  },
  {
   "cell_type": "code",
   "execution_count": 190,
   "metadata": {
    "collapsed": true
   },
   "outputs": [],
   "source": [
    "# Let's take a fun example.\n",
    "hodor = 'Hodor? Hodor! Hodor, Hodor. Hodor!'"
   ]
  },
  {
   "cell_type": "code",
   "execution_count": 191,
   "metadata": {
    "collapsed": false
   },
   "outputs": [
    {
     "name": "stdout",
     "output_type": "stream",
     "text": [
      "Hold the door? Hold the door! Hold the door, Hold the door. Hold the door!\n"
     ]
    }
   ],
   "source": [
    "hold_the_door = hodor.replace('Hodor', 'Hold the door')\n",
    "\n",
    "print(hold_the_door)"
   ]
  },
  {
   "cell_type": "code",
   "execution_count": 192,
   "metadata": {
    "collapsed": false
   },
   "outputs": [
    {
     "name": "stdout",
     "output_type": "stream",
     "text": [
      "Hold  door? Hold  door! Hold  door, Hold  door. Hold  door!\n"
     ]
    }
   ],
   "source": [
    "hold_door = hold_the_door.replace('the', '')\n",
    "\n",
    "print(hold_door)"
   ]
  },
  {
   "cell_type": "markdown",
   "metadata": {},
   "source": [
    "Now we have a string that is not very beautiful, because of the double spaces everywhere. Let's take care of that!"
   ]
  },
  {
   "cell_type": "code",
   "execution_count": 193,
   "metadata": {
    "collapsed": false
   },
   "outputs": [
    {
     "data": {
      "text/plain": [
       "'Hold door? Hold door! Hold door, Hold door. Hold door!'"
      ]
     },
     "execution_count": 193,
     "metadata": {},
     "output_type": "execute_result"
    }
   ],
   "source": [
    "# Replace 2 spaces with 1 space! \n",
    "hold_door.replace('  ',' ')\n",
    "\n",
    "# Note that replace() does not change the variable, but returns the result instead!\n",
    "# Most often you will just reassign the result to the same variable: s = s.replace(a,b)"
   ]
  },
  {
   "cell_type": "markdown",
   "metadata": {},
   "source": [
    "## 8. Slicing strings\n",
    "\n",
    "Slicing a string just means that you cut a piece out. You will find useful what you learned in the course about lists.\n",
    "\n",
    "The general syntax is as follows:\n",
    "\n",
    "- data[i] : The character as **index i**\n",
    "- data[:i] : The first **ith** characters\n",
    "- data[i:] : All characters except the first **i** ones.\n",
    "- data[begin:end] : All characters between **begin** and **end**\n",
    "- data[begin:end:step] : Every **step** character between **begin** and **end**"
   ]
  },
  {
   "cell_type": "code",
   "execution_count": 195,
   "metadata": {
    "collapsed": true
   },
   "outputs": [],
   "source": [
    "quote = 'Not all those who wander are lost.'"
   ]
  },
  {
   "cell_type": "code",
   "execution_count": 216,
   "metadata": {
    "collapsed": false
   },
   "outputs": [
    {
     "data": {
      "text/plain": [
       "'N'"
      ]
     },
     "execution_count": 216,
     "metadata": {},
     "output_type": "execute_result"
    }
   ],
   "source": [
    "# Get the first character. Index starts at 0.\n",
    "quote[0]"
   ]
  },
  {
   "cell_type": "code",
   "execution_count": 220,
   "metadata": {
    "collapsed": false
   },
   "outputs": [
    {
     "data": {
      "text/plain": [
       "'.'"
      ]
     },
     "execution_count": 220,
     "metadata": {},
     "output_type": "execute_result"
    }
   ],
   "source": [
    "quote[-1] # Get the last character"
   ]
  },
  {
   "cell_type": "markdown",
   "metadata": {},
   "source": [
    "*Note:* In many programming languages, a character is a special data type that stores only one character ('a', 'b', '1', ...). In Python, there is no character data type. All texts are strings, regardless of the length."
   ]
  },
  {
   "cell_type": "code",
   "execution_count": 213,
   "metadata": {
    "collapsed": false
   },
   "outputs": [
    {
     "name": "stdout",
     "output_type": "stream",
     "text": [
      "Not all\n",
      "Not all\n"
     ]
    }
   ],
   "source": [
    "# Get the first 7 characters (from index 0 to 6)\n",
    "print(quote[:7])\n",
    "print(quote[0:7])"
   ]
  },
  {
   "cell_type": "code",
   "execution_count": 214,
   "metadata": {
    "collapsed": false
   },
   "outputs": [
    {
     "data": {
      "text/plain": [
       "'those who wander are lost.'"
      ]
     },
     "execution_count": 214,
     "metadata": {},
     "output_type": "execute_result"
    }
   ],
   "source": [
    "# Starting from index 8, get the rest.\n",
    "quote[8:]"
   ]
  },
  {
   "cell_type": "code",
   "execution_count": 205,
   "metadata": {
    "collapsed": false
   },
   "outputs": [
    {
     "data": {
      "text/plain": [
       "'lost.'"
      ]
     },
     "execution_count": 205,
     "metadata": {},
     "output_type": "execute_result"
    }
   ],
   "source": [
    "# Get the last 5 characters.\n",
    "quote[-5:]"
   ]
  },
  {
   "cell_type": "code",
   "execution_count": 243,
   "metadata": {
    "collapsed": false
   },
   "outputs": [
    {
     "data": {
      "text/plain": [
       "'those who wander'"
      ]
     },
     "execution_count": 243,
     "metadata": {},
     "output_type": "execute_result"
    }
   ],
   "source": [
    "# Get a substring in the middle. From character index 8 to 24.\n",
    "quote[8:24]"
   ]
  },
  {
   "cell_type": "code",
   "execution_count": 248,
   "metadata": {
    "collapsed": false
   },
   "outputs": [
    {
     "name": "stdout",
     "output_type": "stream",
     "text": [
      "those who wander\n",
      "toewowne\n",
      "tsw nr\n"
     ]
    }
   ],
   "source": [
    "# More complicated, you can define a step, which means you can skip every x character.\n",
    "print(quote[8:24:1])\n",
    "print(quote[8:24:2])\n",
    "print(quote[8:24:3])"
   ]
  },
  {
   "cell_type": "markdown",
   "metadata": {},
   "source": [
    "## 9. More functions on strings\n",
    "\n",
    "There exist many more functions and operations that you can do with strings. These are just the basics and will allow to understand how a string works and will get you ready to learn the rest once you need it.\n",
    "\n",
    "Before we end this notebook, let's just explore a little bit more of what is possible in Python with not much effort. "
   ]
  },
  {
   "cell_type": "markdown",
   "metadata": {},
   "source": [
    "### Uppercase and lowercase\n",
    "\n",
    "Use the built-in string function to quickly change a string to upper- or lowercase."
   ]
  },
  {
   "cell_type": "code",
   "execution_count": 249,
   "metadata": {
    "collapsed": false
   },
   "outputs": [
    {
     "data": {
      "text/plain": [
       "'THIS IS SPARTA!'"
      ]
     },
     "execution_count": 249,
     "metadata": {},
     "output_type": "execute_result"
    }
   ],
   "source": [
    "sparta = 'This is sparta!'.upper()\n",
    "\n",
    "sparta"
   ]
  },
  {
   "cell_type": "code",
   "execution_count": 250,
   "metadata": {
    "collapsed": false
   },
   "outputs": [
    {
     "data": {
      "text/plain": [
       "'this is sparta!'"
      ]
     },
     "execution_count": 250,
     "metadata": {},
     "output_type": "execute_result"
    }
   ],
   "source": [
    "sparta.lower()"
   ]
  },
  {
   "cell_type": "markdown",
   "metadata": {},
   "source": [
    "### Reverse\n",
    "\n",
    "If you want to reverse a string, it is a bit of a unelegant solution."
   ]
  },
  {
   "cell_type": "code",
   "execution_count": 251,
   "metadata": {
    "collapsed": false
   },
   "outputs": [
    {
     "data": {
      "text/plain": [
       "'desreveR'"
      ]
     },
     "execution_count": 251,
     "metadata": {},
     "output_type": "execute_result"
    }
   ],
   "source": [
    "# reversed() returns a reverse iterator. Not very nice.\n",
    "''.join(reversed('Reversed'))"
   ]
  },
  {
   "cell_type": "markdown",
   "metadata": {},
   "source": [
    "Here we use an extended slice syntax.\n",
    "The syntax in brackets is [begin:end:step]. \n",
    "The key is to not define begin and end and have a step of -1. \n",
    "Meaning that it will go over the entire string backwards."
   ]
  },
  {
   "cell_type": "code",
   "execution_count": 252,
   "metadata": {
    "collapsed": false
   },
   "outputs": [
    {
     "data": {
      "text/plain": [
       "'desreveR'"
      ]
     },
     "execution_count": 252,
     "metadata": {},
     "output_type": "execute_result"
    }
   ],
   "source": [
    "'Reversed'[::-1]"
   ]
  },
  {
   "cell_type": "markdown",
   "metadata": {},
   "source": [
    "### Tests\n",
    "\n",
    "While manipulating strings you might encounter many errors, especially when you mix strings with integers, floats, booleans or other object types. This is why you have at your disposal a range of method to perform simple checks in order to decide best how to handle a string."
   ]
  },
  {
   "cell_type": "code",
   "execution_count": 258,
   "metadata": {
    "collapsed": false
   },
   "outputs": [
    {
     "data": {
      "text/plain": [
       "False"
      ]
     },
     "execution_count": 258,
     "metadata": {},
     "output_type": "execute_result"
    }
   ],
   "source": [
    "# Check if a string is a number\n",
    "'This is not a number.'.isdigit()"
   ]
  },
  {
   "cell_type": "code",
   "execution_count": 260,
   "metadata": {
    "collapsed": false
   },
   "outputs": [
    {
     "data": {
      "text/plain": [
       "True"
      ]
     },
     "execution_count": 260,
     "metadata": {},
     "output_type": "execute_result"
    }
   ],
   "source": [
    "'10'.isdigit()"
   ]
  },
  {
   "cell_type": "code",
   "execution_count": 264,
   "metadata": {
    "collapsed": false
   },
   "outputs": [
    {
     "data": {
      "text/plain": [
       "True"
      ]
     },
     "execution_count": 264,
     "metadata": {},
     "output_type": "execute_result"
    }
   ],
   "source": [
    "'000125'.isdigit()"
   ]
  },
  {
   "cell_type": "code",
   "execution_count": 267,
   "metadata": {
    "collapsed": false
   },
   "outputs": [
    {
     "data": {
      "text/plain": [
       "False"
      ]
     },
     "execution_count": 267,
     "metadata": {},
     "output_type": "execute_result"
    }
   ],
   "source": [
    "'-0'.isdigit() # Does not understand negative sign"
   ]
  },
  {
   "cell_type": "code",
   "execution_count": 269,
   "metadata": {
    "collapsed": false
   },
   "outputs": [
    {
     "data": {
      "text/plain": [
       "True"
      ]
     },
     "execution_count": 269,
     "metadata": {},
     "output_type": "execute_result"
    }
   ],
   "source": [
    "'THIS IS SPARTA'.isupper()"
   ]
  },
  {
   "cell_type": "code",
   "execution_count": 271,
   "metadata": {
    "collapsed": false
   },
   "outputs": [
    {
     "data": {
      "text/plain": [
       "False"
      ]
     },
     "execution_count": 271,
     "metadata": {},
     "output_type": "execute_result"
    }
   ],
   "source": [
    "'THIS IS SPARTA'.islower()"
   ]
  },
  {
   "cell_type": "code",
   "execution_count": 273,
   "metadata": {
    "collapsed": false
   },
   "outputs": [
    {
     "data": {
      "text/plain": [
       "True"
      ]
     },
     "execution_count": 273,
     "metadata": {},
     "output_type": "execute_result"
    }
   ],
   "source": [
    "'data_results_256.csv'.endswith('.csv')"
   ]
  },
  {
   "cell_type": "code",
   "execution_count": 275,
   "metadata": {
    "collapsed": false
   },
   "outputs": [
    {
     "data": {
      "text/plain": [
       "True"
      ]
     },
     "execution_count": 275,
     "metadata": {},
     "output_type": "execute_result"
    }
   ],
   "source": [
    "'https://www.python.org'.startswith('https://')"
   ]
  },
  {
   "cell_type": "markdown",
   "metadata": {},
   "source": [
    "### Stripping strings\n",
    "\n",
    "Or, removing characters on the left and right edges using strip(), lstrip() and rstrip(). If no parameter is given, removes white-spaces."
   ]
  },
  {
   "cell_type": "code",
   "execution_count": 288,
   "metadata": {
    "collapsed": false
   },
   "outputs": [],
   "source": [
    "game_over = '   **GAME * OVER**   '"
   ]
  },
  {
   "cell_type": "code",
   "execution_count": 289,
   "metadata": {
    "collapsed": false
   },
   "outputs": [
    {
     "data": {
      "text/plain": [
       "'**GAME * OVER**'"
      ]
     },
     "execution_count": 289,
     "metadata": {},
     "output_type": "execute_result"
    }
   ],
   "source": [
    "game_over.strip()"
   ]
  },
  {
   "cell_type": "code",
   "execution_count": 290,
   "metadata": {
    "collapsed": false
   },
   "outputs": [
    {
     "data": {
      "text/plain": [
       "'   **GAME * OVER**'"
      ]
     },
     "execution_count": 290,
     "metadata": {},
     "output_type": "execute_result"
    }
   ],
   "source": [
    "game_over.rstrip()"
   ]
  },
  {
   "cell_type": "code",
   "execution_count": 291,
   "metadata": {
    "collapsed": false
   },
   "outputs": [
    {
     "data": {
      "text/plain": [
       "'**GAME * OVER**   '"
      ]
     },
     "execution_count": 291,
     "metadata": {},
     "output_type": "execute_result"
    }
   ],
   "source": [
    "game_over.lstrip()"
   ]
  },
  {
   "cell_type": "code",
   "execution_count": 296,
   "metadata": {
    "collapsed": false
   },
   "outputs": [
    {
     "data": {
      "text/plain": [
       "'GAME * OVER'"
      ]
     },
     "execution_count": 296,
     "metadata": {},
     "output_type": "execute_result"
    }
   ],
   "source": [
    "# First strip white-spaces, then strip \"*\" from the left and right sides only!\n",
    "game_over.strip().strip('*')"
   ]
  },
  {
   "cell_type": "markdown",
   "metadata": {},
   "source": [
    "### Repeating strings"
   ]
  },
  {
   "cell_type": "code",
   "execution_count": 305,
   "metadata": {
    "collapsed": false
   },
   "outputs": [
    {
     "data": {
      "text/plain": [
       "'Loading.........................'"
      ]
     },
     "execution_count": 305,
     "metadata": {},
     "output_type": "execute_result"
    }
   ],
   "source": [
    "'Loading' + '.' * 25"
   ]
  },
  {
   "cell_type": "code",
   "execution_count": 306,
   "metadata": {
    "collapsed": false
   },
   "outputs": [
    {
     "data": {
      "text/plain": [
       "'Done! Done! Done! Done! Done! '"
      ]
     },
     "execution_count": 306,
     "metadata": {},
     "output_type": "execute_result"
    }
   ],
   "source": [
    "'Done! ' * 5"
   ]
  },
  {
   "cell_type": "code",
   "execution_count": null,
   "metadata": {
    "collapsed": true
   },
   "outputs": [],
   "source": []
  }
 ],
 "metadata": {
  "anaconda-cloud": {},
  "kernelspec": {
   "display_name": "Python [Root]",
   "language": "python",
   "name": "Python [Root]"
  },
  "language_info": {
   "codemirror_mode": {
    "name": "ipython",
    "version": 3
   },
   "file_extension": ".py",
   "mimetype": "text/x-python",
   "name": "python",
   "nbconvert_exporter": "python",
   "pygments_lexer": "ipython3",
   "version": "3.5.2"
  }
 },
 "nbformat": 4,
 "nbformat_minor": 0
}

{
 "cells": [
  {
   "cell_type": "markdown",
   "metadata": {},
   "source": [
    "# For Loops - Looping over and over\n",
    "\n",
    "**Why would you need for loops?**\n",
    "\n",
    "The answer is simple. They are used to execute a piece of code multiple times. In other words, you are iterating over a list of objects and running a block of code each time. The keyword here is *iteration*. One run of the loop is one iteration.\n",
    "\n",
    "**When would you need to use a for loop?**\n",
    "\n",
    "When you come across statements such as:\n",
    "\n",
    "- Convert **all** images to small thumbnails.\n",
    "- Send a notification to **every** student.\n",
    "- Draw **20 times** a random circle on the canvas.\n",
    "\n",
    "\n",
    "Then, it is clear indicator that using a for loop here is a good choice!\n",
    "\n",
    "Now let's see it live in Python.."
   ]
  },
  {
   "cell_type": "markdown",
   "metadata": {},
   "source": [
    "## 1. Basic For Loops"
   ]
  },
  {
   "cell_type": "code",
   "execution_count": 1,
   "metadata": {
    "collapsed": false
   },
   "outputs": [
    {
     "name": "stdout",
     "output_type": "stream",
     "text": [
      "Before the Loop.\n",
      "0\n",
      "1\n",
      "2\n",
      "3\n",
      "4\n",
      "5\n",
      "6\n",
      "7\n",
      "8\n",
      "9\n",
      "After the Loop.\n"
     ]
    }
   ],
   "source": [
    "print('Before the Loop.')\n",
    "\n",
    "for x in range(10): # range(stop) generates a list of numbers from 0 to stop-1\n",
    "    print(x) # Make sure we indent\n",
    "\n",
    "print('After the Loop.')"
   ]
  },
  {
   "cell_type": "code",
   "execution_count": 2,
   "metadata": {
    "collapsed": false
   },
   "outputs": [
    {
     "name": "stdout",
     "output_type": "stream",
     "text": [
      "5\n",
      "6\n",
      "7\n",
      "8\n",
      "9\n"
     ]
    }
   ],
   "source": [
    "for x in range(5,10): # range(start,stop) generates a list of numbers from a to b-1\n",
    "    print(x)"
   ]
  },
  {
   "cell_type": "code",
   "execution_count": 3,
   "metadata": {
    "collapsed": false
   },
   "outputs": [
    {
     "name": "stdout",
     "output_type": "stream",
     "text": [
      "0\n",
      "4\n",
      "16\n",
      "36\n",
      "64\n"
     ]
    }
   ],
   "source": [
    "for x in range(0,10,2): # range(start, stop, step) generate a list from start to stop-1 and increments by step\n",
    "    print(x**2)"
   ]
  },
  {
   "cell_type": "markdown",
   "metadata": {},
   "source": [
    "You can **loop over a list**. You will get the first, then the second and so forth..."
   ]
  },
  {
   "cell_type": "code",
   "execution_count": 4,
   "metadata": {
    "collapsed": false
   },
   "outputs": [
    {
     "name": "stdout",
     "output_type": "stream",
     "text": [
      "Lion\n",
      "Mountain Lion\n"
     ]
    }
   ],
   "source": [
    "versions = [\"Kodiak\",\"Cheetah\",\"Puma\",\"Jaguar\",\"Panther\",\"Tiger\",\"Leopard\",\"Snow Leopard\",\"Lion\",\"Mountain Lion\",\"Mavericks\",\"Yosemite\",\"El Capitan\",\"Sierra\"]\n",
    "\n",
    "# Let's loop and print only the versions containing the word \"Lion\".\n",
    "for version in versions:\n",
    "    if 'lion' in version.lower():\n",
    "        print(version)"
   ]
  },
  {
   "cell_type": "markdown",
   "metadata": {},
   "source": [
    "If we also want to count or keep track of the current iteration index, we can just use a variable and increment it manually like this:"
   ]
  },
  {
   "cell_type": "code",
   "execution_count": 5,
   "metadata": {
    "collapsed": false
   },
   "outputs": [
    {
     "name": "stdout",
     "output_type": "stream",
     "text": [
      "8 Lion\n",
      "9 Mountain Lion\n"
     ]
    }
   ],
   "source": [
    "index = 0\n",
    "for version in versions:\n",
    "    if 'lion' in version.lower():\n",
    "        print(index, version)\n",
    "        \n",
    "    index += 1"
   ]
  },
  {
   "cell_type": "markdown",
   "metadata": {},
   "source": [
    "But, Python can make your life even easier with a built-in function called **enumerate(thing)**, where thing is either an iterator or a sequence. enumerate(thing) returns a iterator that will return (0, thing[0]), (1, thing[1]), (2, thing[2]), and so forth.\n",
    "\n",
    "More Info here: https://docs.python.org/2.3/whatsnew/section-enumerate.html"
   ]
  },
  {
   "cell_type": "code",
   "execution_count": 6,
   "metadata": {
    "collapsed": false
   },
   "outputs": [
    {
     "name": "stdout",
     "output_type": "stream",
     "text": [
      "8 Lion\n",
      "9 Mountain Lion\n"
     ]
    }
   ],
   "source": [
    "# PRESENTATIO NOTE: 1) COPY PASTE above then REMOVE AND EDIT.\n",
    "\n",
    "for index, version in enumerate(versions): # Just use enumerate and define 2 variables\n",
    "    if 'lion' in version.lower():\n",
    "        print(index, version)"
   ]
  },
  {
   "cell_type": "markdown",
   "metadata": {},
   "source": [
    "You can also **loop over a dictionary**.\n",
    "You are basically looping over the keys.\n",
    "Then, in the loop, you can take the value for that key."
   ]
  },
  {
   "cell_type": "code",
   "execution_count": 7,
   "metadata": {
    "collapsed": false
   },
   "outputs": [
    {
     "name": "stdout",
     "output_type": "stream",
     "text": [
      "Greetings in EN is: Hello\n",
      "Greetings in LU is: Moien\n",
      "Greetings in FR is: Bonjour\n",
      "Greetings in DE is: Hallo\n"
     ]
    }
   ],
   "source": [
    "# With for loops, you can also very easily iterate over a dictionary and \n",
    "# directly have the key and the associated value\n",
    "\n",
    "greetings = {\n",
    "    'EN': 'Hello',\n",
    "    'FR': 'Bonjour',\n",
    "    'DE': 'Hallo',\n",
    "    'LU': 'Moien'\n",
    "}\n",
    "\n",
    "for key in greetings:\n",
    "    print('Greetings in {} is: {}'.format(key, greetings[key]))"
   ]
  },
  {
   "cell_type": "code",
   "execution_count": 8,
   "metadata": {
    "collapsed": false
   },
   "outputs": [
    {
     "name": "stdout",
     "output_type": "stream",
     "text": [
      "Greetings in EN is: Hello\n",
      "Greetings in LU is: Moien\n",
      "Greetings in FR is: Bonjour\n",
      "Greetings in DE is: Hallo\n"
     ]
    }
   ],
   "source": [
    "for key, value in greetings.items():\n",
    "    print('Greetings in {} is: {}'.format(key, value))"
   ]
  },
  {
   "cell_type": "markdown",
   "metadata": {},
   "source": [
    "## 2. Nested For Loop\n",
    "\n",
    "A nested loop is a loop within a loop. You will often have to use 2 loops, sometimes 3.\n",
    "\n",
    "Beware, loops can become quickly very long running processes..."
   ]
  },
  {
   "cell_type": "code",
   "execution_count": 9,
   "metadata": {
    "collapsed": false
   },
   "outputs": [
    {
     "name": "stdout",
     "output_type": "stream",
     "text": [
      "0 x 0 = 0\n",
      "0 x 1 = 0\n",
      "0 x 2 = 0\n",
      "0 x 3 = 0\n",
      "0 x 4 = 0\n",
      "0 x 5 = 0\n",
      "0 x 6 = 0\n",
      "0 x 7 = 0\n",
      "0 x 8 = 0\n",
      "0 x 9 = 0\n",
      "\n",
      "1 x 0 = 0\n",
      "1 x 1 = 1\n",
      "1 x 2 = 2\n",
      "1 x 3 = 3\n",
      "1 x 4 = 4\n",
      "1 x 5 = 5\n",
      "1 x 6 = 6\n",
      "1 x 7 = 7\n",
      "1 x 8 = 8\n",
      "1 x 9 = 9\n",
      "\n",
      "2 x 0 = 0\n",
      "2 x 1 = 2\n",
      "2 x 2 = 4\n",
      "2 x 3 = 6\n",
      "2 x 4 = 8\n",
      "2 x 5 = 10\n",
      "2 x 6 = 12\n",
      "2 x 7 = 14\n",
      "2 x 8 = 16\n",
      "2 x 9 = 18\n",
      "\n",
      "3 x 0 = 0\n",
      "3 x 1 = 3\n",
      "3 x 2 = 6\n",
      "3 x 3 = 9\n",
      "3 x 4 = 12\n",
      "3 x 5 = 15\n",
      "3 x 6 = 18\n",
      "3 x 7 = 21\n",
      "3 x 8 = 24\n",
      "3 x 9 = 27\n",
      "\n",
      "4 x 0 = 0\n",
      "4 x 1 = 4\n",
      "4 x 2 = 8\n",
      "4 x 3 = 12\n",
      "4 x 4 = 16\n",
      "4 x 5 = 20\n",
      "4 x 6 = 24\n",
      "4 x 7 = 28\n",
      "4 x 8 = 32\n",
      "4 x 9 = 36\n",
      "\n",
      "5 x 0 = 0\n",
      "5 x 1 = 5\n",
      "5 x 2 = 10\n",
      "5 x 3 = 15\n",
      "5 x 4 = 20\n",
      "5 x 5 = 25\n",
      "5 x 6 = 30\n",
      "5 x 7 = 35\n",
      "5 x 8 = 40\n",
      "5 x 9 = 45\n",
      "\n",
      "6 x 0 = 0\n",
      "6 x 1 = 6\n",
      "6 x 2 = 12\n",
      "6 x 3 = 18\n",
      "6 x 4 = 24\n",
      "6 x 5 = 30\n",
      "6 x 6 = 36\n",
      "6 x 7 = 42\n",
      "6 x 8 = 48\n",
      "6 x 9 = 54\n",
      "\n",
      "7 x 0 = 0\n",
      "7 x 1 = 7\n",
      "7 x 2 = 14\n",
      "7 x 3 = 21\n",
      "7 x 4 = 28\n",
      "7 x 5 = 35\n",
      "7 x 6 = 42\n",
      "7 x 7 = 49\n",
      "7 x 8 = 56\n",
      "7 x 9 = 63\n",
      "\n",
      "8 x 0 = 0\n",
      "8 x 1 = 8\n",
      "8 x 2 = 16\n",
      "8 x 3 = 24\n",
      "8 x 4 = 32\n",
      "8 x 5 = 40\n",
      "8 x 6 = 48\n",
      "8 x 7 = 56\n",
      "8 x 8 = 64\n",
      "8 x 9 = 72\n",
      "\n",
      "9 x 0 = 0\n",
      "9 x 1 = 9\n",
      "9 x 2 = 18\n",
      "9 x 3 = 27\n",
      "9 x 4 = 36\n",
      "9 x 5 = 45\n",
      "9 x 6 = 54\n",
      "9 x 7 = 63\n",
      "9 x 8 = 72\n",
      "9 x 9 = 81\n",
      "\n"
     ]
    }
   ],
   "source": [
    "# For this first nested example, let's just create a multiplication matrix.\n",
    "\n",
    "for x in range(10): # Loop 1: Main Loop\n",
    "    for y in range(10): # Loop 2: Nested loop\n",
    "        print('{} x {} = {}'.format(x,y, x * y))\n",
    "    print() # Add this later for showing"
   ]
  },
  {
   "cell_type": "markdown",
   "metadata": {},
   "source": [
    "As a little sidenote, the above example has complexity O(N^2), because we have 2 loops:\n",
    "\n",
    "- The first loop executes 10 times the second loop.\n",
    "- And the second loop iterates 10 times.\n",
    "\n",
    "So 10^2 = 100 iterations already."
   ]
  },
  {
   "cell_type": "code",
   "execution_count": 166,
   "metadata": {
    "collapsed": false
   },
   "outputs": [
    {
     "name": "stdout",
     "output_type": "stream",
     "text": [
      "Done\n"
     ]
    }
   ],
   "source": [
    "for x in range(10**6): # 1 Million Iterations\n",
    "    pass # Just do nothing.\n",
    "print('Done')"
   ]
  },
  {
   "cell_type": "code",
   "execution_count": 167,
   "metadata": {
    "collapsed": false
   },
   "outputs": [
    {
     "name": "stdout",
     "output_type": "stream",
     "text": [
      "Done\n"
     ]
    }
   ],
   "source": [
    "for x in range(10**6): # 1 Million Iterations\n",
    "    for y in range(10): # Just add zeros...\n",
    "        pass\n",
    "print('Done')"
   ]
  },
  {
   "cell_type": "code",
   "execution_count": 152,
   "metadata": {
    "collapsed": false
   },
   "outputs": [
    {
     "name": "stdout",
     "output_type": "stream",
     "text": [
      "Done\n"
     ]
    }
   ],
   "source": [
    "# Assume, we would like to iterate over 3D space of 100x100x100 pixels or even 1000x1000x1000 pixels big:\n",
    "# Comlexity is O(N^3)\n",
    "\n",
    "for x in range(100):\n",
    "    for y in range(100):\n",
    "        for z in range(100):\n",
    "            pass\n",
    "        \n",
    "print('Done')"
   ]
  },
  {
   "cell_type": "markdown",
   "metadata": {},
   "source": [
    "## 3. For Else ...\n",
    "\n",
    "This is not used much, But still quite handy. The Else part is executed at the end of the for loop and you have access to the last value."
   ]
  },
  {
   "cell_type": "code",
   "execution_count": 153,
   "metadata": {
    "collapsed": false
   },
   "outputs": [
    {
     "name": "stdout",
     "output_type": "stream",
     "text": [
      "0\n",
      "1\n",
      "2\n",
      "3\n",
      "4\n",
      "5\n",
      "6\n",
      "7\n",
      "8\n",
      "9\n",
      "Final x:  9\n"
     ]
    }
   ],
   "source": [
    "for x in range(10):\n",
    "    print(x)\n",
    "else:\n",
    "    print('Final x: ',x)"
   ]
  },
  {
   "cell_type": "markdown",
   "metadata": {},
   "source": [
    "## Example 1: Eeny, meeny, miny, moe ...\n",
    "\n",
    "For this fun example, let's take the situation of a famous TV series (I let you find out which one it is by yourself).\n",
    "\n",
    "> \"All this, all this is just so we can pick out which one of you gets the honour.\" - Negan\n",
    "\n",
    "So, we have a list of characters and we want to count playfully to choose one in a \"randomy\" way!"
   ]
  },
  {
   "cell_type": "code",
   "execution_count": 10,
   "metadata": {
    "collapsed": false
   },
   "outputs": [],
   "source": [
    "# First, we define a list of characters.\n",
    "\n",
    "characters = [\n",
    "    'Glenn',\n",
    "    'Tara',\n",
    "    'Daryl',\n",
    "    'Michonne',\n",
    "    'Abraham',\n",
    "    'Maggie',\n",
    "    'Rick',\n",
    "    'Sasha',\n",
    "    'Aaron',\n",
    "    'Carl',\n",
    "    'Eugene'\n",
    "]\n",
    "\n",
    "# And here are the words we will use to perform our \"counting\".\n",
    "\n",
    "list_of_words = [\n",
    "    'Eeny', 'meeny', 'miny', 'moe',\n",
    "    'Catch', 'a', 'tiger', 'by', 'the', 'toe',\n",
    "    'If', 'he', 'hollers', 'let', 'him', 'go',\n",
    "    'My', 'mother', 'told', 'me',\n",
    "    'To', 'pick', 'the', 'very', 'best', 'one',\n",
    "    'And', 'you', 'are', 'it'\n",
    "]"
   ]
  },
  {
   "cell_type": "code",
   "execution_count": 11,
   "metadata": {
    "collapsed": false
   },
   "outputs": [
    {
     "name": "stdout",
     "output_type": "stream",
     "text": [
      "Number of characters:  11\n",
      "Number of words     :  30\n"
     ]
    }
   ],
   "source": [
    "print(\"Number of characters: \",len(characters))\n",
    "print(\"Number of words     : \",len(list_of_words))"
   ]
  },
  {
   "cell_type": "markdown",
   "metadata": {},
   "source": [
    "Before we write the code, let's summarize the steps we have to do:\n",
    "\n",
    "1. We start with any character and start counting/printing the first word.\n",
    "1. We go to the next character and use the second word, then the same with the third etc etc\n",
    "1. However, we have more words than characters, so when we reach the end of the character list, we start again with the first one.\n",
    "1. At the last word, we print the name of the lucky character."
   ]
  },
  {
   "cell_type": "code",
   "execution_count": 12,
   "metadata": {
    "collapsed": false
   },
   "outputs": [
    {
     "name": "stdout",
     "output_type": "stream",
     "text": [
      "Eeny\n",
      "meeny\n",
      "miny\n",
      "moe\n",
      "Catch\n",
      "a\n",
      "tiger\n",
      "by\n",
      "the\n",
      "toe\n",
      "If\n",
      "he\n",
      "hollers\n",
      "let\n",
      "him\n",
      "go\n",
      "My\n",
      "mother\n",
      "told\n",
      "me\n",
      "To\n",
      "pick\n",
      "the\n",
      "very\n",
      "best\n",
      "one\n",
      "And\n",
      "you\n",
      "are\n",
      "it\n",
      "Chosen one:  Daryl\n"
     ]
    }
   ],
   "source": [
    "# PRESENTATION NOTE: START FROM ZERO WRITING THIS CODE:\n",
    "\n",
    "start_character = 'Rick'\n",
    "\n",
    "# First we need to get the index of 'Rick' in the list of characters.\n",
    "# Python lists have a method for that.\n",
    "character_index = characters.index(start_character)\n",
    "\n",
    "chosen_one = None\n",
    "\n",
    "for word in list_of_words:\n",
    "    chosen_one = characters[character_index] # New character is chosen\n",
    "    print(word)\n",
    "    \n",
    "    # Prepare for next iteration\n",
    "    character_index += 1\n",
    "    if character_index >= len(characters): # if we reached the end , we start again.\n",
    "        character_index = 0   \n",
    "    \n",
    "if chosen_one:\n",
    "    print('Chosen one: ', chosen_one)\n",
    "else:\n",
    "    print('No one has been chosen...')"
   ]
  },
  {
   "cell_type": "markdown",
   "metadata": {},
   "source": [
    "Let's copy and paste this code and add some more fun things to it."
   ]
  },
  {
   "cell_type": "code",
   "execution_count": 13,
   "metadata": {
    "collapsed": false
   },
   "outputs": [
    {
     "name": "stdout",
     "output_type": "stream",
     "text": [
      "Eeny, meeny, miny, moe, Catch, a, tiger, by, the, toe, If, he, hollers, let, him, go, My, mother, told, me, To, pick, the, very, best, one, AAnndd\n",
      "yyoouu\n",
      "aarree\n",
      "iitt\n",
      "Chosen one:  Daryl\n"
     ]
    }
   ],
   "source": [
    "import time\n",
    "\n",
    "start_character = 'Rick'\n",
    "\n",
    "# First we need to get the index of 'Rick' in the list of characters.\n",
    "# Python lists have a method for that.\n",
    "character_index = characters.index(start_character)\n",
    "\n",
    "chosen_one = None\n",
    "\n",
    "for index, word in enumerate(list_of_words):\n",
    "    chosen_one = characters[character_index % len(characters)] # New character is chosen\n",
    "\n",
    "    if index < len(list_of_words) - 4: # If we are before the last 4 items.\n",
    "        time.sleep(0.25)\n",
    "        print(word, end=', ')\n",
    "    else: # Else, we are in the last 4 items.\n",
    "        time.sleep(1)\n",
    "        \n",
    "        # This is a list comprehensions. \n",
    "        # It is are lists that generate itself with an internal for loop. \n",
    "        # It is very common feature in Python.\n",
    "        text = ''.join([character*2 for character in word])\n",
    "        \n",
    "        print(text)\n",
    "    \n",
    "    character_index += 1\n",
    "    \n",
    "if chosen_one:\n",
    "    print('Chosen one: ', chosen_one)\n",
    "else:\n",
    "    print('No one has been chosen...')"
   ]
  },
  {
   "cell_type": "markdown",
   "metadata": {},
   "source": [
    "> Tadaaa"
   ]
  },
  {
   "cell_type": "markdown",
   "metadata": {},
   "source": [
    "# 4. List Comprehensions (BONUS)"
   ]
  },
  {
   "cell_type": "code",
   "execution_count": 14,
   "metadata": {
    "collapsed": false
   },
   "outputs": [
    {
     "data": {
      "text/plain": [
       "[0, 1, 2, 3, 4, 5, 6, 7, 8, 9]"
      ]
     },
     "execution_count": 14,
     "metadata": {},
     "output_type": "execute_result"
    }
   ],
   "source": [
    "# You generate a list with an internal loop.\n",
    "[x for x in range(10)]"
   ]
  },
  {
   "cell_type": "code",
   "execution_count": 15,
   "metadata": {
    "collapsed": false
   },
   "outputs": [
    {
     "data": {
      "text/plain": [
       "[0, 2, 4, 6, 8]"
      ]
     },
     "execution_count": 15,
     "metadata": {},
     "output_type": "execute_result"
    }
   ],
   "source": [
    "# This is the synatx to add an if inside\n",
    "[x for x in range(10) if x % 2 == 0] # Only get even numbers"
   ]
  },
  {
   "cell_type": "code",
   "execution_count": 16,
   "metadata": {
    "collapsed": false
   },
   "outputs": [
    {
     "data": {
      "text/plain": [
       "['Kodiak',\n",
       " 'Cheetah',\n",
       " 'Puma',\n",
       " 'Jaguar',\n",
       " 'Panther',\n",
       " 'Tiger',\n",
       " 'Leopard',\n",
       " 'Snow Leopard',\n",
       " 'Lion',\n",
       " 'Mountain Lion',\n",
       " 'Mavericks',\n",
       " 'Yosemite',\n",
       " 'El Capitan',\n",
       " 'Sierra']"
      ]
     },
     "execution_count": 16,
     "metadata": {},
     "output_type": "execute_result"
    }
   ],
   "source": [
    "versions"
   ]
  },
  {
   "cell_type": "code",
   "execution_count": 17,
   "metadata": {
    "collapsed": false
   },
   "outputs": [
    {
     "data": {
      "text/plain": [
       "['K', 'C', 'P', 'J', 'P', 'T', 'L', 'S', 'L', 'M', 'M', 'Y', 'E', 'S']"
      ]
     },
     "execution_count": 17,
     "metadata": {},
     "output_type": "execute_result"
    }
   ],
   "source": [
    "[v[0] for v in versions]"
   ]
  },
  {
   "cell_type": "code",
   "execution_count": 18,
   "metadata": {
    "collapsed": false
   },
   "outputs": [
    {
     "data": {
      "text/plain": [
       "['KODIAK',\n",
       " 'CHEETAH',\n",
       " 'PUMA',\n",
       " 'JAGUAR',\n",
       " 'PANTHER',\n",
       " 'TIGER',\n",
       " 'LEOPARD',\n",
       " 'SNOW LEOPARD',\n",
       " 'LION',\n",
       " 'MOUNTAIN LION',\n",
       " 'MAVERICKS',\n",
       " 'YOSEMITE',\n",
       " 'EL CAPITAN',\n",
       " 'SIERRA']"
      ]
     },
     "execution_count": 18,
     "metadata": {},
     "output_type": "execute_result"
    }
   ],
   "source": [
    "[v.upper() for v in versions]"
   ]
  },
  {
   "cell_type": "code",
   "execution_count": null,
   "metadata": {
    "collapsed": true
   },
   "outputs": [],
   "source": []
  }
 ],
 "metadata": {
  "anaconda-cloud": {},
  "kernelspec": {
   "display_name": "Python [Root]",
   "language": "python",
   "name": "Python [Root]"
  },
  "language_info": {
   "codemirror_mode": {
    "name": "ipython",
    "version": 3
   },
   "file_extension": ".py",
   "mimetype": "text/x-python",
   "name": "python",
   "nbconvert_exporter": "python",
   "pygments_lexer": "ipython3",
   "version": "3.5.2"
  }
 },
 "nbformat": 4,
 "nbformat_minor": 0
}

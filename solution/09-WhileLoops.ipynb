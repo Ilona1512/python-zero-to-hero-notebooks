{
 "cells": [
  {
   "cell_type": "markdown",
   "metadata": {},
   "source": [
    "# While Loops - Looping over and over ... and over ....\n",
    "\n",
    "**Why would you need while loops?**\n",
    "\n",
    "A while loop is a loop that **runs until a certain condition is false** or, as the name suggests, **runs infinit long while a certain condition is true**.\n",
    "\n",
    "You can already do a lot with for loops. Everything that a for loop does, you can also do with a while loop...by writing a bit more (ugly) code.\n",
    "\n",
    "Essentially, for loops are only able to loop over a sequence or iterable. On the other hand, a while loop can do any kind of loop. But, while loops are harder to get right and most of the time, you will prefer a for loop when possible.\n",
    "\n",
    "**When would you need to use a while loop?**\n",
    "\n",
    "When you come across statements such as:\n",
    "\n",
    "- Perform live spell check while the document is open.\n",
    "- Loop until 1000000 prime numbers have been found.\n",
    "- Generate random sentences until at least 1000 words has been written.\n",
    "\n",
    "Then, it might be an indicator that using a while loop here might be a good choice!\n",
    "\n",
    "Now let's see it live in Python.."
   ]
  },
  {
   "cell_type": "markdown",
   "metadata": {},
   "source": [
    "## 1. Basic While Loops"
   ]
  },
  {
   "cell_type": "code",
   "execution_count": 8,
   "metadata": {
    "collapsed": false
   },
   "outputs": [
    {
     "name": "stdout",
     "output_type": "stream",
     "text": [
      "Before the Loop.\n",
      "0\n",
      "1\n",
      "2\n",
      "3\n",
      "4\n",
      "5\n",
      "6\n",
      "7\n",
      "8\n",
      "9\n",
      "After the Loop.\n"
     ]
    }
   ],
   "source": [
    "print('Before the Loop.')\n",
    "\n",
    "index = 0\n",
    "while index < 10:\n",
    "    print(index)\n",
    "    index += 1 # If you forget this line => Infinit Loop\n",
    "\n",
    "print('After the Loop.')"
   ]
  },
  {
   "cell_type": "code",
   "execution_count": 9,
   "metadata": {
    "collapsed": false
   },
   "outputs": [
    {
     "name": "stdout",
     "output_type": "stream",
     "text": [
      "5\n",
      "6\n",
      "7\n",
      "8\n",
      "9\n"
     ]
    }
   ],
   "source": [
    "#for x in range(5,10):\n",
    "#    print(x)\n",
    "\n",
    "# You need to do more manually\n",
    "index = 5\n",
    "while index < 10:\n",
    "    print(index)\n",
    "    index += 1"
   ]
  },
  {
   "cell_type": "code",
   "execution_count": 10,
   "metadata": {
    "collapsed": false
   },
   "outputs": [
    {
     "name": "stdout",
     "output_type": "stream",
     "text": [
      "0\n",
      "4\n",
      "16\n",
      "36\n",
      "64\n"
     ]
    }
   ],
   "source": [
    "#for x in range(0,10,2):\n",
    "#    print(x**2)\n",
    "\n",
    "index = 0\n",
    "while index < 10:\n",
    "    print(index ** 2)\n",
    "    index += 2"
   ]
  },
  {
   "cell_type": "markdown",
   "metadata": {},
   "source": [
    "You can **loop over a list**. You will get the first, then the second and so forth..."
   ]
  },
  {
   "cell_type": "code",
   "execution_count": 17,
   "metadata": {
    "collapsed": false
   },
   "outputs": [
    {
     "name": "stdout",
     "output_type": "stream",
     "text": [
      "Lion\n",
      "Mountain Lion\n"
     ]
    }
   ],
   "source": [
    "versions = [\"Kodiak\",\"Cheetah\",\"Puma\",\"Jaguar\",\"Panther\",\"Tiger\",\"Leopard\",\"Snow Leopard\",\"Lion\",\"Mountain Lion\",\"Mavericks\",\"Yosemite\",\"El Capitan\",\"Sierra\"]\n",
    "\n",
    "#for version in versions:\n",
    "#    if 'lion' in version.lower():\n",
    "#        print(version)\n",
    "\n",
    "# Again more work for the same result\n",
    "index = 0\n",
    "while index < len(versions):\n",
    "    version = versions[index]\n",
    "    if 'lion' in version.lower():\n",
    "        print(version)\n",
    "\n",
    "    index += 1"
   ]
  },
  {
   "cell_type": "markdown",
   "metadata": {},
   "source": [
    "## Example 1: Find the random number\n",
    "\n",
    "This is a short example. We will use the random function from python to generate a random number and we will generate new numbers until we found one that we like."
   ]
  },
  {
   "cell_type": "code",
   "execution_count": 19,
   "metadata": {
    "collapsed": true
   },
   "outputs": [],
   "source": [
    "# Import random library\n",
    "import random"
   ]
  },
  {
   "cell_type": "code",
   "execution_count": 89,
   "metadata": {
    "collapsed": false
   },
   "outputs": [
    {
     "data": {
      "text/plain": [
       "0.352670551555592"
      ]
     },
     "execution_count": 89,
     "metadata": {},
     "output_type": "execute_result"
    }
   ],
   "source": [
    "# We get a random float between 0.0 and 1.0\n",
    "random.random()"
   ]
  },
  {
   "cell_type": "code",
   "execution_count": 185,
   "metadata": {
    "collapsed": false
   },
   "outputs": [
    {
     "data": {
      "text/plain": [
       "21"
      ]
     },
     "execution_count": 185,
     "metadata": {},
     "output_type": "execute_result"
    }
   ],
   "source": [
    "# To get a random integer between 0 and 99\n",
    "\n",
    "int(random.random() * 100)"
   ]
  },
  {
   "cell_type": "code",
   "execution_count": 229,
   "metadata": {
    "collapsed": false
   },
   "outputs": [
    {
     "name": "stdout",
     "output_type": "stream",
     "text": [
      "Number found after 36958564 iterations\n"
     ]
    }
   ],
   "source": [
    "random_range = 10000000\n",
    "\n",
    "target_number = 50 # Out target\n",
    "\n",
    "# We keep track of how many iterations we needed.\n",
    "iteration = 0\n",
    "\n",
    "# Start with a random number:\n",
    "rn = int(random.random() * random_range)\n",
    "\n",
    "while rn != target_number: # While we didn't found our target, loop...\n",
    "    rn = int(random.random() * random_range)\n",
    "    \n",
    "    iteration += 1\n",
    "    \n",
    "print('Number found after {} iterations'.format(iteration))"
   ]
  },
  {
   "cell_type": "markdown",
   "metadata": {},
   "source": [
    "Let's change this a bit more and loop only a certain amount of times so we are not stuck in an infinit loop."
   ]
  },
  {
   "cell_type": "code",
   "execution_count": 230,
   "metadata": {
    "collapsed": false
   },
   "outputs": [
    {
     "name": "stdout",
     "output_type": "stream",
     "text": [
      "Number NOT found after 1000000 iterations\n"
     ]
    }
   ],
   "source": [
    "random_range = 10**6 # 1 Million\n",
    "\n",
    "target_number = 1 # Out target\n",
    "\n",
    "# We keep track of how many iterations we needed.\n",
    "iteration = 0\n",
    "\n",
    "# Start with a random number:\n",
    "rn = int(random.random() * random_range)\n",
    "\n",
    "# While we didn't found our target \n",
    "# AND we didn't iterated enough, loop...\n",
    "while (rn != target_number) and iteration < 10**6:\n",
    "    rn = int(random.random() * random_range)\n",
    "    \n",
    "    iteration += 1\n",
    "\n",
    "# However! when we arrive here, we don't know which condition made us go out!!\n",
    "# We need now to check if we were successful or not.\n",
    "\n",
    "if rn == target_number:\n",
    "    print('Number found after {} iterations'.format(iteration))\n",
    "else:\n",
    "    print('Number NOT found after {} iterations'.format(iteration))"
   ]
  },
  {
   "cell_type": "code",
   "execution_count": null,
   "metadata": {
    "collapsed": false
   },
   "outputs": [],
   "source": []
  }
 ],
 "metadata": {
  "anaconda-cloud": {},
  "kernelspec": {
   "display_name": "Python [Root]",
   "language": "python",
   "name": "Python [Root]"
  },
  "language_info": {
   "codemirror_mode": {
    "name": "ipython",
    "version": 3
   },
   "file_extension": ".py",
   "mimetype": "text/x-python",
   "name": "python",
   "nbconvert_exporter": "python",
   "pygments_lexer": "ipython3",
   "version": "3.5.2"
  }
 },
 "nbformat": 4,
 "nbformat_minor": 0
}

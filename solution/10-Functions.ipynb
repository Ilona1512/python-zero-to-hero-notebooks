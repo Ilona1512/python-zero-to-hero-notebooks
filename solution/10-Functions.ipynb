{
 "cells": [
  {
   "cell_type": "markdown",
   "metadata": {},
   "source": [
    "# Functions\n",
    "\n",
    "Say you wrote some code that starts to get quite long. At some point in your program you will have to implement similar, if not identical, functionalities. Writing duplicate code is not efficient at all and will give you a lot of headache. As soon as you change that code in one place, you need to rememeber to change it also at all other places. This is prone to many errors, and no one wants errors. This is just one of the many principles in programming and it's called **DRY: Don't Repeat Yourself**!\n",
    "\n",
    "Instead, you want to group and organise your code in logical blocks such that their functionalities can be reused in other ways.\n",
    "\n",
    "For this, we have functions. Functions are blocks of organised code that relate to a single common action. You can think of a function like a little robot, that has a very clear goal and can achieve that goal whenever you tell it to. This little robot, which has also a name, lives in its own isolated world, unless you share some objects with it. When the robot is done, it can give you something back (maybe a nice gift), but doesn't need to! \n",
    "\n",
    "We have seen in the previous lessons multiple functions such as print(), upper(), abs(), format() and some more. Each function perfoms a clear objective and is reusable.\n",
    "\n",
    "Enough talking (or reading), let's see how we define a function."
   ]
  },
  {
   "cell_type": "markdown",
   "metadata": {},
   "source": [
    "## 1. Define and use a function"
   ]
  },
  {
   "cell_type": "code",
   "execution_count": 7,
   "metadata": {
    "collapsed": true
   },
   "outputs": [],
   "source": [
    "def hello():\n",
    "    print('Hello!')"
   ]
  },
  {
   "cell_type": "markdown",
   "metadata": {},
   "source": [
    "So, we just **def**ined a function named **hello**. A few things to note:\n",
    "\n",
    "- We just **def**ined the function. The code inside is only executed when we call the function. (See next cell)\n",
    "- All function **def**initions start with **def** followed by the name, then parentheses **()** and finally a colon **:**.\n",
    "- The next line is **indented** and all indented code will be part of the function."
   ]
  },
  {
   "cell_type": "code",
   "execution_count": 51,
   "metadata": {
    "collapsed": false
   },
   "outputs": [
    {
     "name": "stdout",
     "output_type": "stream",
     "text": [
      "Hello!\n"
     ]
    }
   ],
   "source": [
    "# Just write the function name with parentheses and it will call the function.\n",
    "hello()"
   ]
  },
  {
   "cell_type": "code",
   "execution_count": 52,
   "metadata": {
    "collapsed": true
   },
   "outputs": [],
   "source": [
    "# Another little example:\n",
    "\n",
    "def show_pyramid():\n",
    "    '''Shows a beautiful pyramid made out of stars.\n",
    "    '''\n",
    "    size = 20\n",
    "    for x in range(size):\n",
    "        print(' ' * (size - x), end='')\n",
    "        print('*' * x * 2)"
   ]
  },
  {
   "cell_type": "code",
   "execution_count": 53,
   "metadata": {
    "collapsed": false
   },
   "outputs": [
    {
     "name": "stdout",
     "output_type": "stream",
     "text": [
      "                    \n",
      "                   **\n",
      "                  ****\n",
      "                 ******\n",
      "                ********\n",
      "               **********\n",
      "              ************\n",
      "             **************\n",
      "            ****************\n",
      "           ******************\n",
      "          ********************\n",
      "         **********************\n",
      "        ************************\n",
      "       **************************\n",
      "      ****************************\n",
      "     ******************************\n",
      "    ********************************\n",
      "   **********************************\n",
      "  ************************************\n",
      " **************************************\n"
     ]
    }
   ],
   "source": [
    "show_pyramid()"
   ]
  },
  {
   "cell_type": "markdown",
   "metadata": {},
   "source": [
    "## 2. Return something\n",
    "\n",
    "Functions can give you something back when they are done!\n",
    "In other words, functions can return a value / object.\n",
    "\n",
    "To return an object, you just use the **return** keyword.\n",
    "\n",
    "**Note 1:** Remember the lesson about comments? It is very good practice to comment your funtion as demonstrated below and explain what it does.\n",
    "\n",
    "**Note 2:** [Python styling and naming convention, along with best practices](https://www.python.org/dev/peps/pep-0008/) says that name of functions and variables should be lowercase with underscores as shown below."
   ]
  },
  {
   "cell_type": "code",
   "execution_count": 10,
   "metadata": {
    "collapsed": true
   },
   "outputs": [],
   "source": [
    "def get_value():\n",
    "    ''' Returns the result of the multiplication: 100 * 500.\n",
    "    '''\n",
    "    a = 100\n",
    "    b = 500\n",
    "    return a * b"
   ]
  },
  {
   "cell_type": "code",
   "execution_count": 54,
   "metadata": {
    "collapsed": false
   },
   "outputs": [
    {
     "name": "stdout",
     "output_type": "stream",
     "text": [
      "The value is: 50000\n"
     ]
    }
   ],
   "source": [
    "value = get_value()\n",
    "\n",
    "print('The value is:', value)"
   ]
  },
  {
   "cell_type": "markdown",
   "metadata": {},
   "source": [
    "**\"return\" finishes the function! After return is called, the function has ended! The machine has finished its job.**\n",
    "\n",
    "Also note that a function does not need a return and can even return literally nothing."
   ]
  },
  {
   "cell_type": "code",
   "execution_count": 73,
   "metadata": {
    "collapsed": true
   },
   "outputs": [],
   "source": [
    "def print_steps():\n",
    "    ''' Prints some steps to show the working of return statements.\n",
    "    '''\n",
    "    # Do some steps\n",
    "    print('Step 1 ...')\n",
    "    print('Step 2 ...')\n",
    "\n",
    "    # Go out of the function without returning anything.\n",
    "    return\n",
    "    print('Step 3 ... which never happens')"
   ]
  },
  {
   "cell_type": "code",
   "execution_count": 74,
   "metadata": {
    "collapsed": false
   },
   "outputs": [
    {
     "name": "stdout",
     "output_type": "stream",
     "text": [
      "Step 1 ...\n",
      "Step 2 ...\n"
     ]
    }
   ],
   "source": [
    "# Prints the steps and store the returned object in a variable\n",
    "value = print_steps()"
   ]
  },
  {
   "cell_type": "code",
   "execution_count": 75,
   "metadata": {
    "collapsed": false
   },
   "outputs": [
    {
     "name": "stdout",
     "output_type": "stream",
     "text": [
      "Value: None\n"
     ]
    }
   ],
   "source": [
    "# Can you guess the result?\n",
    "print('Value:', value)"
   ]
  },
  {
   "cell_type": "markdown",
   "metadata": {},
   "source": [
    "## 3. Arguments\n",
    "\n",
    "We saw how to define functions and return results. Now we will see how to pass arguments to functions.\n",
    "\n",
    "We want to give data to our functions, let the function do some work with it and, maybe, return derived results or modified data."
   ]
  },
  {
   "cell_type": "code",
   "execution_count": 139,
   "metadata": {
    "collapsed": true
   },
   "outputs": [],
   "source": [
    "# Just add the arguments between the parentheses, \n",
    "# seperated by commas if you have multiple ones\n",
    "\n",
    "def multiply(a, b):\n",
    "    ''' Multiply 2 values and return the result.\n",
    "    \n",
    "    Arguments:\n",
    "        a: The first value\n",
    "        b: The second value\n",
    "        \n",
    "    Returns:\n",
    "        The result of a * b.\n",
    "    '''\n",
    "    result = a * b\n",
    "    return result"
   ]
  },
  {
   "cell_type": "code",
   "execution_count": 91,
   "metadata": {
    "collapsed": false
   },
   "outputs": [
    {
     "name": "stdout",
     "output_type": "stream",
     "text": [
      "20\n"
     ]
    }
   ],
   "source": [
    "# When you call the function, you just put the arguments\n",
    "print( multiply(2, 10) )"
   ]
  },
  {
   "cell_type": "code",
   "execution_count": 96,
   "metadata": {
    "collapsed": false
   },
   "outputs": [
    {
     "name": "stdout",
     "output_type": "stream",
     "text": [
      "20\n"
     ]
    }
   ],
   "source": [
    "# You can also be explicit\n",
    "print( multiply(a=2, b=10) )"
   ]
  },
  {
   "cell_type": "markdown",
   "metadata": {},
   "source": [
    "### 3.1 Default values\n",
    "\n",
    "All function arguments must be defined when the function is called.\n",
    "If that is not the case, you will get an exception.\n",
    "\n",
    "Fortunatly for us, we can define default values for arguments. This allows to call functions without having to define every argument. Some arguments might be required and others will be optional because they have a default value."
   ]
  },
  {
   "cell_type": "code",
   "execution_count": 140,
   "metadata": {
    "collapsed": false
   },
   "outputs": [
    {
     "ename": "TypeError",
     "evalue": "ex() missing 2 required positional arguments: 'd' and 'e'",
     "output_type": "error",
     "traceback": [
      "\u001b[0;31m---------------------------------------------------------------------------\u001b[0m",
      "\u001b[0;31mTypeError\u001b[0m                                 Traceback (most recent call last)",
      "\u001b[0;32m<ipython-input-140-22f1a2f77550>\u001b[0m in \u001b[0;36m<module>\u001b[0;34m()\u001b[0m\n\u001b[1;32m      5\u001b[0m     \u001b[0mprint\u001b[0m\u001b[0;34m(\u001b[0m\u001b[0;34m'ok'\u001b[0m\u001b[0;34m)\u001b[0m\u001b[0;34m\u001b[0m\u001b[0m\n\u001b[1;32m      6\u001b[0m \u001b[0;34m\u001b[0m\u001b[0m\n\u001b[0;32m----> 7\u001b[0;31m \u001b[0mex\u001b[0m\u001b[0;34m(\u001b[0m\u001b[0;36m1\u001b[0m\u001b[0;34m,\u001b[0m\u001b[0;36m2\u001b[0m\u001b[0;34m,\u001b[0m\u001b[0;36m3\u001b[0m\u001b[0;34m)\u001b[0m \u001b[0;31m# forgot 3 arguments\u001b[0m\u001b[0;34m\u001b[0m\u001b[0m\n\u001b[0m",
      "\u001b[0;31mTypeError\u001b[0m: ex() missing 2 required positional arguments: 'd' and 'e'"
     ]
    }
   ],
   "source": [
    "# We define a function with 6 required parameters.\n",
    "# An exception is raised if you don't give a value for each one.\n",
    "\n",
    "def ex(a,b,c,d,e,f=None):\n",
    "    print('ok')\n",
    "    \n",
    "ex(1,2,3) # forgot 2 arguments, f has a default value so it is not required"
   ]
  },
  {
   "cell_type": "markdown",
   "metadata": {},
   "source": [
    "Let's redefine our show_pyramid function to allow others to show any size of pyramid."
   ]
  },
  {
   "cell_type": "code",
   "execution_count": 100,
   "metadata": {
    "collapsed": true
   },
   "outputs": [],
   "source": [
    "# LIVE: COPY PASTE AND CHANGE LIVE\n",
    "\n",
    "def show_pyramid(size, symbol='*'):\n",
    "    '''Shows a beautiful pyramid made out of certain characters.\n",
    "    \n",
    "    Arguments:\n",
    "        size:   The size of the pyramid as integer\n",
    "        symbol: The symbol to build the pyramid (Default: \"*\")\n",
    "    '''\n",
    "    for x in range(size):\n",
    "        print(' ' * (size - x), end='')\n",
    "        print(symbol * x * 2)"
   ]
  },
  {
   "cell_type": "code",
   "execution_count": 102,
   "metadata": {
    "collapsed": false
   },
   "outputs": [
    {
     "name": "stdout",
     "output_type": "stream",
     "text": [
      "          \n",
      "         **\n",
      "        ****\n",
      "       ******\n",
      "      ********\n",
      "     **********\n",
      "    ************\n",
      "   **************\n",
      "  ****************\n",
      " ******************\n"
     ]
    }
   ],
   "source": [
    "# Now we need to give a size\n",
    "show_pyramid(10)"
   ]
  },
  {
   "cell_type": "code",
   "execution_count": 105,
   "metadata": {
    "collapsed": false
   },
   "outputs": [
    {
     "name": "stdout",
     "output_type": "stream",
     "text": [
      "                                        \n",
      "                                       **\n",
      "                                      ****\n",
      "                                     ******\n",
      "                                    ********\n",
      "                                   **********\n",
      "                                  ************\n",
      "                                 **************\n",
      "                                ****************\n",
      "                               ******************\n",
      "                              ********************\n",
      "                             **********************\n",
      "                            ************************\n",
      "                           **************************\n",
      "                          ****************************\n",
      "                         ******************************\n",
      "                        ********************************\n",
      "                       **********************************\n",
      "                      ************************************\n",
      "                     **************************************\n",
      "                    ****************************************\n",
      "                   ******************************************\n",
      "                  ********************************************\n",
      "                 **********************************************\n",
      "                ************************************************\n",
      "               **************************************************\n",
      "              ****************************************************\n",
      "             ******************************************************\n",
      "            ********************************************************\n",
      "           **********************************************************\n",
      "          ************************************************************\n",
      "         **************************************************************\n",
      "        ****************************************************************\n",
      "       ******************************************************************\n",
      "      ********************************************************************\n",
      "     **********************************************************************\n",
      "    ************************************************************************\n",
      "   **************************************************************************\n",
      "  ****************************************************************************\n",
      " ******************************************************************************\n"
     ]
    }
   ],
   "source": [
    "show_pyramid(40)"
   ]
  },
  {
   "cell_type": "code",
   "execution_count": 118,
   "metadata": {
    "collapsed": false
   },
   "outputs": [
    {
     "name": "stdout",
     "output_type": "stream",
     "text": [
      "          \n",
      "         ..\n",
      "        ....\n",
      "       ......\n",
      "      ........\n",
      "     ..........\n",
      "    ............\n",
      "   ..............\n",
      "  ................\n",
      " ..................\n",
      "          \n",
      "         __\n",
      "        ____\n",
      "       ______\n",
      "      ________\n",
      "     __________\n",
      "    ____________\n",
      "   ______________\n",
      "  ________________\n",
      " __________________\n",
      "          \n",
      "         --\n",
      "        ----\n",
      "       ------\n",
      "      --------\n",
      "     ----------\n",
      "    ------------\n",
      "   --------------\n",
      "  ----------------\n",
      " ------------------\n",
      "          \n",
      "         11\n",
      "        1111\n",
      "       111111\n",
      "      11111111\n",
      "     1111111111\n",
      "    111111111111\n",
      "   11111111111111\n",
      "  1111111111111111\n",
      " 111111111111111111\n",
      "          \n",
      "         TT\n",
      "        TTTT\n",
      "       TTTTTT\n",
      "      TTTTTTTT\n",
      "     TTTTTTTTTT\n",
      "    TTTTTTTTTTTT\n",
      "   TTTTTTTTTTTTTT\n",
      "  TTTTTTTTTTTTTTTT\n",
      " TTTTTTTTTTTTTTTTTT\n"
     ]
    }
   ],
   "source": [
    "# And of course, you can change the symbols to quite anything,\n",
    "# since our function accepts many values\n",
    "\n",
    "show_pyramid(10, '.') # dot\n",
    "show_pyramid(10, '_') # underscore\n",
    "show_pyramid(10, '-') # minus\n",
    "\n",
    "show_pyramid(10, '1')\n",
    "show_pyramid(10, 'T')"
   ]
  },
  {
   "cell_type": "markdown",
   "metadata": {},
   "source": [
    "## 4. Scope\n",
    "\n",
    "All variables are not accessible from every part of a program. Depending where a block of code is located it might have access to certain variables but not others.\n",
    "\n",
    "In Python, we differenciate between **local** and **global** variables.\n",
    "\n",
    "**Local Scope:**\n",
    "\n",
    "Variables defined inside a function have a local scope to that function. They also live as long as the function is running. After the return, those variables are freed.\n",
    "\n",
    "**Global Scope:**\n",
    "\n",
    "Variables defined outside a function are often global and can be accessed by potentially many functions and of course outside of functions.\n",
    "\n",
    "**Note:** The same rules don't only apply for variables, but also to functions and classes (next lesson).\n",
    "\n",
    "Now let's see some examples:"
   ]
  },
  {
   "cell_type": "markdown",
   "metadata": {},
   "source": [
    "### Example 1:\n",
    "\n",
    "The function uses a global variable."
   ]
  },
  {
   "cell_type": "code",
   "execution_count": 4,
   "metadata": {
    "collapsed": false
   },
   "outputs": [
    {
     "name": "stdout",
     "output_type": "stream",
     "text": [
      "Local name = Mike\n",
      "Global name = Mike\n"
     ]
    }
   ],
   "source": [
    "name = 'Mike' # This is \"global\"\n",
    "\n",
    "def print_name():\n",
    "    # We are in the \"local\" scope of the function\n",
    "    print('Local name =', name)\n",
    "    \n",
    "print_name()\n",
    "    \n",
    "print('Global name =', name)"
   ]
  },
  {
   "cell_type": "markdown",
   "metadata": {},
   "source": [
    "### Example 2:\n",
    "\n",
    "The function assigns a value to a variable defined also as global."
   ]
  },
  {
   "cell_type": "code",
   "execution_count": 6,
   "metadata": {
    "collapsed": false
   },
   "outputs": [
    {
     "name": "stdout",
     "output_type": "stream",
     "text": [
      "Local Total = 45\n",
      "Global Total = 0\n"
     ]
    }
   ],
   "source": [
    "total = 0 # This is \"global\"\n",
    "\n",
    "def compute(n):\n",
    "    # We are in the \"local\" scope of the function\n",
    "    total = sum( range(n) )\n",
    "    print('Local Total =', total)\n",
    "\n",
    "compute(10)\n",
    "    \n",
    "print('Global Total =', total)"
   ]
  },
  {
   "cell_type": "markdown",
   "metadata": {},
   "source": [
    "So, what is exactly happing in Python's mind?\n",
    "\n",
    "We defined globally a variable total, and in our function we assigned a variable total with a value. The local total doesn't change the global total even though they have the same name. But in the first example, the name was used from the global scope.\n",
    "\n",
    "What happens, is that Python interpretes the code and tries to find out if you refer to a global variable or if you create a new local variable.\n",
    "\n",
    "To better illustrate this statement, let's see this special setup:"
   ]
  },
  {
   "cell_type": "markdown",
   "metadata": {},
   "source": [
    "### Example 3: \n",
    "\n",
    "Python assumes that you want a local variable inside your function.\n",
    "\n",
    "For this reason, it will throw an exception on the first line, saying that you didn't define this variable."
   ]
  },
  {
   "cell_type": "code",
   "execution_count": 7,
   "metadata": {
    "collapsed": false
   },
   "outputs": [
    {
     "ename": "UnboundLocalError",
     "evalue": "local variable 'total' referenced before assignment",
     "output_type": "error",
     "traceback": [
      "\u001b[0;31m---------------------------------------------------------------------------\u001b[0m",
      "\u001b[0;31mUnboundLocalError\u001b[0m                         Traceback (most recent call last)",
      "\u001b[0;32m<ipython-input-7-a4dad1e6fe1a>\u001b[0m in \u001b[0;36m<module>\u001b[0;34m()\u001b[0m\n\u001b[1;32m      8\u001b[0m     \u001b[0mprint\u001b[0m\u001b[0;34m(\u001b[0m\u001b[0;34m'(2) Local Total ='\u001b[0m\u001b[0;34m,\u001b[0m \u001b[0mtotal\u001b[0m\u001b[0;34m)\u001b[0m\u001b[0;34m\u001b[0m\u001b[0m\n\u001b[1;32m      9\u001b[0m \u001b[0;34m\u001b[0m\u001b[0m\n\u001b[0;32m---> 10\u001b[0;31m \u001b[0mcompute\u001b[0m\u001b[0;34m(\u001b[0m\u001b[0;36m10\u001b[0m\u001b[0;34m)\u001b[0m\u001b[0;34m\u001b[0m\u001b[0m\n\u001b[0m\u001b[1;32m     11\u001b[0m \u001b[0;34m\u001b[0m\u001b[0m\n\u001b[1;32m     12\u001b[0m \u001b[0mprint\u001b[0m\u001b[0;34m(\u001b[0m\u001b[0;34m'Global Total ='\u001b[0m\u001b[0;34m,\u001b[0m \u001b[0mtotal\u001b[0m\u001b[0;34m)\u001b[0m\u001b[0;34m\u001b[0m\u001b[0m\n",
      "\u001b[0;32m<ipython-input-7-a4dad1e6fe1a>\u001b[0m in \u001b[0;36mcompute\u001b[0;34m(n)\u001b[0m\n\u001b[1;32m      3\u001b[0m \u001b[0;32mdef\u001b[0m \u001b[0mcompute\u001b[0m\u001b[0;34m(\u001b[0m\u001b[0mn\u001b[0m\u001b[0;34m)\u001b[0m\u001b[0;34m:\u001b[0m\u001b[0;34m\u001b[0m\u001b[0m\n\u001b[1;32m      4\u001b[0m     \u001b[0;31m# We are in the \"local\" scope of the function\u001b[0m\u001b[0;34m\u001b[0m\u001b[0;34m\u001b[0m\u001b[0m\n\u001b[0;32m----> 5\u001b[0;31m     \u001b[0mprint\u001b[0m\u001b[0;34m(\u001b[0m\u001b[0;34m'(1) Local Total ='\u001b[0m\u001b[0;34m,\u001b[0m \u001b[0mtotal\u001b[0m\u001b[0;34m)\u001b[0m\u001b[0;34m\u001b[0m\u001b[0m\n\u001b[0m\u001b[1;32m      6\u001b[0m \u001b[0;34m\u001b[0m\u001b[0m\n\u001b[1;32m      7\u001b[0m     \u001b[0mtotal\u001b[0m \u001b[0;34m=\u001b[0m \u001b[0msum\u001b[0m\u001b[0;34m(\u001b[0m \u001b[0mrange\u001b[0m\u001b[0;34m(\u001b[0m\u001b[0mn\u001b[0m\u001b[0;34m)\u001b[0m \u001b[0;34m)\u001b[0m\u001b[0;34m\u001b[0m\u001b[0m\n",
      "\u001b[0;31mUnboundLocalError\u001b[0m: local variable 'total' referenced before assignment"
     ]
    }
   ],
   "source": [
    "total = 0 # This is \"global\"\n",
    "\n",
    "def compute(n):\n",
    "    # We are in the \"local\" scope of the function\n",
    "    print('(1) Local Total =', total) \n",
    "    \n",
    "    total = sum( range(n) )\n",
    "    print('(2) Local Total =', total)\n",
    "\n",
    "compute(10)\n",
    "    \n",
    "print('Global Total =', total)"
   ]
  },
  {
   "cell_type": "markdown",
   "metadata": {},
   "source": [
    "### Example 4: \n",
    "\n",
    "If really needed, you can use the keyword **global** to tell Python that you want this variable from the global scope."
   ]
  },
  {
   "cell_type": "code",
   "execution_count": 8,
   "metadata": {
    "collapsed": false
   },
   "outputs": [
    {
     "name": "stdout",
     "output_type": "stream",
     "text": [
      "(1) Local Total = 0\n",
      "(2) Local Total = 45\n",
      "Global Total = 45\n"
     ]
    }
   ],
   "source": [
    "total = 0 # This is \"global\"\n",
    "\n",
    "def compute(n):\n",
    "    global total\n",
    "    # We are in the \"local\" scope of the function\n",
    "    print('(1) Local Total =', total) \n",
    "    \n",
    "    total = sum( range(n) )\n",
    "    print('(2) Local Total =', total)\n",
    "\n",
    "compute(10)\n",
    "    \n",
    "print('Global Total =', total)"
   ]
  },
  {
   "cell_type": "markdown",
   "metadata": {},
   "source": [
    "## 5. The secret of passing parameters to functions\n",
    "\n",
    "*Sidenote:* You might feel that little by little, we are going more and more deep into programming concepts. It might get harder and more abstract, but do not worry, we will do plenty of examples so you will understand very well how to use everything we have learned.\n",
    "\n",
    "Okay, next up is **what happens to the variables / parameters that we pass to a function as an argument?**\n",
    "\n",
    "In programming you most often have 2 choices:\n",
    "\n",
    "1. The function gets a copy of the value (pass by value)\n",
    "1. The function gets the real value or the address of real value, not a copy (pass by reference)\n",
    "\n",
    "Python is quite special, because everything is an object. And a variable is just a binding to an object. To better understand we need to understand the **difference between immutable and mutable objects**."
   ]
  },
  {
   "cell_type": "markdown",
   "metadata": {
    "collapsed": true
   },
   "source": [
    "## Immutable Objects\n",
    "\n",
    "Once created, those objects cannot be changed. They are immutable! They can't change!\n",
    "\n",
    "For example, strings, integers, floats and tuples are immutable.\n",
    "\n",
    "> But, if they are immutable and cannot change, why can I write something like x = 1, and do x += 1 ?\n",
    "\n",
    "Good question! \n",
    "The answer is that you are not changing the value \"1\"! \n",
    "You are actually changing the binding of x.\n",
    "This means that when performing \"x += 1\", a new object \"2\" is created and x binds to that object.\n",
    "The previous object \"1\" is really nowhere. (Actually is is not binded to any variable anymore and can be cleaned by the garbage collector.)"
   ]
  },
  {
   "cell_type": "code",
   "execution_count": 13,
   "metadata": {
    "collapsed": false
   },
   "outputs": [
    {
     "name": "stdout",
     "output_type": "stream",
     "text": [
      "1) a = 0\n",
      "2) a = 0\n"
     ]
    }
   ],
   "source": [
    "# Example: Function that just increments a value given.\n",
    "# We will try to define a variable x and make the function increment it.\n",
    "\n",
    "def increment(x, inc):\n",
    "    x += inc\n",
    "    \n",
    "a = 0\n",
    "\n",
    "print('1) a =', a) # Initial value of a\n",
    "\n",
    "increment(a, 10)\n",
    "\n",
    "print('2) a =', a) # a after the call to increment"
   ]
  },
  {
   "cell_type": "code",
   "execution_count": 20,
   "metadata": {
    "collapsed": false
   },
   "outputs": [
    {
     "name": "stdout",
     "output_type": "stream",
     "text": [
      "1) hashtags = #code, #python, #crazyfunctions, #nofilter, #alwayscoding\n",
      "2) hashtags = #code, #python, #crazyfunctions, #nofilter, #alwayscoding\n"
     ]
    }
   ],
   "source": [
    "# Example: Function that removes a substring inside a text.\n",
    "\n",
    "def remove_substring(text, substring):\n",
    "    text = text.replace(substring, '')\n",
    "    \n",
    "hashtags = '#code, #python, #crazyfunctions, #nofilter, #alwayscoding'\n",
    "\n",
    "print('1) hashtags =', hashtags)\n",
    "\n",
    "remove_substring(hashtags, '#')\n",
    "\n",
    "print('2) hashtags =', hashtags)"
   ]
  },
  {
   "cell_type": "markdown",
   "metadata": {},
   "source": [
    "Okay, if we would like the function to increment x for example, you would need to require the code so that the function returns the new value!"
   ]
  },
  {
   "cell_type": "code",
   "execution_count": 21,
   "metadata": {
    "collapsed": false
   },
   "outputs": [
    {
     "name": "stdout",
     "output_type": "stream",
     "text": [
      "1) a = 0\n",
      "2) a = 10\n"
     ]
    }
   ],
   "source": [
    "def increment(x, inc):\n",
    "    x += inc\n",
    "    return x # Return x!\n",
    "\n",
    "a = 0\n",
    "\n",
    "print('1) a =', a) # Initial value of a\n",
    "\n",
    "a = increment(a, 10) # Now increments returns the new value\n",
    "\n",
    "print('2) a =', a) # a after the call to increment"
   ]
  },
  {
   "cell_type": "code",
   "execution_count": 22,
   "metadata": {
    "collapsed": false
   },
   "outputs": [
    {
     "name": "stdout",
     "output_type": "stream",
     "text": [
      "1) hashtags = #code, #python, #crazyfunctions, #nofilter, #alwayscoding\n",
      "2) hashtags = code, python, crazyfunctions, nofilter, alwayscoding\n"
     ]
    }
   ],
   "source": [
    "def remove_substring(text, substring):\n",
    "    return text.replace(substring, '') # Return the new string\n",
    "    \n",
    "hashtags = '#code, #python, #crazyfunctions, #nofilter, #alwayscoding'\n",
    "\n",
    "print('1) hashtags =', hashtags)\n",
    "\n",
    "hashtags = remove_substring(hashtags, '#') \n",
    "\n",
    "print('2) hashtags =', hashtags)"
   ]
  },
  {
   "cell_type": "markdown",
   "metadata": {
    "collapsed": true
   },
   "source": [
    "## Mutable Objects\n",
    "\n",
    "Once created, those objects can be changed! They are mutable!\n",
    "\n",
    "For example, lists, dictionaries and sets are mutable data types.\n",
    "\n",
    "So now, you might guess what happens when you give a list to a function. If the function modifies the list, then the changes will be reflected outside of the function too."
   ]
  },
  {
   "cell_type": "code",
   "execution_count": 52,
   "metadata": {
    "collapsed": false
   },
   "outputs": [
    {
     "name": "stdout",
     "output_type": "stream",
     "text": [
      "1) scores = [29, 85, 99, 97, 52, 16, 37, 72, 66]\n",
      "2) scores = [99, 97, 85, 72, 66]\n"
     ]
    }
   ],
   "source": [
    "# Example: We define a function that will sort the list and keep only the 5 highest scores.\n",
    "\n",
    "def top_five(scores):\n",
    "    scores.sort()\n",
    "    scores.reverse()\n",
    "\n",
    "    for s in scores[5:]: # Loop over the not top five elements\n",
    "        scores.remove(s)\n",
    "    \n",
    "scores = [29, 85, 99, 97, 52, 16, 37, 72, 66]\n",
    "\n",
    "print('1) scores =', scores)\n",
    "\n",
    "top_five(scores)\n",
    "\n",
    "print('2) scores =', scores)"
   ]
  },
  {
   "cell_type": "code",
   "execution_count": 57,
   "metadata": {
    "collapsed": false
   },
   "outputs": [
    {
     "name": "stdout",
     "output_type": "stream",
     "text": [
      "1) secret = {'text': 'EnCt2dd82c220783e18f7cc7ac9f99914a410957a7415dd82c220783e18f7cc7ac9f9pfW2/Nll6gBuGK2WylfvJ8lTiPBEk4apgBToly/B2R6FE6aCyg3YzzuszAZPFpPU6LnFgNY50PitIwEmS'}\n",
      "\n",
      "2) secret = {'text': 'EnCt2dd82c220783e18f7cc7ac9f99914a410957a7415dd82c220783e18f7cc7ac9f9pfW2/Nll6gBuGK2WylfvJ8lTiPBEk4apgBToly/B2R6FE6aCyg3YzzuszAZPFpPU6LnFgNY50PitIwEmS', 'datetime': 1472894900.217899, 'encrypted': True}\n"
     ]
    }
   ],
   "source": [
    "# Example: We define a function that will add a few keys to a dictionary\n",
    "\n",
    "import time\n",
    "\n",
    "def prepare_secret(secret):\n",
    "    secret['encrypted'] = True\n",
    "    secret['datetime'] = time.time()\n",
    "    \n",
    "    \n",
    "secret = {\n",
    "    'text': 'EnCt2dd82c220783e18f7cc7ac9f99914a410957a7415dd82c220783e18f7cc7ac9f9pfW2/Nll6gBuGK2WylfvJ8lTiPBEk4apgBToly/B2R6FE6aCyg3YzzuszAZPFpPU6LnFgNY50PitIwEmS'\n",
    "}\n",
    "\n",
    "print('1) secret =', secret)\n",
    "\n",
    "prepare_secret(secret)\n",
    "\n",
    "print('\\n2) secret =', secret)"
   ]
  },
  {
   "cell_type": "markdown",
   "metadata": {},
   "source": [
    "## 6. Anonymous functions (BONUS)\n",
    "\n",
    "Until now we have seen how to define functions the most usual way using the **def** keyword. In Python you can also define anonymous function, or so called lambda functions. Those functions are said to be anonymous because they have no name!\n",
    "\n",
    "They are useful when you need to define a very small function. The syntax of lambda functions restricts it to have a single expression. Let's just see a few examples:"
   ]
  },
  {
   "cell_type": "code",
   "execution_count": 59,
   "metadata": {
    "collapsed": false
   },
   "outputs": [],
   "source": [
    "# This lambda function takes 2 arguments and compute the sum\n",
    "sum = lambda a, b: a + b"
   ]
  },
  {
   "cell_type": "code",
   "execution_count": 61,
   "metadata": {
    "collapsed": false
   },
   "outputs": [
    {
     "data": {
      "text/plain": [
       "2"
      ]
     },
     "execution_count": 61,
     "metadata": {},
     "output_type": "execute_result"
    }
   ],
   "source": [
    "sum(1,1)"
   ]
  },
  {
   "cell_type": "code",
   "execution_count": 64,
   "metadata": {
    "collapsed": false
   },
   "outputs": [
    {
     "data": {
      "text/plain": [
       "109.0"
      ]
     },
     "execution_count": 64,
     "metadata": {},
     "output_type": "execute_result"
    }
   ],
   "source": [
    "sum(20.5,88.5)"
   ]
  },
  {
   "cell_type": "code",
   "execution_count": 65,
   "metadata": {
    "collapsed": false
   },
   "outputs": [
    {
     "data": {
      "text/plain": [
       "'Lambda functions are okay...'"
      ]
     },
     "execution_count": 65,
     "metadata": {},
     "output_type": "execute_result"
    }
   ],
   "source": [
    "sum('Lambda functions are ','okay...')"
   ]
  },
  {
   "cell_type": "code",
   "execution_count": 75,
   "metadata": {
    "collapsed": true
   },
   "outputs": [],
   "source": [
    "# You can even imagine doing things like this:\n",
    "# Define a function that will return... wait for it... another function!\n",
    "# In thise case, a lambda expression is quite nice. \n",
    "# We basically return a custom function that will increment a number by n always.\n",
    "\n",
    "def make_increment(n):\n",
    "    increment_function = lambda x: x + n\n",
    "    return increment_function"
   ]
  },
  {
   "cell_type": "code",
   "execution_count": 76,
   "metadata": {
    "collapsed": true
   },
   "outputs": [],
   "source": [
    "f = make_increment(100) # n is 100"
   ]
  },
  {
   "cell_type": "code",
   "execution_count": 77,
   "metadata": {
    "collapsed": false
   },
   "outputs": [
    {
     "data": {
      "text/plain": [
       "100"
      ]
     },
     "execution_count": 77,
     "metadata": {},
     "output_type": "execute_result"
    }
   ],
   "source": [
    "f(0) # 0 + 100"
   ]
  },
  {
   "cell_type": "code",
   "execution_count": 78,
   "metadata": {
    "collapsed": false
   },
   "outputs": [
    {
     "data": {
      "text/plain": [
       "101"
      ]
     },
     "execution_count": 78,
     "metadata": {},
     "output_type": "execute_result"
    }
   ],
   "source": [
    "f(1) # 1 + 100"
   ]
  },
  {
   "cell_type": "code",
   "execution_count": 80,
   "metadata": {
    "collapsed": false
   },
   "outputs": [
    {
     "data": {
      "text/plain": [
       "110"
      ]
     },
     "execution_count": 80,
     "metadata": {},
     "output_type": "execute_result"
    }
   ],
   "source": [
    "f(10) # 10 + 100"
   ]
  },
  {
   "cell_type": "markdown",
   "metadata": {},
   "source": [
    "## NEXT: Practice\n",
    "\n",
    "For practicing what we have learned here, we will make a longer example in the next Notebook (10-Functions_Practice) that will also allow you to sharpen your skills and grow your knowledge of Python."
   ]
  },
  {
   "cell_type": "code",
   "execution_count": null,
   "metadata": {
    "collapsed": true
   },
   "outputs": [],
   "source": []
  }
 ],
 "metadata": {
  "anaconda-cloud": {},
  "kernelspec": {
   "display_name": "Python [Root]",
   "language": "python",
   "name": "Python [Root]"
  },
  "language_info": {
   "codemirror_mode": {
    "name": "ipython",
    "version": 3
   },
   "file_extension": ".py",
   "mimetype": "text/x-python",
   "name": "python",
   "nbconvert_exporter": "python",
   "pygments_lexer": "ipython3",
   "version": "3.5.2"
  }
 },
 "nbformat": 4,
 "nbformat_minor": 0
}

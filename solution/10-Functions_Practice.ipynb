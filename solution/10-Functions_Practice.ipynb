{
 "cells": [
  {
   "cell_type": "markdown",
   "metadata": {
    "collapsed": true,
    "nbpresent": {
     "id": "46fabad9-c399-4b68-9202-3afbf1e57a37"
    }
   },
   "source": [
    "After all those lessons, you have now a lot of tools at your disposal to code a lot of things! \n",
    "In this notebook, the main topic will be **functions and code structure**. \n",
    "In addition, we will explore how **reading from a file** works along with other nice to know things.\n",
    "\n",
    "Let's go!"
   ]
  },
  {
   "cell_type": "markdown",
   "metadata": {
    "nbpresent": {
     "id": "327f3868-f1d6-4999-96a3-67c7b82ea42d"
    }
   },
   "source": [
    "# Function Practice 1 : Parsing Daily Activities\n",
    "\n",
    "Here's what we want to achieve. We have a file containing information about our daily activities and we would like to take that information and extract useful knowledge from it.\n",
    "\n",
    "Starting with the file. We will use a CSV (**C**omma-**S**eparated **V**alues) file. A CSV file a simple format to store data into a table-like structure. Each row has mutliple values which are separated via a comma, hence the name *comma-separated values*. It looks like this:\n",
    "\n",
    "    value01,value02,value03\n",
    "    value11,value12,value13\n",
    "    value21,value22,value23\n",
    "\n",
    "Often, you will se that the first line is the column header:\n",
    "\n",
    "    header1,header2,header3\n",
    "    value01,value02,value03\n",
    "    value11,value12,value13\n",
    "    value21,value22,value23\n",
    "\n",
    "Note that we are not forced to separate a CSV file with commas. Often a semi-colon is used because it allows for example to use the comma in values for decimal or sentences.\n",
    "\n",
    "All right. For our daily activities we will have one CSV file per day and each CSV file will have the following columns:\n",
    "\n",
    "- **activity**: The name of the activity.\n",
    "- **start_time**: The time at which the activity started (format is e.g. 14:05).\n",
    "- **duration**: The duration in hours that the activity lasted.\n",
    "- **is_outdoor**: A flag that says if the activity happened outdoor or indoor.\n",
    "\n",
    "Enough explanation for now, let's start to write a little code. \n",
    "\n",
    "## 1. Reading the CSV\n",
    "\n",
    "First thing we want to do is: read our CSV files located in `data/`. [How do we do that?](http://lmgtfy.com/?q=python+read+csv+file)\n"
   ]
  },
  {
   "cell_type": "code",
   "execution_count": 1,
   "metadata": {
    "collapsed": false,
    "nbpresent": {
     "id": "65991977-0510-4bd2-9c9b-d4bd737718a1"
    }
   },
   "outputs": [
    {
     "name": "stdout",
     "output_type": "stream",
     "text": [
      "['activity', 'start_time', 'duration', 'is_outdoor']\n",
      "['Healthy Breakfast', '07:00', '0.2', '0']\n",
      "['Bus', '07:30', '0.5', '1']\n",
      "['School', '08:15', '4', '0']\n",
      "['Lunch', '12:00', '0.8', '1']\n",
      "['Catching Pokemons', '12:48', '0.2', '1']\n",
      "['School', '13:00', '4', '0']\n",
      "['Bus', '17:00', '0.4', '1']\n",
      "['Work on assignment', '17:40', '1.5', '0']\n",
      "['Dinner with family', '19:20', '0.5', '0']\n",
      "['Study for exam', '19:50', '2', '0']\n"
     ]
    }
   ],
   "source": [
    "# Python has a huge standard library and manipulating CSV files is part of it\n",
    "# The next code comes from what we found on google.\n",
    "\n",
    "import csv # We import the csv module\n",
    "\n",
    "# This is new, we will see later what it does\n",
    "# WITH the csv file OPENED and available in a VARIABLE, we DO something\n",
    "with open('data/monday.csv') as csvfile:\n",
    "    # Then, we create a CSV reader that will help us read the CSV.\n",
    "    # We just give it the file and say that we use ; as separator / delimiter.\n",
    "    reader = csv.reader(csvfile, delimiter=';')\n",
    "    \n",
    "    # The reader returns an object that will iterate over each line as a list of strings.\n",
    "    for row in reader:\n",
    "        print(row)"
   ]
  },
  {
   "cell_type": "markdown",
   "metadata": {
    "nbpresent": {
     "id": "02796cf1-39b9-4f2e-963a-b17b6aedaba9"
    }
   },
   "source": [
    "Ok, so now that this is working, how about we put it into a nice function. This function will read the CSV and store it into a **list of dictionaries** so that we can perform other operations later.\n",
    "\n",
    "If you browse a bit the [official Python 3 documentation for CSV](https://docs.python.org/3/library/csv.html#csv.DictWriter) which very easy to google, you will see that there is a `csv.DictWriter` that looks like exactly what we need, so let's just use this in our function."
   ]
  },
  {
   "cell_type": "code",
   "execution_count": 87,
   "metadata": {
    "collapsed": true,
    "nbpresent": {
     "id": "22c346c1-fdd1-4392-a479-760ddc98d9a4"
    }
   },
   "outputs": [],
   "source": [
    "# Note: we already imported csv once, no need to import it again.\n",
    "\n",
    "def read_activity_file(activity_file):\n",
    "    ''' Open the activity CSV file and return the data as\n",
    "    a list of dictionaries.\n",
    "    '''\n",
    "    activities = []\n",
    "    with open(activity_file) as csvfile:\n",
    "        # DictReader uses the first row as key for \n",
    "        reader = csv.DictReader(csvfile, delimiter=';')\n",
    "        \n",
    "        for row in reader: # Now row is a dictionary\n",
    "            #print(row)\n",
    "            activities.append(row)\n",
    "    \n",
    "    return activities"
   ]
  },
  {
   "cell_type": "code",
   "execution_count": 88,
   "metadata": {
    "collapsed": false,
    "nbpresent": {
     "id": "82cdd6c6-947f-4d3a-846f-ac5a4f1adc31"
    }
   },
   "outputs": [
    {
     "name": "stdout",
     "output_type": "stream",
     "text": [
      "Monday:  [{'duration': '0.2', 'activity': 'Healthy Breakfast', 'start_time': '07:00', 'is_outdoor': '0'}, {'duration': '0.5', 'activity': 'Bus', 'start_time': '07:30', 'is_outdoor': '1'}, {'duration': '4', 'activity': 'School', 'start_time': '08:15', 'is_outdoor': '0'}, {'duration': '0.8', 'activity': 'Lunch', 'start_time': '12:00', 'is_outdoor': '1'}, {'duration': '0.2', 'activity': 'Catching Pokemons', 'start_time': '12:48', 'is_outdoor': '1'}, {'duration': '4', 'activity': 'School', 'start_time': '13:00', 'is_outdoor': '0'}, {'duration': '0.4', 'activity': 'Bus', 'start_time': '17:00', 'is_outdoor': '1'}, {'duration': '1.5', 'activity': 'Work on assignment', 'start_time': '17:40', 'is_outdoor': '0'}, {'duration': '0.5', 'activity': 'Dinner with family', 'start_time': '19:20', 'is_outdoor': '0'}, {'duration': '2', 'activity': 'Study for exam', 'start_time': '19:50', 'is_outdoor': '0'}]\n"
     ]
    }
   ],
   "source": [
    "# Now we can just call the function with a path to a csv file.\n",
    "monday = read_activity_file('data/monday.csv')\n",
    "\n",
    "print('Monday: ', monday)"
   ]
  },
  {
   "cell_type": "code",
   "execution_count": 108,
   "metadata": {
    "collapsed": false,
    "nbpresent": {
     "id": "5d5a4fc5-a588-44e5-8b04-f3f651b65480"
    }
   },
   "outputs": [
    {
     "name": "stdout",
     "output_type": "stream",
     "text": [
      "Healthy Breakfast              at 07:00 during 0.2 hours (Outdoor: False)\n",
      "Bus                            at 07:30 during 0.5 hours (Outdoor: True)\n",
      "School                         at 08:15 during 4.0 hours (Outdoor: False)\n",
      "Lunch                          at 12:00 during 0.8 hours (Outdoor: True)\n",
      "Catching Pokemons              at 12:48 during 0.2 hours (Outdoor: True)\n",
      "School                         at 13:00 during 4.0 hours (Outdoor: False)\n",
      "Bus                            at 17:00 during 0.4 hours (Outdoor: True)\n",
      "Work on assignment             at 17:40 during 1.5 hours (Outdoor: False)\n",
      "Dinner with family             at 19:20 during 0.5 hours (Outdoor: False)\n",
      "Study for exam                 at 19:50 during 2.0 hours (Outdoor: False)\n"
     ]
    }
   ],
   "source": [
    "# Let's print it better... and put this in a function too\n",
    "\n",
    "#for activity in monday: # Then put in function\n",
    "\n",
    "def print_activities(activities):\n",
    "    ''' Prints the activities in a beautiful way.\n",
    "    '''\n",
    "    \n",
    "    for activity in activities:\n",
    "        print('{:30} at {} during {:3} hours (Outdoor: {})'.format(activity['activity'], \n",
    "                                                        activity['start_time'],\n",
    "                                                        activity['duration'],\n",
    "                                                        activity['is_outdoor']))\n",
    "    \n",
    "print_activities(monday)"
   ]
  },
  {
   "cell_type": "markdown",
   "metadata": {
    "nbpresent": {
     "id": "86443983-48df-44f0-a267-d5ca29a4433f"
    }
   },
   "source": [
    "By looking at our list of activity dictionaries, we can see all our data, but there are a little details we should take care of. \n",
    "\n",
    "1. The duration is actually a float number, but it stores this value as a string, because this is how the CSV reader works. So we need to transform all durations to floats.\n",
    "1. The `is_outdoor` key always stores 0 or 1, but as a string '0' or '1'. It would be best to update all activites and store a real boolean value!"
   ]
  },
  {
   "cell_type": "code",
   "execution_count": 109,
   "metadata": {
    "collapsed": false,
    "nbpresent": {
     "id": "1d93e7ae-536b-4dbb-a755-8e07e499d083"
    }
   },
   "outputs": [
    {
     "name": "stdout",
     "output_type": "stream",
     "text": [
      "Healthy Breakfast              at 07:00 during 0.2 hours (Outdoor: False)\n",
      "Bus                            at 07:30 during 0.5 hours (Outdoor: True)\n",
      "School                         at 08:15 during 4.0 hours (Outdoor: False)\n",
      "Lunch                          at 12:00 during 0.8 hours (Outdoor: True)\n",
      "Catching Pokemons              at 12:48 during 0.2 hours (Outdoor: True)\n",
      "School                         at 13:00 during 4.0 hours (Outdoor: False)\n",
      "Bus                            at 17:00 during 0.4 hours (Outdoor: True)\n",
      "Work on assignment             at 17:40 during 1.5 hours (Outdoor: False)\n",
      "Dinner with family             at 19:20 during 0.5 hours (Outdoor: False)\n",
      "Study for exam                 at 19:50 during 2.0 hours (Outdoor: False)\n",
      "\n",
      "Duration of first activity: 0.2 (type: <class 'float'>)\n"
     ]
    }
   ],
   "source": [
    "def fix_activites(activites):\n",
    "    ''' Fix data of all activities.\n",
    "    '''\n",
    "    for activity in activites:\n",
    "        # 1)\n",
    "        activity['duration'] = float( activity['duration'] )\n",
    "        \n",
    "        # 2)\n",
    "        # First check, if is_outdoor is not yet a boolean value (This protects us if we run this 2x)\n",
    "        if type(activity['is_outdoor']) != bool:\n",
    "            # is_outdoor becomes True if it's 1, False otherwise.\n",
    "            activity['is_outdoor'] = activity['is_outdoor'] == '1'\n",
    "            \n",
    "fix_activites(monday)            \n",
    "            \n",
    "print_activities(monday)\n",
    "\n",
    "# Testing the duration:\n",
    "print('\\nDuration of first activity: {} (type: {})'.format(monday[0]['duration'], type(monday[0]['duration'])) )"
   ]
  },
  {
   "cell_type": "markdown",
   "metadata": {
    "nbpresent": {
     "id": "422ec832-4215-4635-b09e-42b535f0273e"
    }
   },
   "source": [
    "## 2. Work with the data\n",
    "\n",
    "Now that we have our data in a good and easy to use format / data structure, we can start writing more functionalities that will do stuff on that data.\n",
    "\n",
    "We will explore a few functionalities, but if you have more ideas, feel free to try to implement it. \n",
    "\n",
    "*Note:* If you come across any error message, just try to google the exception. If you don't know how to do a particular thing, then try to google it too. **And of course, don't hesitate to contact me for if you need any help!**"
   ]
  },
  {
   "cell_type": "markdown",
   "metadata": {
    "nbpresent": {
     "id": "dbe83c64-6443-4f16-aa65-ea578f8e8fea"
    }
   },
   "source": [
    "## 2.1 The longest activity\n",
    "\n",
    "Show the activity that required the longest hours in a day! Keep in mind that an activity can happen multiple times in a day."
   ]
  },
  {
   "cell_type": "code",
   "execution_count": 115,
   "metadata": {
    "collapsed": false,
    "nbpresent": {
     "id": "2ec81d94-f702-4edd-8668-03e3721f567a"
    }
   },
   "outputs": [],
   "source": [
    "# Strategy:\n",
    "# We loop over all activities and sum identical activities together by\n",
    "# storing the activity name in a dictionaty as the key. This will make\n",
    "# sure that we store each activity once. The values are the summed durations.\n",
    "\n",
    "def longest_activity(activities):\n",
    "    ''' This function returns the longest activity of a day\n",
    "    along with the total hours.\n",
    "    '''\n",
    "    # 1) Sum all activities durations together\n",
    "    unique_activities = {} #3 key = activity, value = sum (Remember, keys are unique)\n",
    "    for activity_dict in activities: #1\n",
    "        activity = activity_dict['activity'] #2\n",
    "        duration = activity_dict['duration'] #2\n",
    "\n",
    "        if activity in unique_activities:\n",
    "            # If the key is already in, then we add the duration\n",
    "            unique_activities[activity] += duration\n",
    "        else:\n",
    "            # If the key is not in yet, we add it with the duration as a value.\n",
    "            # += would fail, because the key-value does not exist yet\n",
    "            unique_activities[activity] = duration\n",
    "        \n",
    "    # 2) Find the longest activity\n",
    "    result = None # They key (or activity) with the longest duration\n",
    "    # Loop over our new dictonary\n",
    "    # activity is the key, duration is the value\n",
    "    for activity, duration in unique_activities.items():\n",
    "        if result == None:\n",
    "            # If we have no longest activity yet, we just take the first one.\n",
    "            result = activity\n",
    "        else:\n",
    "            # Else, we compare the duration of result with the current duration\n",
    "            if float(duration) > unique_activities[result]:\n",
    "                result = activity\n",
    "                \n",
    "    # 3) Return our result as a dictionary\n",
    "    return {'activity': result, 'duration':unique_activities[result]}"
   ]
  },
  {
   "cell_type": "code",
   "execution_count": 116,
   "metadata": {
    "collapsed": false,
    "nbpresent": {
     "id": "8cf2e9ec-d109-42b7-94a5-386bf92104b7"
    }
   },
   "outputs": [
    {
     "data": {
      "text/plain": [
       "{'activity': 'School', 'duration': 8.0}"
      ]
     },
     "execution_count": 116,
     "metadata": {},
     "output_type": "execute_result"
    }
   ],
   "source": [
    "longest_activity(monday)"
   ]
  },
  {
   "cell_type": "markdown",
   "metadata": {
    "nbpresent": {
     "id": "f4705000-2593-4c2e-ac94-c716e819bc09"
    }
   },
   "source": [
    "# 3. Apply to many days:\n",
    "\n",
    "To summarize:\n",
    "\n",
    "- We can read a CSV file and store its data into dictionaries. And we have it as a function.\n",
    "- We can print the activity data in a nice way. And we have it as a function, too.\n",
    "- We can fix the values of the dictionaries (str to bool, float, ...). And we have it again as a function.\n",
    "- We can find out what is the longest activity for any list of activities! And we have it as a function!\n",
    "\n",
    "But, we did all this for one CSV file only... What if now you need to do the same steps for many more CSV files?\n",
    "\n",
    "Now, the little extra work that we spend structuring our code and making functions will **pay off big**!! We literally have a function for every step that we performed. We can now, with very little work, apply all our steps to any number of files. "
   ]
  },
  {
   "cell_type": "code",
   "execution_count": 119,
   "metadata": {
    "collapsed": true,
    "nbpresent": {
     "id": "5130b261-cb4b-4b88-b591-7f2486f3c554"
    }
   },
   "outputs": [],
   "source": [
    "days_files = [\n",
    "    'data/sunday.csv',\n",
    "    'data/monday.csv',\n",
    "    'data/friday.csv'\n",
    "]"
   ]
  },
  {
   "cell_type": "code",
   "execution_count": 120,
   "metadata": {
    "collapsed": false
   },
   "outputs": [
    {
     "name": "stdout",
     "output_type": "stream",
     "text": [
      "********************************************************************************\n",
      "File: data/sunday.csv\n",
      "Unhealthy Breakfast            at 9:00 during 0.3 hours (Outdoor: False)\n",
      "Take dog out for a walk        at 10:05 during 0.5 hours (Outdoor: True)\n",
      "Play video games               at 10:45 during 1.5 hours (Outdoor: False)\n",
      "Lunch at restaurant            at 12:30 during 1.0 hours (Outdoor: False)\n",
      "Mountain bike tour in forest   at 14:00 during 2.0 hours (Outdoor: True)\n",
      "Play video games               at 16:30 during 2.0 hours (Outdoor: False)\n",
      "Dinner                         at 19:00 during 0.6 hours (Outdoor: False)\n",
      "Longest activity: {'duration': 3.5, 'activity': 'Play video games'}\n",
      "********************************************************************************\n",
      "File: data/monday.csv\n",
      "Healthy Breakfast              at 07:00 during 0.2 hours (Outdoor: False)\n",
      "Bus                            at 07:30 during 0.5 hours (Outdoor: True)\n",
      "School                         at 08:15 during 4.0 hours (Outdoor: False)\n",
      "Lunch                          at 12:00 during 0.8 hours (Outdoor: True)\n",
      "Catching Pokemons              at 12:48 during 0.2 hours (Outdoor: True)\n",
      "School                         at 13:00 during 4.0 hours (Outdoor: False)\n",
      "Bus                            at 17:00 during 0.4 hours (Outdoor: True)\n",
      "Work on assignment             at 17:40 during 1.5 hours (Outdoor: False)\n",
      "Dinner with family             at 19:20 during 0.5 hours (Outdoor: False)\n",
      "Study for exam                 at 19:50 during 2.0 hours (Outdoor: False)\n",
      "Longest activity: {'duration': 8.0, 'activity': 'School'}\n",
      "********************************************************************************\n",
      "File: data/friday.csv\n",
      "Healthy Breakfast              at 07:00 during 0.2 hours (Outdoor: False)\n",
      "Bus                            at 07:30 during 0.5 hours (Outdoor: True)\n",
      "School                         at 08:15 during 4.0 hours (Outdoor: False)\n",
      "Bus                            at 12:00 during 0.4 hours (Outdoor: True)\n",
      "Lunch at home                  at 13:00 during 0.7 hours (Outdoor: False)\n",
      "Driving hours                  at 13:55 during 2.0 hours (Outdoor: True)\n",
      "Catching Pokemons              at 16:55 during 1.0 hours (Outdoor: True)\n",
      "Dinner                         at 18:30 during 0.6 hours (Outdoor: False)\n",
      "Movie at cinema                at 20:00 during 2.0 hours (Outdoor: False)\n",
      "Longest activity: {'duration': 4.0, 'activity': 'School'}\n"
     ]
    }
   ],
   "source": [
    "for day_file in days_files:\n",
    "    print('*' * 80)\n",
    "    print('File:', day_file)\n",
    "    \n",
    "    day = read_activity_file(day_file) # Read the file\n",
    "\n",
    "    fix_activites(day) # Fix the data\n",
    "\n",
    "    print_activities(day) # Print the data\n",
    "    \n",
    "    la = longest_activity(day) # Get the longest activity\n",
    "    print('Longest activity:', la) # Show the longest activity"
   ]
  },
  {
   "cell_type": "code",
   "execution_count": null,
   "metadata": {
    "collapsed": true
   },
   "outputs": [],
   "source": []
  }
 ],
 "metadata": {
  "anaconda-cloud": {},
  "kernelspec": {
   "display_name": "Python [Root]",
   "language": "python",
   "name": "Python [Root]"
  },
  "language_info": {
   "codemirror_mode": {
    "name": "ipython",
    "version": 3
   },
   "file_extension": ".py",
   "mimetype": "text/x-python",
   "name": "python",
   "nbconvert_exporter": "python",
   "pygments_lexer": "ipython3",
   "version": "3.5.2"
  },
  "nbpresent": {
   "slides": {},
   "themes": {}
  }
 },
 "nbformat": 4,
 "nbformat_minor": 0
}

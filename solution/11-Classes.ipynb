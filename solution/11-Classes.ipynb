{
 "cells": [
  {
   "cell_type": "markdown",
   "metadata": {},
   "source": [
    "# Classes\n",
    "\n",
    "Python is an object-oriented programming (OOP) language. As the name can hint, OOP is a conceptual model that focuses on structuring your software with objects in a particular way. \n",
    "\n",
    "Keep in mind, here we will only scratch the basics of object-oriented programming and we will focus on how to get up to speed quickly so you get the feeling for organising your code in a clean way rather than trying to learn all the abstract concepts! Python's class mecanism is not difficult because it adds very little new syntax and semantics.\n",
    "\n",
    "## What is a class?\n",
    "\n",
    "In the previous lesson we have seen that a function defines some logic and this logic is only executed when we call the function! The first step was to define the function, then we can use it. \n",
    "\n",
    "A class is also like a definition. A class defines the characteristics of any object of this class. By characteristics we actually mean attributes and functions.\n",
    "\n",
    "Imagine we would have a class defining a human. This class would hold attributes such as height, weight, age, gender, name and methods or functions such as eat(), sleep(), walk() or run().\n",
    "\n",
    "\n",
    "## What is an instance?\n",
    "\n",
    "With a class, we can create objects of this class. Those objects are called instances! \n",
    "\n",
    "Assume you have a class human, each one of us is an instance of the human class. We all share the same class or type, but all have different values for each attributes.\n",
    "\n",
    "Let's go ahead and see now how this work in Python.\n",
    "\n",
    "### Other references:\n",
    "\n",
    "- [Official Documentation](https://docs.python.org/3/tutorial/classes.html)"
   ]
  },
  {
   "cell_type": "markdown",
   "metadata": {
    "collapsed": true
   },
   "source": [
    "## 1. Define a class\n",
    "\n",
    "Inside a class, there are many different styles for defining your attributes, let's begin with a simple example and improve it later as we learn more."
   ]
  },
  {
   "cell_type": "code",
   "execution_count": 110,
   "metadata": {
    "collapsed": false
   },
   "outputs": [],
   "source": [
    "class Human():\n",
    "    ''' Represents some characteristics of a human being.\n",
    "    '''\n",
    "    name = 'Human'\n",
    "    \n",
    "    def speak(self):\n",
    "        print('Hello, I am {}!'.format(self.name))"
   ]
  },
  {
   "cell_type": "markdown",
   "metadata": {},
   "source": [
    "A few things to note:\n",
    "\n",
    "- We use the keyword **class** to define a class. The name of the class should be cammel-cased with the first letter capital (e.g. MyFirstClass). Then comes parenthesis where we define the parent class if any. (more on this later).\n",
    "- Inside the class, we can define attributes and functions as we are used to.\n",
    "- However, we have now a class scope that is refered to as **self**! **self** is the current instance of that class.\n",
    "- Each function in the class must have self as the first parameter.\n",
    "- Inside the function, we can access the class attributes and functions using self."
   ]
  },
  {
   "cell_type": "markdown",
   "metadata": {
    "collapsed": true
   },
   "source": [
    "## 2. Create an instance of a class"
   ]
  },
  {
   "cell_type": "code",
   "execution_count": 111,
   "metadata": {
    "collapsed": true
   },
   "outputs": [],
   "source": [
    "# We use function-like syntax to instantiate an object\n",
    "\n",
    "human_1 = Human()\n",
    "human_2 = Human()"
   ]
  },
  {
   "cell_type": "code",
   "execution_count": 112,
   "metadata": {
    "collapsed": false
   },
   "outputs": [
    {
     "name": "stdout",
     "output_type": "stream",
     "text": [
      "<__main__.Human object at 0x106527c18>\n",
      "<__main__.Human object at 0x106527a20>\n"
     ]
    }
   ],
   "source": [
    "print(human_1) # human_1 is an instance\n",
    "print(human_2) # human_2 is another instance"
   ]
  },
  {
   "cell_type": "code",
   "execution_count": 113,
   "metadata": {
    "collapsed": false
   },
   "outputs": [
    {
     "name": "stdout",
     "output_type": "stream",
     "text": [
      "Name of human 1: Human\n",
      "Name of human 2: Human\n"
     ]
    }
   ],
   "source": [
    "# We can access and even change the attributes\n",
    "print('Name of human 1:', human_1.name)\n",
    "print('Name of human 2:', human_2.name)"
   ]
  },
  {
   "cell_type": "code",
   "execution_count": 114,
   "metadata": {
    "collapsed": false
   },
   "outputs": [
    {
     "name": "stdout",
     "output_type": "stream",
     "text": [
      "Name of human 1: Human\n",
      "Name of human 2: Human Two\n"
     ]
    }
   ],
   "source": [
    "human_2.name = 'Human Two'\n",
    "\n",
    "print('Name of human 1:', human_1.name)\n",
    "print('Name of human 2:', human_2.name)"
   ]
  },
  {
   "cell_type": "code",
   "execution_count": 115,
   "metadata": {
    "collapsed": false
   },
   "outputs": [
    {
     "name": "stdout",
     "output_type": "stream",
     "text": [
      "Hello, I am Human!\n",
      "Hello, I am Human Two!\n"
     ]
    }
   ],
   "source": [
    "human_1.speak()\n",
    "human_2.speak()"
   ]
  },
  {
   "cell_type": "markdown",
   "metadata": {},
   "source": [
    "So far so good. We can use attributes and call functions. Each instance is unique and does't interfere with other instances.\n",
    "\n",
    "Now, we would like to improve our code and directly create a Human with the name we want.\n",
    "For this we can use the special function `__init__` (double underscores before and after) wich is the constructor of the class. The constructor is called when you create an instance of that class."
   ]
  },
  {
   "cell_type": "code",
   "execution_count": 120,
   "metadata": {
    "collapsed": true
   },
   "outputs": [],
   "source": [
    "# Redefine our human class\n",
    "\n",
    "class Human():\n",
    "\n",
    "    def __init__(self, name='Anonymous'): # name has a default value\n",
    "        # 1) self.name is a instance variable.\n",
    "        # 2) name refers to the name attribute in the local scope of this function\n",
    "        # 3) self.name has never been defined, so it will be added to this object as attribute\n",
    "        # 4) You can access and create attributes on \"self\" everywhere within the class.\n",
    "        self.name = name\n",
    "    \n",
    "    def speak(self):\n",
    "        print('Hello, I am {}!'.format(self.name))"
   ]
  },
  {
   "cell_type": "code",
   "execution_count": 121,
   "metadata": {
    "collapsed": false
   },
   "outputs": [],
   "source": [
    "# Create 3 humans\n",
    "\n",
    "john = Human('John')\n",
    "sarah = Human('Sarah')\n",
    "someone = Human()"
   ]
  },
  {
   "cell_type": "code",
   "execution_count": 122,
   "metadata": {
    "collapsed": false
   },
   "outputs": [
    {
     "name": "stdout",
     "output_type": "stream",
     "text": [
      "Hello, I am John!\n",
      "Hello, I am Sarah!\n",
      "Hello, I am Anonymous!\n"
     ]
    }
   ],
   "source": [
    "john.speak()\n",
    "sarah.speak()\n",
    "someone.speak()"
   ]
  },
  {
   "cell_type": "markdown",
   "metadata": {},
   "source": [
    "## 3. Private and public stuff\n",
    "\n",
    "In most OOP languages, you can define attributes and functions of a class as public or private. The concept is pretty simple. Public things are accessible by outside code and private things are not!\n",
    "\n",
    "In Python, there is no such things as private instance variables or methods that cannot be accessed outside of the class. However, there are some [conventions](https://docs.python.org/3/tutorial/classes.html#private-variables) that suggest to prefix variables and functions with an underscore _ to say that the function is \"private\", meaning that it is best not to call it outside of the class itself. Using a double underscore you can make it even harder to access those methods."
   ]
  },
  {
   "cell_type": "code",
   "execution_count": 123,
   "metadata": {
    "collapsed": false
   },
   "outputs": [],
   "source": [
    "class TestCar():\n",
    "    ''' This class represents a very simplified test car.\n",
    "    It can only drive and crash. Safety features are activated\n",
    "    during the crash only.\n",
    "    '''\n",
    "        \n",
    "    def drive(self): # \"Public\" method\n",
    "        print('Car is moving.')\n",
    "        \n",
    "    def crash(self): # \"Public\" method\n",
    "        print('Car did crash.')\n",
    "        self._start_alart()\n",
    "        self.__open_airbags()\n",
    "      \n",
    "    def _start_alart(self): # \"Private\" method, please don't call this\n",
    "        print('Start alarm.')\n",
    "    \n",
    "    def __open_airbags(self): # \"Private\" method, please don't call this\n",
    "        print('Open airbags')"
   ]
  },
  {
   "cell_type": "code",
   "execution_count": 124,
   "metadata": {
    "collapsed": false
   },
   "outputs": [
    {
     "name": "stdout",
     "output_type": "stream",
     "text": [
      "Car is moving.\n",
      "Car did crash.\n",
      "Start alarm.\n",
      "Open airbags\n"
     ]
    }
   ],
   "source": [
    "car = TestCar()\n",
    "\n",
    "car.drive()\n",
    "car.crash()"
   ]
  },
  {
   "cell_type": "code",
   "execution_count": 125,
   "metadata": {
    "collapsed": false
   },
   "outputs": [
    {
     "name": "stdout",
     "output_type": "stream",
     "text": [
      "Start alarm.\n"
     ]
    }
   ],
   "source": [
    "# Nothing stops me from not calling \"private\" methods...\n",
    "car._start_alart()"
   ]
  },
  {
   "cell_type": "code",
   "execution_count": 126,
   "metadata": {
    "collapsed": false
   },
   "outputs": [
    {
     "ename": "AttributeError",
     "evalue": "'TestCar' object has no attribute '__open_airbags'",
     "output_type": "error",
     "traceback": [
      "\u001b[0;31m---------------------------------------------------------------------------\u001b[0m",
      "\u001b[0;31mAttributeError\u001b[0m                            Traceback (most recent call last)",
      "\u001b[0;32m<ipython-input-126-f60d82cf8c51>\u001b[0m in \u001b[0;36m<module>\u001b[0;34m()\u001b[0m\n\u001b[1;32m      1\u001b[0m \u001b[0;31m# With double underscore, it is \"more private\"\u001b[0m\u001b[0;34m\u001b[0m\u001b[0;34m\u001b[0m\u001b[0m\n\u001b[0;32m----> 2\u001b[0;31m \u001b[0mcar\u001b[0m\u001b[0;34m.\u001b[0m\u001b[0m__open_airbags\u001b[0m\u001b[0;34m(\u001b[0m\u001b[0;34m)\u001b[0m\u001b[0;34m\u001b[0m\u001b[0m\n\u001b[0m",
      "\u001b[0;31mAttributeError\u001b[0m: 'TestCar' object has no attribute '__open_airbags'"
     ]
    }
   ],
   "source": [
    "# With double underscore, it is \"more private\"\n",
    "car.__open_airbags()"
   ]
  },
  {
   "cell_type": "markdown",
   "metadata": {},
   "source": [
    "If you read the [documentation](https://docs.python.org/3/tutorial/classes.html#private-variables) you will find out how to still access this kind-of private method. I show you how it can be done, feel free to read about it to get the details. Just avoid writing those kind of things in your code, it is poor design."
   ]
  },
  {
   "cell_type": "code",
   "execution_count": 127,
   "metadata": {
    "collapsed": false
   },
   "outputs": [
    {
     "name": "stdout",
     "output_type": "stream",
     "text": [
      "Open airbags\n"
     ]
    }
   ],
   "source": [
    "car._TestCar__open_airbags()"
   ]
  },
  {
   "cell_type": "markdown",
   "metadata": {},
   "source": [
    "## 4. Inheritence\n",
    "\n",
    "The bigger and more complex your software becomes, the more you will have similar classes that are different enough to not be in the same class. With inheritence, you can define the parent of a class. The child class **inherits** all the attributes and functions of the parent class! We will also see that the child can override the behaviour of inherited methods.\n",
    "\n",
    "To illustrate this, we will take our Human class and try to extend it to also support superheroes and zombies! And the best way to understand and appreciate inheritence is to first implement what we want to do the wrong way."
   ]
  },
  {
   "cell_type": "code",
   "execution_count": 128,
   "metadata": {
    "collapsed": true
   },
   "outputs": [],
   "source": [
    "# VERY WRONG AND UGLY WAY TO IMPLEMENT SUPERHEROES AND ZOMBIES\n",
    "\n",
    "class Humanoid():\n",
    "\n",
    "    def __init__(self, name='Anonymous', is_zombie=False, is_superhero=False):\n",
    "        self.name = name\n",
    "        self.is_zombie = is_zombie\n",
    "        self.is_superhero = is_superhero\n",
    "    \n",
    "    def speak(self):\n",
    "        ''' Zombies speak differently'''\n",
    "        if not self.is_zombie:\n",
    "            print('Hello, I am {}!'.format(self.name))\n",
    "        else:\n",
    "            print('Brainnnnssss')\n",
    "    \n",
    "    def fly(self, meters):\n",
    "        ''' Only superheroes should fly. '''\n",
    "        if self.is_superhero:\n",
    "            print('Flying {} meters.'.format(meters))\n",
    "    "
   ]
  },
  {
   "cell_type": "code",
   "execution_count": 129,
   "metadata": {
    "collapsed": false
   },
   "outputs": [
    {
     "name": "stdout",
     "output_type": "stream",
     "text": [
      "Hello, I am Mike!\n",
      "Hello, I am Superman!\n",
      "Brainnnnssss\n",
      "Flying 100 meters.\n"
     ]
    }
   ],
   "source": [
    "mike = Humanoid('Mike')\n",
    "superman = Humanoid('Superman', is_superhero=True)\n",
    "patient_zero = Humanoid(is_zombie=True)\n",
    "\n",
    "mike.speak()\n",
    "superman.speak()\n",
    "patient_zero.speak()\n",
    "\n",
    "mike.fly(10)\n",
    "superman.fly(100)\n",
    "patient_zero.fly(50)"
   ]
  },
  {
   "cell_type": "markdown",
   "metadata": {},
   "source": [
    "This is not well designed at all. Even tough we have a simple example, once we add more functionalities, it will become a mess to properly separate the logic that is specific to zombies or superheroes. Let's do it right and even simpler."
   ]
  },
  {
   "cell_type": "code",
   "execution_count": 130,
   "metadata": {
    "collapsed": true
   },
   "outputs": [],
   "source": [
    "# We can reuse our Human class defined previously as it is.\n",
    "# I will copy and paste it here, so we see it again without scolling.\n",
    "\n",
    "class Human():\n",
    "    ''' Represent a Human with a name.'''\n",
    "    \n",
    "    def __init__(self, name='Anonymous'):\n",
    "        self.name = name\n",
    "    \n",
    "    def speak(self):\n",
    "        print('Hello, I am {}!'.format(self.name))"
   ]
  },
  {
   "cell_type": "markdown",
   "metadata": {},
   "source": [
    "We define a Superhero class that will **extend** Human."
   ]
  },
  {
   "cell_type": "code",
   "execution_count": 131,
   "metadata": {
    "collapsed": true
   },
   "outputs": [],
   "source": [
    "class Superhero(Human): # Here happens the inheritence!\n",
    "    ''' Superhero is a human who can also fly.'''\n",
    "    \n",
    "    def fly(self, meters):\n",
    "        print('Flying {} meters.'.format(meters))"
   ]
  },
  {
   "cell_type": "code",
   "execution_count": 132,
   "metadata": {
    "collapsed": true
   },
   "outputs": [],
   "source": [
    "bob = Human('Bob')\n",
    "superman = Superhero('Superman') # Superhero inherits the constructor also"
   ]
  },
  {
   "cell_type": "code",
   "execution_count": 133,
   "metadata": {
    "collapsed": false
   },
   "outputs": [
    {
     "name": "stdout",
     "output_type": "stream",
     "text": [
      "Hello, I am Bob!\n",
      "Hello, I am Superman!\n"
     ]
    }
   ],
   "source": [
    "bob.speak()\n",
    "superman.speak()"
   ]
  },
  {
   "cell_type": "code",
   "execution_count": 134,
   "metadata": {
    "collapsed": false
   },
   "outputs": [
    {
     "name": "stdout",
     "output_type": "stream",
     "text": [
      "Flying 100 meters.\n"
     ]
    }
   ],
   "source": [
    "superman.fly(100) # superman, instance of Superhero, can fly"
   ]
  },
  {
   "cell_type": "code",
   "execution_count": 135,
   "metadata": {
    "collapsed": false
   },
   "outputs": [
    {
     "ename": "AttributeError",
     "evalue": "'Human' object has no attribute 'fly'",
     "output_type": "error",
     "traceback": [
      "\u001b[0;31m---------------------------------------------------------------------------\u001b[0m",
      "\u001b[0;31mAttributeError\u001b[0m                            Traceback (most recent call last)",
      "\u001b[0;32m<ipython-input-135-f81de600ad8c>\u001b[0m in \u001b[0;36m<module>\u001b[0;34m()\u001b[0m\n\u001b[0;32m----> 1\u001b[0;31m \u001b[0mbob\u001b[0m\u001b[0;34m.\u001b[0m\u001b[0mfly\u001b[0m\u001b[0;34m(\u001b[0m\u001b[0;36m10\u001b[0m\u001b[0;34m)\u001b[0m \u001b[0;31m# bob, instance of Human, has not way to fly\u001b[0m\u001b[0;34m\u001b[0m\u001b[0m\n\u001b[0m",
      "\u001b[0;31mAttributeError\u001b[0m: 'Human' object has no attribute 'fly'"
     ]
    }
   ],
   "source": [
    "bob.fly(10) # bob, instance of Human, has not way to fly"
   ]
  },
  {
   "cell_type": "markdown",
   "metadata": {},
   "source": [
    "Much better, right? Good, now we implement our zombie class and you will see how ot override a parent's method."
   ]
  },
  {
   "cell_type": "code",
   "execution_count": 136,
   "metadata": {
    "collapsed": true
   },
   "outputs": [],
   "source": [
    "class Zombie(Human):\n",
    "    ''' A zombie only wants to eat brains.'''\n",
    "    \n",
    "    def speak(self): # That's it. speak() of Human is overriden.\n",
    "        print('Brainnnnssss')\n",
    "        "
   ]
  },
  {
   "cell_type": "code",
   "execution_count": 137,
   "metadata": {
    "collapsed": true
   },
   "outputs": [],
   "source": [
    "patient_zero = Zombie('Patient Zero') # Zombie inherits the constructor from Human "
   ]
  },
  {
   "cell_type": "code",
   "execution_count": 138,
   "metadata": {
    "collapsed": false
   },
   "outputs": [
    {
     "name": "stdout",
     "output_type": "stream",
     "text": [
      "Brainnnnssss\n"
     ]
    }
   ],
   "source": [
    "patient_zero.speak()"
   ]
  },
  {
   "cell_type": "markdown",
   "metadata": {},
   "source": [
    "### isinstance and issubclass\n",
    "\n",
    "When you work with multiple classes it will be convenient to have methods to check they types.\n",
    "\n",
    "- Use **isinstance()** to check an instance’s type: **isinstance(obj, int)** will be True only if **obj.\\_\\_class\\_\\_** is int or some class derived from int.\n",
    "- Use **issubclass()** to check class inheritance: **issubclass(bool, int)** is True since bool is a subclass of int. However, **issubclass(float, int)** is False since float is not a subclass of int."
   ]
  },
  {
   "cell_type": "code",
   "execution_count": 139,
   "metadata": {
    "collapsed": false
   },
   "outputs": [
    {
     "data": {
      "text/plain": [
       "True"
      ]
     },
     "execution_count": 139,
     "metadata": {},
     "output_type": "execute_result"
    }
   ],
   "source": [
    "isinstance(bob, Human) # bob is a Human"
   ]
  },
  {
   "cell_type": "code",
   "execution_count": 140,
   "metadata": {
    "collapsed": false
   },
   "outputs": [
    {
     "data": {
      "text/plain": [
       "True"
      ]
     },
     "execution_count": 140,
     "metadata": {},
     "output_type": "execute_result"
    }
   ],
   "source": [
    "isinstance(patient_zero, Human) # patient_zero is a Human, because Zombie extends Human!"
   ]
  },
  {
   "cell_type": "code",
   "execution_count": 141,
   "metadata": {
    "collapsed": false
   },
   "outputs": [
    {
     "data": {
      "text/plain": [
       "True"
      ]
     },
     "execution_count": 141,
     "metadata": {},
     "output_type": "execute_result"
    }
   ],
   "source": [
    "# Sidenote: All classes extends the base class \"object\"\n",
    "isinstance(patient_zero, object)"
   ]
  },
  {
   "cell_type": "code",
   "execution_count": 142,
   "metadata": {
    "collapsed": false
   },
   "outputs": [
    {
     "data": {
      "text/plain": [
       "False"
      ]
     },
     "execution_count": 142,
     "metadata": {},
     "output_type": "execute_result"
    }
   ],
   "source": [
    "isinstance(superman, Zombie) # No, superman is a Superhero and Human, not a Zombie"
   ]
  },
  {
   "cell_type": "code",
   "execution_count": 143,
   "metadata": {
    "collapsed": false
   },
   "outputs": [
    {
     "data": {
      "text/plain": [
       "True"
      ]
     },
     "execution_count": 143,
     "metadata": {},
     "output_type": "execute_result"
    }
   ],
   "source": [
    "issubclass(Zombie, Human) # is Zombie a subclass of Human?"
   ]
  },
  {
   "cell_type": "code",
   "execution_count": 144,
   "metadata": {
    "collapsed": false
   },
   "outputs": [
    {
     "data": {
      "text/plain": [
       "False"
      ]
     },
     "execution_count": 144,
     "metadata": {},
     "output_type": "execute_result"
    }
   ],
   "source": [
    "issubclass(Human, Zombie) # is Human a subclass of Zombie"
   ]
  },
  {
   "cell_type": "code",
   "execution_count": null,
   "metadata": {
    "collapsed": false
   },
   "outputs": [],
   "source": []
  },
  {
   "cell_type": "code",
   "execution_count": null,
   "metadata": {
    "collapsed": true
   },
   "outputs": [],
   "source": []
  }
 ],
 "metadata": {
  "anaconda-cloud": {},
  "kernelspec": {
   "display_name": "Python [Root]",
   "language": "python",
   "name": "Python [Root]"
  },
  "language_info": {
   "codemirror_mode": {
    "name": "ipython",
    "version": 3
   },
   "file_extension": ".py",
   "mimetype": "text/x-python",
   "name": "python",
   "nbconvert_exporter": "python",
   "pygments_lexer": "ipython3",
   "version": "3.5.2"
  }
 },
 "nbformat": 4,
 "nbformat_minor": 0
}

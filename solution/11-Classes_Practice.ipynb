{
 "cells": [
  {
   "cell_type": "markdown",
   "metadata": {},
   "source": [
    "We are getting close to the end of this serie! \n",
    "In this practice we will use a bit of everything that we have seen until now, but we will focus on classes nevertheless! \n",
    "\n",
    "The takeaway of this notebook is that no matter what you are building, think first about how to organize your code in logical pieces and try to group related behaviours and actions together. Don't start hammering code right way and don't let yourself build a kind of mutant that you wish to never touch again after 2 weeks."
   ]
  },
  {
   "cell_type": "markdown",
   "metadata": {},
   "source": [
    "# Class Practice 1 : Explorer of the Sky\n",
    "\n",
    "> *Year: 2126*   \n",
    "> *Location: Unknown*\n",
    "\n",
    "> We are an explorer lost in a galaxy far away from any known civilisation. All we have is our small spaceship, some tools and supplies to survive. We are space travelling, exploring planets after planets, hoping to find our way back home!\n",
    "\n",
    "That's for the little story. Now, let's try to code something around this scenario. Here's are the things we will try to build:\n",
    "\n",
    "- We have the notion of an explorer, which is our main character or player. Our **explorer has some characteristics and can perform some actions**. For example, we might want to model health and armor points.\n",
    "- Our explorer is traveling space, so she/he probably has a strong and useful **spacesuit**, that allows her/him to **carry a few tools**.\n",
    "- We talked about supplies and tools, so we might have things like food and water or screwdrivers and hammers for example.\n",
    "- Our explorer has a spaceship that can fly, land, shoot and transport things.\n",
    "- And finally, we have many planets that vary in size, composition and of course location.\n",
    "\n",
    "Those are just a few idea. When writing a new piece of software, do not try to implement everything at once. Start small so that you can proof your concept works. Then, iterate on it and make small improvements. Just don't let the code go out of control. \n",
    "\n",
    "So, we will start implementing our explorer class, make the basic work and create a basic inventory with a few items. You will start to get the hang out of classes and Python in general. If you want to try to implement more, feel free to experiment."
   ]
  },
  {
   "cell_type": "markdown",
   "metadata": {
    "collapsed": true
   },
   "source": [
    "## 1. The Explorer"
   ]
  },
  {
   "cell_type": "code",
   "execution_count": 73,
   "metadata": {
    "collapsed": true
   },
   "outputs": [],
   "source": [
    "class Explorer():\n",
    "    ''' This is an explorer class. An explorer has a name and starts with\n",
    "    100 health, 100 armor points and an empty inventory.\n",
    "    '''\n",
    "    \n",
    "    def __init__(self, name):\n",
    "        self.name = name\n",
    "        \n",
    "        self.health = 100\n",
    "        self.armor = 100\n",
    "        \n",
    "        self.is_dead = False\n",
    "        \n",
    "        self.inventory = [] # Start with empty inventory\n",
    "      \n",
    "    ################################################\n",
    "    # Health Methods\n",
    "    ################################################\n",
    "    \n",
    "    def heal(self, amount):\n",
    "        ''' Heal the explorer by an amount.\n",
    "        The absoulte value of amount is taken, because\n",
    "        healing is always positive.\n",
    "        \n",
    "        Args: \n",
    "            amount: The amount by which the explorer is healed.\n",
    "        '''\n",
    "        amount = abs(amount)\n",
    "        self.health += amount\n",
    "\n",
    "        self.health = min(amount, 100) # Fix the healt to be maximum 100\n",
    "        \n",
    "        print('Explorer healed by {}.'.format(amount, self.health))\n",
    "        \n",
    "        self.show_health()\n",
    "        \n",
    "    def damage(self, amount):\n",
    "        ''' Damage the explorer by an amount.\n",
    "        Damage is always converted to a negative number.\n",
    "        Damage is taken from the armor first. If armor is at 0,\n",
    "        then health is reduced. If healt is at zero, the explorer\n",
    "        is marked dead.\n",
    "        \n",
    "        Args: \n",
    "            amount: The amount by which the explorer is damaged.\n",
    "        '''\n",
    "        amount = abs(amount) # Make sure amount is positive\n",
    "        \n",
    "        print('Explorer damaged by {}'.format(amount))\n",
    "        \n",
    "        if self.armor - amount >= 0:\n",
    "            self.armor -= amount\n",
    "        else:\n",
    "            # We reduce everything from our armor and take the rest from health\n",
    "            amount = amount - self.armor # Compute the rest\n",
    "            self.armor = 0               # destroy armor\n",
    "            self.health -= amount         # Reduce heatlh\n",
    "        \n",
    "        self.show_health()\n",
    "        \n",
    "        # Before we finish we check if we are alive\n",
    "        self.check_health()\n",
    "        \n",
    "    def check_health(self):\n",
    "        if self.health <= 0:\n",
    "            self.is_dead = True\n",
    "            print('{} is dead.'.format(self.name))\n",
    "     \n",
    "    ################################################\n",
    "    # Actions\n",
    "    ################################################\n",
    "    \n",
    "    def pickup_item(self, item):\n",
    "        ''' Let the explorer pick up an item and store\n",
    "        it in her/his inventory.\n",
    "        '''\n",
    "        if item:\n",
    "            self.inventory.append(item)\n",
    "            \n",
    "    def use_item(self, item_index):\n",
    "        ''' Uses an item that is in the inventory.\n",
    "        The used item is removed from the inventory.\n",
    "        \n",
    "        Returns: True if the item has been used. False otherwise.\n",
    "        '''\n",
    "        # Check if the index is correct\n",
    "        if item_index >= 0 and item_index < len(self.inventory):\n",
    "            # Retrieve the item from the inventory\n",
    "            item = self.inventory[item_index]\n",
    "            # check item, if it is food, water, etc etc\n",
    "            if isinstance(item, Food):\n",
    "                # If we successfully consume the item, increase health\n",
    "                if item.consume():\n",
    "                    self.health += item.quantity\n",
    "            \n",
    "            # We consumed the item, so we remove it.\n",
    "            self.inventory.remove(item)\n",
    "            return True\n",
    "        \n",
    "        return False\n",
    "            \n",
    "    ################################################\n",
    "    # Methods to show the explorers status\n",
    "    ################################################\n",
    "    \n",
    "    def show_health(self):\n",
    "        print('Health: {}'.format(self.health))\n",
    "        print('Armor : {}'.format(self.armor))\n",
    "        \n",
    "    def show_inventory(self):\n",
    "        print('> Inventory of {} contains:'.format(self.name))\n",
    "        if len(self.inventory) == 0:\n",
    "            print('Nothing...')\n",
    "        for item in self.inventory:\n",
    "            print( str(item) )\n",
    "        print('< < <')"
   ]
  },
  {
   "cell_type": "code",
   "execution_count": 74,
   "metadata": {
    "collapsed": false
   },
   "outputs": [
    {
     "name": "stdout",
     "output_type": "stream",
     "text": [
      "Health: 100\n",
      "Armor : 100\n",
      "> Inventory of Chuck contains:\n",
      "Nothing...\n",
      "< < <\n"
     ]
    }
   ],
   "source": [
    "explorer = Explorer(name='Chuck')\n",
    "explorer.show_health()\n",
    "explorer.show_inventory()"
   ]
  },
  {
   "cell_type": "code",
   "execution_count": 75,
   "metadata": {
    "collapsed": false
   },
   "outputs": [
    {
     "name": "stdout",
     "output_type": "stream",
     "text": [
      "Explorer damaged by 50\n",
      "Health: 100\n",
      "Armor : 50\n"
     ]
    }
   ],
   "source": [
    "# We can damage him:\n",
    "explorer.damage(50)"
   ]
  },
  {
   "cell_type": "code",
   "execution_count": 76,
   "metadata": {
    "collapsed": false
   },
   "outputs": [
    {
     "name": "stdout",
     "output_type": "stream",
     "text": [
      "Explorer damaged by 70\n",
      "Health: 80\n",
      "Armor : 0\n"
     ]
    }
   ],
   "source": [
    "explorer.damage(70)"
   ]
  },
  {
   "cell_type": "markdown",
   "metadata": {},
   "source": [
    "# 2. Inventory and Items"
   ]
  },
  {
   "cell_type": "code",
   "execution_count": 77,
   "metadata": {
    "collapsed": true
   },
   "outputs": [],
   "source": [
    "class Food():\n",
    "    ''' Represents any kind of food.\n",
    "    The food has a name and a quantity. The quanity\n",
    "    is used to add health points. (1 unit = 1 health)\n",
    "    '''\n",
    "    def __init__(self, name, quantity):\n",
    "        self.name = name\n",
    "        self.quantity = quantity\n",
    "        self.consumed = False\n",
    "    \n",
    "    def consume(self):\n",
    "        ''' Consumes the food. Food can only be consumed once.\n",
    "        Return True if the food is consumed, False otherwise.\n",
    "        '''\n",
    "        if not self.consumed:\n",
    "            print('Consuming {} (Quantity: {})'.format(self.name, self.quantity))\n",
    "            self._play_sound()\n",
    "            self.consumed = True\n",
    "            return True\n",
    "        else:\n",
    "            print('Already consumed.')\n",
    "            return False\n",
    "        \n",
    "    def _play_sound(self):\n",
    "        print('Nom Nom Nom.')\n",
    "    \n",
    "    # Overriding the method that converts this obejct to a string.\n",
    "    # Useful to override for printing\n",
    "    def __str__(self):\n",
    "        return '{} (Quantity: {}, Consumed: {})'.format(self.name, self.quantity, self.consumed)"
   ]
  },
  {
   "cell_type": "code",
   "execution_count": 78,
   "metadata": {
    "collapsed": true
   },
   "outputs": [],
   "source": [
    "# We don't want to define our objects likes this.\n",
    "# There is too much repetitions.\n",
    "\n",
    "water_bottle_1 = Food('Water', 20)\n",
    "water_bottle_2 = Food('Water', 20)\n",
    "water_bottle_3 = Food('Water', 20)\n",
    "\n"
   ]
  },
  {
   "cell_type": "code",
   "execution_count": 79,
   "metadata": {
    "collapsed": true
   },
   "outputs": [],
   "source": [
    "class BeanCan(Food):\n",
    "    \n",
    "    def __init__(self):\n",
    "        super().__init__('Can of beans', 20)\n",
    "        \n",
    "class WaterBottle(Food):\n",
    "    \n",
    "    def __init__(self):\n",
    "        super().__init__('Bottle of water', 15)\n",
    "\n",
    "    def _play_sound(self):\n",
    "        print('Glou Glou Glou.')"
   ]
  },
  {
   "cell_type": "code",
   "execution_count": 80,
   "metadata": {
    "collapsed": false
   },
   "outputs": [
    {
     "name": "stdout",
     "output_type": "stream",
     "text": [
      "Consuming Can of beans (Quantity: 20)\n",
      "Nom Nom Nom.\n",
      "Consuming Bottle of water (Quantity: 15)\n",
      "Glou Glou Glou.\n"
     ]
    }
   ],
   "source": [
    "b = BeanCan()\n",
    "consumed = b.consume()\n",
    "\n",
    "w = WaterBottle()\n",
    "consumed = w.consume()"
   ]
  },
  {
   "cell_type": "code",
   "execution_count": 81,
   "metadata": {
    "collapsed": true
   },
   "outputs": [],
   "source": [
    "# We could use them like this:\n",
    "items = [BeanCan(), BeanCan(), WaterBottle()]"
   ]
  },
  {
   "cell_type": "markdown",
   "metadata": {},
   "source": [
    "### \\_\\_str\\_\\_\n",
    "\n",
    "By overriding the `__str__` method and make it return a custom string, we can greatly improve our code and make our life much easier.\n",
    "\n",
    "`__str__` is what is called when you do a `str(someobject)` on some object."
   ]
  },
  {
   "cell_type": "code",
   "execution_count": 82,
   "metadata": {
    "collapsed": false
   },
   "outputs": [
    {
     "name": "stdout",
     "output_type": "stream",
     "text": [
      "Can of beans (Quantity: 20, Consumed: False)\n",
      "Can of beans (Quantity: 20, Consumed: False)\n",
      "Bottle of water (Quantity: 15, Consumed: False)\n"
     ]
    }
   ],
   "source": [
    "for i in items:\n",
    "    print(i) # print() uses str() for printing objects"
   ]
  },
  {
   "cell_type": "markdown",
   "metadata": {},
   "source": [
    "Note that 2 instance of the same class are not nesseraly the same."
   ]
  },
  {
   "cell_type": "code",
   "execution_count": 83,
   "metadata": {
    "collapsed": false
   },
   "outputs": [
    {
     "data": {
      "text/plain": [
       "False"
      ]
     },
     "execution_count": 83,
     "metadata": {},
     "output_type": "execute_result"
    }
   ],
   "source": [
    "BeanCan() in items"
   ]
  },
  {
   "cell_type": "code",
   "execution_count": 84,
   "metadata": {
    "collapsed": false
   },
   "outputs": [
    {
     "data": {
      "text/plain": [
       "False"
      ]
     },
     "execution_count": 84,
     "metadata": {},
     "output_type": "execute_result"
    }
   ],
   "source": [
    "WaterBottle() == items[2]"
   ]
  },
  {
   "cell_type": "markdown",
   "metadata": {
    "collapsed": false
   },
   "source": [
    "Let's go back up and change our code. Then we come back here and test it."
   ]
  },
  {
   "cell_type": "code",
   "execution_count": 85,
   "metadata": {
    "collapsed": false
   },
   "outputs": [
    {
     "name": "stdout",
     "output_type": "stream",
     "text": [
      "Health: 80\n",
      "Armor : 0\n"
     ]
    }
   ],
   "source": [
    "explorer.show_health()"
   ]
  },
  {
   "cell_type": "code",
   "execution_count": 86,
   "metadata": {
    "collapsed": true
   },
   "outputs": [],
   "source": [
    "# Let's pick up a few supplies\n",
    "explorer.pickup_item(WaterBottle())"
   ]
  },
  {
   "cell_type": "code",
   "execution_count": 91,
   "metadata": {
    "collapsed": false
   },
   "outputs": [
    {
     "name": "stdout",
     "output_type": "stream",
     "text": [
      "> Inventory of Chuck contains:\n",
      "Nothing...\n",
      "< < <\n"
     ]
    }
   ],
   "source": [
    "explorer.show_inventory()"
   ]
  },
  {
   "cell_type": "code",
   "execution_count": 90,
   "metadata": {
    "collapsed": false
   },
   "outputs": [
    {
     "data": {
      "text/plain": [
       "False"
      ]
     },
     "execution_count": 90,
     "metadata": {},
     "output_type": "execute_result"
    }
   ],
   "source": [
    "# Great, let's drink. We have a method for that.\n",
    "explorer.use_item(0) "
   ]
  },
  {
   "cell_type": "code",
   "execution_count": 89,
   "metadata": {
    "collapsed": false
   },
   "outputs": [
    {
     "name": "stdout",
     "output_type": "stream",
     "text": [
      "Health: 95\n",
      "Armor : 0\n"
     ]
    }
   ],
   "source": [
    "explorer.show_health()"
   ]
  },
  {
   "cell_type": "code",
   "execution_count": null,
   "metadata": {
    "collapsed": true
   },
   "outputs": [],
   "source": []
  }
 ],
 "metadata": {
  "anaconda-cloud": {},
  "kernelspec": {
   "display_name": "Python [Root]",
   "language": "python",
   "name": "Python [Root]"
  },
  "language_info": {
   "codemirror_mode": {
    "name": "ipython",
    "version": 3
   },
   "file_extension": ".py",
   "mimetype": "text/x-python",
   "name": "python",
   "nbconvert_exporter": "python",
   "pygments_lexer": "ipython3",
   "version": "3.5.2"
  }
 },
 "nbformat": 4,
 "nbformat_minor": 0
}
